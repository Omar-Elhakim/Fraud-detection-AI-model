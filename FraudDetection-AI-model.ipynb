{
 "cells": [
  {
   "cell_type": "markdown",
   "id": "2e9963ae",
   "metadata": {
    "papermill": {
     "duration": 0.004314,
     "end_time": "2024-04-24T11:44:18.791129",
     "exception": false,
     "start_time": "2024-04-24T11:44:18.786815",
     "status": "completed"
    },
    "tags": []
   },
   "source": [
    "# Imports"
   ]
  },
  {
   "cell_type": "code",
   "execution_count": 1,
   "id": "3243481e",
   "metadata": {
    "_cell_guid": "b1076dfc-b9ad-4769-8c92-a6c4dae69d19",
    "_uuid": "8f2839f25d086af736a60e9eeb907d3b93b6e0e5",
    "execution": {
     "iopub.execute_input": "2024-04-24T11:44:18.802600Z",
     "iopub.status.busy": "2024-04-24T11:44:18.801974Z",
     "iopub.status.idle": "2024-04-24T11:44:20.087692Z",
     "shell.execute_reply": "2024-04-24T11:44:20.086239Z"
    },
    "papermill": {
     "duration": 1.294609,
     "end_time": "2024-04-24T11:44:20.090646",
     "exception": false,
     "start_time": "2024-04-24T11:44:18.796037",
     "status": "completed"
    },
    "tags": []
   },
   "outputs": [],
   "source": [
    "import numpy as np\n",
    "import pandas as pd"
   ]
  },
  {
   "cell_type": "markdown",
   "id": "21f9b82d",
   "metadata": {
    "papermill": {
     "duration": 0.003267,
     "end_time": "2024-04-24T11:44:20.097595",
     "exception": false,
     "start_time": "2024-04-24T11:44:20.094328",
     "status": "completed"
    },
    "tags": []
   },
   "source": [
    "# Data Preprocessing "
   ]
  },
  {
   "cell_type": "code",
   "execution_count": 2,
   "id": "6580dd59",
   "metadata": {
    "execution": {
     "iopub.execute_input": "2024-04-24T11:44:20.106546Z",
     "iopub.status.busy": "2024-04-24T11:44:20.106032Z",
     "iopub.status.idle": "2024-04-24T11:46:08.166683Z",
     "shell.execute_reply": "2024-04-24T11:46:08.165355Z"
    },
    "papermill": {
     "duration": 108.068676,
     "end_time": "2024-04-24T11:46:08.169759",
     "exception": false,
     "start_time": "2024-04-24T11:44:20.101083",
     "status": "completed"
    },
    "tags": []
   },
   "outputs": [],
   "source": [
    "train_df=pd.read_csv('/kaggle/input/frauddetection-data/fraudTrain.csv')\n",
    "test_df=pd.read_excel('/kaggle/input/frauddetection-data/fraudTest.xlsx')"
   ]
  },
  {
   "cell_type": "code",
   "execution_count": 3,
   "id": "19f9be0e",
   "metadata": {
    "execution": {
     "iopub.execute_input": "2024-04-24T11:46:08.179961Z",
     "iopub.status.busy": "2024-04-24T11:46:08.179411Z",
     "iopub.status.idle": "2024-04-24T11:46:08.343310Z",
     "shell.execute_reply": "2024-04-24T11:46:08.342081Z"
    },
    "papermill": {
     "duration": 0.171971,
     "end_time": "2024-04-24T11:46:08.346135",
     "exception": false,
     "start_time": "2024-04-24T11:46:08.174164",
     "status": "completed"
    },
    "tags": []
   },
   "outputs": [
    {
     "data": {
      "text/html": [
       "<div>\n",
       "<style scoped>\n",
       "    .dataframe tbody tr th:only-of-type {\n",
       "        vertical-align: middle;\n",
       "    }\n",
       "\n",
       "    .dataframe tbody tr th {\n",
       "        vertical-align: top;\n",
       "    }\n",
       "\n",
       "    .dataframe thead th {\n",
       "        text-align: right;\n",
       "    }\n",
       "</style>\n",
       "<table border=\"1\" class=\"dataframe\">\n",
       "  <thead>\n",
       "    <tr style=\"text-align: right;\">\n",
       "      <th></th>\n",
       "      <th>ID</th>\n",
       "      <th>Time</th>\n",
       "      <th>Card Number</th>\n",
       "      <th>merchant</th>\n",
       "      <th>category</th>\n",
       "      <th>Amount</th>\n",
       "      <th>firstName</th>\n",
       "      <th>lastName</th>\n",
       "      <th>trans_num</th>\n",
       "      <th>is_fraud</th>\n",
       "    </tr>\n",
       "  </thead>\n",
       "  <tbody>\n",
       "    <tr>\n",
       "      <th>0</th>\n",
       "      <td>0</td>\n",
       "      <td>1/1/2019 0:00</td>\n",
       "      <td>2.700000e+15</td>\n",
       "      <td>fraud_Rippin, Kub and Mann</td>\n",
       "      <td>misc_net</td>\n",
       "      <td>4.97</td>\n",
       "      <td>Jennifer</td>\n",
       "      <td>Banks</td>\n",
       "      <td>0b242abb623afc578575680df30655b9</td>\n",
       "      <td>0.0</td>\n",
       "    </tr>\n",
       "    <tr>\n",
       "      <th>1</th>\n",
       "      <td>1</td>\n",
       "      <td>1/1/2019 0:00</td>\n",
       "      <td>6.300000e+11</td>\n",
       "      <td>fraud_Heller, Gutmann and Zieme</td>\n",
       "      <td>grocery_pos</td>\n",
       "      <td>107.23</td>\n",
       "      <td>Stephanie</td>\n",
       "      <td>Gill</td>\n",
       "      <td>1f76529f8574734946361c461b024d99</td>\n",
       "      <td>0.0</td>\n",
       "    </tr>\n",
       "    <tr>\n",
       "      <th>2</th>\n",
       "      <td>2</td>\n",
       "      <td>1/1/2019 0:00</td>\n",
       "      <td>3.890000e+13</td>\n",
       "      <td>fraud_Lind-Buckridge</td>\n",
       "      <td>entertainment</td>\n",
       "      <td>220.11</td>\n",
       "      <td>Edward</td>\n",
       "      <td>Sanchez</td>\n",
       "      <td>a1a22d70485983eac12b5b88dad1cf95</td>\n",
       "      <td>0.0</td>\n",
       "    </tr>\n",
       "    <tr>\n",
       "      <th>3</th>\n",
       "      <td>3</td>\n",
       "      <td>1/1/2019 0:01</td>\n",
       "      <td>3.530000e+15</td>\n",
       "      <td>fraud_Kutch, Hermiston and Farrell</td>\n",
       "      <td>gas_transport</td>\n",
       "      <td>45.00</td>\n",
       "      <td>Jeremy</td>\n",
       "      <td>White</td>\n",
       "      <td>6b849c168bdad6f867558c3793159a81</td>\n",
       "      <td>0.0</td>\n",
       "    </tr>\n",
       "    <tr>\n",
       "      <th>4</th>\n",
       "      <td>4</td>\n",
       "      <td>1/1/2019 0:03</td>\n",
       "      <td>3.760000e+14</td>\n",
       "      <td>fraud_Keeling-Crist</td>\n",
       "      <td>misc_pos</td>\n",
       "      <td>41.96</td>\n",
       "      <td>Tyler</td>\n",
       "      <td>Garcia</td>\n",
       "      <td>a41d7549acf90789359a9aa5346dcb46</td>\n",
       "      <td>0.0</td>\n",
       "    </tr>\n",
       "  </tbody>\n",
       "</table>\n",
       "</div>"
      ],
      "text/plain": [
       "   ID           Time   Card Number                            merchant  \\\n",
       "0   0  1/1/2019 0:00  2.700000e+15          fraud_Rippin, Kub and Mann   \n",
       "1   1  1/1/2019 0:00  6.300000e+11     fraud_Heller, Gutmann and Zieme   \n",
       "2   2  1/1/2019 0:00  3.890000e+13                fraud_Lind-Buckridge   \n",
       "3   3  1/1/2019 0:01  3.530000e+15  fraud_Kutch, Hermiston and Farrell   \n",
       "4   4  1/1/2019 0:03  3.760000e+14                 fraud_Keeling-Crist   \n",
       "\n",
       "        category  Amount  firstName lastName  \\\n",
       "0       misc_net    4.97   Jennifer    Banks   \n",
       "1    grocery_pos  107.23  Stephanie     Gill   \n",
       "2  entertainment  220.11     Edward  Sanchez   \n",
       "3  gas_transport   45.00     Jeremy    White   \n",
       "4       misc_pos   41.96      Tyler   Garcia   \n",
       "\n",
       "                          trans_num  is_fraud  \n",
       "0  0b242abb623afc578575680df30655b9       0.0  \n",
       "1  1f76529f8574734946361c461b024d99       0.0  \n",
       "2  a1a22d70485983eac12b5b88dad1cf95       0.0  \n",
       "3  6b849c168bdad6f867558c3793159a81       0.0  \n",
       "4  a41d7549acf90789359a9aa5346dcb46       0.0  "
      ]
     },
     "execution_count": 3,
     "metadata": {},
     "output_type": "execute_result"
    }
   ],
   "source": [
    "train_df.head()\n",
    "# TODO Tebry"
   ]
  },
  {
   "cell_type": "markdown",
   "id": "5a137dde",
   "metadata": {
    "papermill": {
     "duration": 0.005424,
     "end_time": "2024-04-24T11:46:08.356032",
     "exception": false,
     "start_time": "2024-04-24T11:46:08.350608",
     "status": "completed"
    },
    "tags": []
   },
   "source": [
    "# Feature Engineering"
   ]
  },
  {
   "cell_type": "code",
   "execution_count": 4,
   "id": "38e29e9a",
   "metadata": {
    "execution": {
     "iopub.execute_input": "2024-04-24T11:46:08.365928Z",
     "iopub.status.busy": "2024-04-24T11:46:08.365489Z",
     "iopub.status.idle": "2024-04-24T11:46:08.370793Z",
     "shell.execute_reply": "2024-04-24T11:46:08.369354Z"
    },
    "papermill": {
     "duration": 0.013338,
     "end_time": "2024-04-24T11:46:08.373407",
     "exception": false,
     "start_time": "2024-04-24T11:46:08.360069",
     "status": "completed"
    },
    "tags": []
   },
   "outputs": [],
   "source": [
    "# TODO Tebry"
   ]
  },
  {
   "cell_type": "markdown",
   "id": "03b853d7",
   "metadata": {
    "papermill": {
     "duration": 0.003738,
     "end_time": "2024-04-24T11:46:08.381429",
     "exception": false,
     "start_time": "2024-04-24T11:46:08.377691",
     "status": "completed"
    },
    "tags": []
   },
   "source": [
    "# Model Selection and Training"
   ]
  },
  {
   "cell_type": "code",
   "execution_count": 5,
   "id": "2db23336",
   "metadata": {
    "execution": {
     "iopub.execute_input": "2024-04-24T11:46:08.391177Z",
     "iopub.status.busy": "2024-04-24T11:46:08.390746Z",
     "iopub.status.idle": "2024-04-24T11:46:08.395909Z",
     "shell.execute_reply": "2024-04-24T11:46:08.394724Z"
    },
    "papermill": {
     "duration": 0.012756,
     "end_time": "2024-04-24T11:46:08.398240",
     "exception": false,
     "start_time": "2024-04-24T11:46:08.385484",
     "status": "completed"
    },
    "tags": []
   },
   "outputs": [],
   "source": [
    "# TODO Hakim and Ahmad"
   ]
  },
  {
   "cell_type": "markdown",
   "id": "5dff090c",
   "metadata": {
    "papermill": {
     "duration": 0.003656,
     "end_time": "2024-04-24T11:46:08.406028",
     "exception": false,
     "start_time": "2024-04-24T11:46:08.402372",
     "status": "completed"
    },
    "tags": []
   },
   "source": [
    "# Model Evaluation"
   ]
  },
  {
   "cell_type": "code",
   "execution_count": 6,
   "id": "11c876f4",
   "metadata": {
    "execution": {
     "iopub.execute_input": "2024-04-24T11:46:08.415673Z",
     "iopub.status.busy": "2024-04-24T11:46:08.415260Z",
     "iopub.status.idle": "2024-04-24T11:46:08.420926Z",
     "shell.execute_reply": "2024-04-24T11:46:08.419599Z"
    },
    "papermill": {
     "duration": 0.013636,
     "end_time": "2024-04-24T11:46:08.423603",
     "exception": false,
     "start_time": "2024-04-24T11:46:08.409967",
     "status": "completed"
    },
    "tags": []
   },
   "outputs": [],
   "source": [
    "# TODO Watany "
   ]
  },
  {
   "cell_type": "markdown",
   "id": "310a9ed2",
   "metadata": {
    "papermill": {
     "duration": 0.004019,
     "end_time": "2024-04-24T11:46:08.432081",
     "exception": false,
     "start_time": "2024-04-24T11:46:08.428062",
     "status": "completed"
    },
    "tags": []
   },
   "source": [
    "# Model Tuning"
   ]
  },
  {
   "cell_type": "code",
   "execution_count": 7,
   "id": "9e420b83",
   "metadata": {
    "execution": {
     "iopub.execute_input": "2024-04-24T11:46:08.442715Z",
     "iopub.status.busy": "2024-04-24T11:46:08.442312Z",
     "iopub.status.idle": "2024-04-24T11:46:08.447222Z",
     "shell.execute_reply": "2024-04-24T11:46:08.446012Z"
    },
    "papermill": {
     "duration": 0.012802,
     "end_time": "2024-04-24T11:46:08.449443",
     "exception": false,
     "start_time": "2024-04-24T11:46:08.436641",
     "status": "completed"
    },
    "tags": []
   },
   "outputs": [],
   "source": [
    "# TODO Osama"
   ]
  },
  {
   "cell_type": "markdown",
   "id": "797ce366",
   "metadata": {
    "papermill": {
     "duration": 0.003737,
     "end_time": "2024-04-24T11:46:08.457332",
     "exception": false,
     "start_time": "2024-04-24T11:46:08.453595",
     "status": "completed"
    },
    "tags": []
   },
   "source": [
    "# Deployment and Monitoring:"
   ]
  },
  {
   "cell_type": "code",
   "execution_count": 8,
   "id": "8ef328e0",
   "metadata": {
    "execution": {
     "iopub.execute_input": "2024-04-24T11:46:08.468548Z",
     "iopub.status.busy": "2024-04-24T11:46:08.468003Z",
     "iopub.status.idle": "2024-04-24T11:46:08.473273Z",
     "shell.execute_reply": "2024-04-24T11:46:08.471593Z"
    },
    "papermill": {
     "duration": 0.01344,
     "end_time": "2024-04-24T11:46:08.476029",
     "exception": false,
     "start_time": "2024-04-24T11:46:08.462589",
     "status": "completed"
    },
    "tags": []
   },
   "outputs": [],
   "source": [
    "# TODO Saed"
   ]
  }
 ],
 "metadata": {
  "kaggle": {
   "accelerator": "none",
   "dataSources": [
    {
     "datasetId": 4869235,
     "sourceId": 8215243,
     "sourceType": "datasetVersion"
    }
   ],
   "dockerImageVersionId": 30702,
   "isGpuEnabled": false,
   "isInternetEnabled": true,
   "language": "python",
   "sourceType": "notebook"
  },
  "kernelspec": {
   "display_name": "Python 3",
   "language": "python",
   "name": "python3"
  },
  "language_info": {
   "codemirror_mode": {
    "name": "ipython",
    "version": 3
   },
   "file_extension": ".py",
   "mimetype": "text/x-python",
   "name": "python",
   "nbconvert_exporter": "python",
   "pygments_lexer": "ipython3",
   "version": "3.10.13"
  },
  "papermill": {
   "default_parameters": {},
   "duration": 113.541519,
   "end_time": "2024-04-24T11:46:09.203722",
   "environment_variables": {},
   "exception": null,
   "input_path": "__notebook__.ipynb",
   "output_path": "__notebook__.ipynb",
   "parameters": {},
   "start_time": "2024-04-24T11:44:15.662203",
   "version": "2.5.0"
  }
 },
 "nbformat": 4,
 "nbformat_minor": 5
}
