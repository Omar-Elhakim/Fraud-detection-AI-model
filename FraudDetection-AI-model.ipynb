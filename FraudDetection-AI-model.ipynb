{
 "cells": [
  {
   "cell_type": "markdown",
   "id": "4c73033f",
   "metadata": {
    "papermill": {
     "duration": 0.009272,
     "end_time": "2024-05-11T00:25:36.829906",
     "exception": false,
     "start_time": "2024-05-11T00:25:36.820634",
     "status": "completed"
    },
    "tags": []
   },
   "source": [
    "# Imports"
   ]
  },
  {
   "cell_type": "code",
   "execution_count": 1,
   "id": "208f6a15",
   "metadata": {
    "_cell_guid": "b1076dfc-b9ad-4769-8c92-a6c4dae69d19",
    "_uuid": "8f2839f25d086af736a60e9eeb907d3b93b6e0e5",
    "execution": {
     "iopub.execute_input": "2024-05-11T00:25:36.850206Z",
     "iopub.status.busy": "2024-05-11T00:25:36.849554Z",
     "iopub.status.idle": "2024-05-11T00:25:39.390904Z",
     "shell.execute_reply": "2024-05-11T00:25:39.389497Z"
    },
    "papermill": {
     "duration": 2.554481,
     "end_time": "2024-05-11T00:25:39.393373",
     "exception": false,
     "start_time": "2024-05-11T00:25:36.838892",
     "status": "completed"
    },
    "tags": []
   },
   "outputs": [],
   "source": [
    "# Hakim\n",
    "import numpy as np\n",
    "import pandas as pd\n",
    "from sklearn.svm import *\n",
    "from sklearn.metrics import (\n",
    "    f1_score,\n",
    "    precision_score,\n",
    "    recall_score,\n",
    "    roc_auc_score,\n",
    "    confusion_matrix,\n",
    "    balanced_accuracy_score,\n",
    "    precision_recall_curve,\n",
    "    roc_curve,\n",
    ")\n",
    "import matplotlib.pyplot as plt\n",
    "from sklearn.inspection import DecisionBoundaryDisplay\n",
    "import gc\n",
    "import pickle"
   ]
  },
  {
   "cell_type": "markdown",
   "id": "49caafb9",
   "metadata": {
    "papermill": {
     "duration": 0.008007,
     "end_time": "2024-05-11T00:25:39.409669",
     "exception": false,
     "start_time": "2024-05-11T00:25:39.401662",
     "status": "completed"
    },
    "tags": []
   },
   "source": [
    "# Data Preprocessing "
   ]
  },
  {
   "cell_type": "code",
   "execution_count": 2,
   "id": "ad37da44",
   "metadata": {
    "execution": {
     "iopub.execute_input": "2024-05-11T00:25:39.429597Z",
     "iopub.status.busy": "2024-05-11T00:25:39.428886Z",
     "iopub.status.idle": "2024-05-11T00:27:09.294810Z",
     "shell.execute_reply": "2024-05-11T00:27:09.293359Z"
    },
    "papermill": {
     "duration": 89.879035,
     "end_time": "2024-05-11T00:27:09.296976",
     "exception": false,
     "start_time": "2024-05-11T00:25:39.417941",
     "status": "completed"
    },
    "tags": []
   },
   "outputs": [],
   "source": [
    "# Hakim\n",
    "train_df = pd.read_csv(\n",
    "    \"/kaggle/input/frauddetection-data/fraudTrain.csv\", nrows=100000\n",
    ")  # no need for all the data\n",
    "test_df = pd.read_excel(\"/kaggle/input/frauddetection-data/fraudTest.xlsx\")"
   ]
  },
  {
   "cell_type": "code",
   "execution_count": 3,
   "id": "5618432c",
   "metadata": {
    "execution": {
     "iopub.execute_input": "2024-05-11T00:27:09.315657Z",
     "iopub.status.busy": "2024-05-11T00:27:09.315031Z",
     "iopub.status.idle": "2024-05-11T00:27:09.482408Z",
     "shell.execute_reply": "2024-05-11T00:27:09.481159Z"
    },
    "papermill": {
     "duration": 0.178848,
     "end_time": "2024-05-11T00:27:09.484317",
     "exception": false,
     "start_time": "2024-05-11T00:27:09.305469",
     "status": "completed"
    },
    "tags": []
   },
   "outputs": [
    {
     "data": {
      "text/html": [
       "<div>\n",
       "<style scoped>\n",
       "    .dataframe tbody tr th:only-of-type {\n",
       "        vertical-align: middle;\n",
       "    }\n",
       "\n",
       "    .dataframe tbody tr th {\n",
       "        vertical-align: top;\n",
       "    }\n",
       "\n",
       "    .dataframe thead th {\n",
       "        text-align: right;\n",
       "    }\n",
       "</style>\n",
       "<table border=\"1\" class=\"dataframe\">\n",
       "  <thead>\n",
       "    <tr style=\"text-align: right;\">\n",
       "      <th></th>\n",
       "      <th>ID</th>\n",
       "      <th>Time</th>\n",
       "      <th>Card Number</th>\n",
       "      <th>merchant</th>\n",
       "      <th>category</th>\n",
       "      <th>Amount</th>\n",
       "      <th>firstName</th>\n",
       "      <th>lastName</th>\n",
       "      <th>trans_num</th>\n",
       "      <th>is_fraud</th>\n",
       "    </tr>\n",
       "  </thead>\n",
       "  <tbody>\n",
       "    <tr>\n",
       "      <th>0</th>\n",
       "      <td>0</td>\n",
       "      <td>1/1/2019 0:00</td>\n",
       "      <td>2.700000e+15</td>\n",
       "      <td>fraud_Rippin, Kub and Mann</td>\n",
       "      <td>misc_net</td>\n",
       "      <td>4.97</td>\n",
       "      <td>Jennifer</td>\n",
       "      <td>Banks</td>\n",
       "      <td>0b242abb623afc578575680df30655b9</td>\n",
       "      <td>0</td>\n",
       "    </tr>\n",
       "    <tr>\n",
       "      <th>1</th>\n",
       "      <td>1</td>\n",
       "      <td>1/1/2019 0:00</td>\n",
       "      <td>6.300000e+11</td>\n",
       "      <td>fraud_Heller, Gutmann and Zieme</td>\n",
       "      <td>grocery_pos</td>\n",
       "      <td>107.23</td>\n",
       "      <td>Stephanie</td>\n",
       "      <td>Gill</td>\n",
       "      <td>1f76529f8574734946361c461b024d99</td>\n",
       "      <td>0</td>\n",
       "    </tr>\n",
       "    <tr>\n",
       "      <th>2</th>\n",
       "      <td>2</td>\n",
       "      <td>1/1/2019 0:00</td>\n",
       "      <td>3.890000e+13</td>\n",
       "      <td>fraud_Lind-Buckridge</td>\n",
       "      <td>entertainment</td>\n",
       "      <td>220.11</td>\n",
       "      <td>Edward</td>\n",
       "      <td>Sanchez</td>\n",
       "      <td>a1a22d70485983eac12b5b88dad1cf95</td>\n",
       "      <td>0</td>\n",
       "    </tr>\n",
       "    <tr>\n",
       "      <th>3</th>\n",
       "      <td>3</td>\n",
       "      <td>1/1/2019 0:01</td>\n",
       "      <td>3.530000e+15</td>\n",
       "      <td>fraud_Kutch, Hermiston and Farrell</td>\n",
       "      <td>gas_transport</td>\n",
       "      <td>45.00</td>\n",
       "      <td>Jeremy</td>\n",
       "      <td>White</td>\n",
       "      <td>6b849c168bdad6f867558c3793159a81</td>\n",
       "      <td>0</td>\n",
       "    </tr>\n",
       "    <tr>\n",
       "      <th>4</th>\n",
       "      <td>4</td>\n",
       "      <td>1/1/2019 0:03</td>\n",
       "      <td>3.760000e+14</td>\n",
       "      <td>fraud_Keeling-Crist</td>\n",
       "      <td>misc_pos</td>\n",
       "      <td>41.96</td>\n",
       "      <td>Tyler</td>\n",
       "      <td>Garcia</td>\n",
       "      <td>a41d7549acf90789359a9aa5346dcb46</td>\n",
       "      <td>0</td>\n",
       "    </tr>\n",
       "  </tbody>\n",
       "</table>\n",
       "</div>"
      ],
      "text/plain": [
       "   ID           Time   Card Number                            merchant  \\\n",
       "0   0  1/1/2019 0:00  2.700000e+15          fraud_Rippin, Kub and Mann   \n",
       "1   1  1/1/2019 0:00  6.300000e+11     fraud_Heller, Gutmann and Zieme   \n",
       "2   2  1/1/2019 0:00  3.890000e+13                fraud_Lind-Buckridge   \n",
       "3   3  1/1/2019 0:01  3.530000e+15  fraud_Kutch, Hermiston and Farrell   \n",
       "4   4  1/1/2019 0:03  3.760000e+14                 fraud_Keeling-Crist   \n",
       "\n",
       "        category  Amount  firstName lastName  \\\n",
       "0       misc_net    4.97   Jennifer    Banks   \n",
       "1    grocery_pos  107.23  Stephanie     Gill   \n",
       "2  entertainment  220.11     Edward  Sanchez   \n",
       "3  gas_transport   45.00     Jeremy    White   \n",
       "4       misc_pos   41.96      Tyler   Garcia   \n",
       "\n",
       "                          trans_num  is_fraud  \n",
       "0  0b242abb623afc578575680df30655b9         0  \n",
       "1  1f76529f8574734946361c461b024d99         0  \n",
       "2  a1a22d70485983eac12b5b88dad1cf95         0  \n",
       "3  6b849c168bdad6f867558c3793159a81         0  \n",
       "4  a41d7549acf90789359a9aa5346dcb46         0  "
      ]
     },
     "execution_count": 3,
     "metadata": {},
     "output_type": "execute_result"
    }
   ],
   "source": [
    "train_df.head()"
   ]
  },
  {
   "cell_type": "code",
   "execution_count": 4,
   "id": "a4f3d9e0",
   "metadata": {
    "execution": {
     "iopub.execute_input": "2024-05-11T00:27:09.502912Z",
     "iopub.status.busy": "2024-05-11T00:27:09.502553Z",
     "iopub.status.idle": "2024-05-11T00:27:09.518227Z",
     "shell.execute_reply": "2024-05-11T00:27:09.517520Z"
    },
    "papermill": {
     "duration": 0.02708,
     "end_time": "2024-05-11T00:27:09.520288",
     "exception": false,
     "start_time": "2024-05-11T00:27:09.493208",
     "status": "completed"
    },
    "tags": []
   },
   "outputs": [
    {
     "data": {
      "text/html": [
       "<div>\n",
       "<style scoped>\n",
       "    .dataframe tbody tr th:only-of-type {\n",
       "        vertical-align: middle;\n",
       "    }\n",
       "\n",
       "    .dataframe tbody tr th {\n",
       "        vertical-align: top;\n",
       "    }\n",
       "\n",
       "    .dataframe thead th {\n",
       "        text-align: right;\n",
       "    }\n",
       "</style>\n",
       "<table border=\"1\" class=\"dataframe\">\n",
       "  <thead>\n",
       "    <tr style=\"text-align: right;\">\n",
       "      <th></th>\n",
       "      <th>ID</th>\n",
       "      <th>Time</th>\n",
       "      <th>Card Number</th>\n",
       "      <th>merchant</th>\n",
       "      <th>category</th>\n",
       "      <th>Amount</th>\n",
       "      <th>firstName</th>\n",
       "      <th>lastName</th>\n",
       "      <th>trans_num</th>\n",
       "      <th>is_fraud</th>\n",
       "    </tr>\n",
       "  </thead>\n",
       "  <tbody>\n",
       "    <tr>\n",
       "      <th>0</th>\n",
       "      <td>0</td>\n",
       "      <td>2020-06-21 12:14:25</td>\n",
       "      <td>2291163933867240</td>\n",
       "      <td>fraud_Kirlin and Sons</td>\n",
       "      <td>personal_care</td>\n",
       "      <td>2.86</td>\n",
       "      <td>Jeff</td>\n",
       "      <td>Elliott</td>\n",
       "      <td>2da90c7d74bd46a0caf3777415b3ebd3</td>\n",
       "      <td>0</td>\n",
       "    </tr>\n",
       "    <tr>\n",
       "      <th>1</th>\n",
       "      <td>1</td>\n",
       "      <td>2020-06-21 12:14:33</td>\n",
       "      <td>3573030041201290</td>\n",
       "      <td>fraud_Sporer-Keebler</td>\n",
       "      <td>personal_care</td>\n",
       "      <td>29.84</td>\n",
       "      <td>Joanne</td>\n",
       "      <td>Williams</td>\n",
       "      <td>324cc204407e99f51b0d6ca0055005e7</td>\n",
       "      <td>0</td>\n",
       "    </tr>\n",
       "    <tr>\n",
       "      <th>2</th>\n",
       "      <td>2</td>\n",
       "      <td>2020-06-21 12:14:53</td>\n",
       "      <td>3598215285024750</td>\n",
       "      <td>fraud_Swaniawski, Nitzsche and Welch</td>\n",
       "      <td>health_fitness</td>\n",
       "      <td>41.28</td>\n",
       "      <td>Ashley</td>\n",
       "      <td>Lopez</td>\n",
       "      <td>c81755dbbbea9d5c77f094348a7579be</td>\n",
       "      <td>0</td>\n",
       "    </tr>\n",
       "    <tr>\n",
       "      <th>3</th>\n",
       "      <td>3</td>\n",
       "      <td>2020-06-21 12:15:15</td>\n",
       "      <td>3591919803438420</td>\n",
       "      <td>fraud_Haley Group</td>\n",
       "      <td>misc_pos</td>\n",
       "      <td>60.05</td>\n",
       "      <td>Brian</td>\n",
       "      <td>Williams</td>\n",
       "      <td>2159175b9efe66dc301f149d3d5abf8c</td>\n",
       "      <td>0</td>\n",
       "    </tr>\n",
       "    <tr>\n",
       "      <th>4</th>\n",
       "      <td>4</td>\n",
       "      <td>2020-06-21 12:15:17</td>\n",
       "      <td>3526826139003040</td>\n",
       "      <td>fraud_Johnston-Casper</td>\n",
       "      <td>travel</td>\n",
       "      <td>3.19</td>\n",
       "      <td>Nathan</td>\n",
       "      <td>Massey</td>\n",
       "      <td>57ff021bd3f328f8738bb535c302a31b</td>\n",
       "      <td>0</td>\n",
       "    </tr>\n",
       "  </tbody>\n",
       "</table>\n",
       "</div>"
      ],
      "text/plain": [
       "   ID                Time       Card Number  \\\n",
       "0   0 2020-06-21 12:14:25  2291163933867240   \n",
       "1   1 2020-06-21 12:14:33  3573030041201290   \n",
       "2   2 2020-06-21 12:14:53  3598215285024750   \n",
       "3   3 2020-06-21 12:15:15  3591919803438420   \n",
       "4   4 2020-06-21 12:15:17  3526826139003040   \n",
       "\n",
       "                               merchant        category  Amount firstName  \\\n",
       "0                 fraud_Kirlin and Sons   personal_care    2.86      Jeff   \n",
       "1                  fraud_Sporer-Keebler   personal_care   29.84    Joanne   \n",
       "2  fraud_Swaniawski, Nitzsche and Welch  health_fitness   41.28    Ashley   \n",
       "3                     fraud_Haley Group        misc_pos   60.05     Brian   \n",
       "4                 fraud_Johnston-Casper          travel    3.19    Nathan   \n",
       "\n",
       "   lastName                         trans_num  is_fraud  \n",
       "0   Elliott  2da90c7d74bd46a0caf3777415b3ebd3         0  \n",
       "1  Williams  324cc204407e99f51b0d6ca0055005e7         0  \n",
       "2     Lopez  c81755dbbbea9d5c77f094348a7579be         0  \n",
       "3  Williams  2159175b9efe66dc301f149d3d5abf8c         0  \n",
       "4    Massey  57ff021bd3f328f8738bb535c302a31b         0  "
      ]
     },
     "execution_count": 4,
     "metadata": {},
     "output_type": "execute_result"
    }
   ],
   "source": [
    "test_df.head()"
   ]
  },
  {
   "cell_type": "code",
   "execution_count": 5,
   "id": "7ff8a34d",
   "metadata": {
    "execution": {
     "iopub.execute_input": "2024-05-11T00:27:09.540157Z",
     "iopub.status.busy": "2024-05-11T00:27:09.539539Z",
     "iopub.status.idle": "2024-05-11T00:27:09.911539Z",
     "shell.execute_reply": "2024-05-11T00:27:09.910293Z"
    },
    "papermill": {
     "duration": 0.384755,
     "end_time": "2024-05-11T00:27:09.914453",
     "exception": false,
     "start_time": "2024-05-11T00:27:09.529698",
     "status": "completed"
    },
    "tags": []
   },
   "outputs": [],
   "source": [
    "# train\n",
    "train_df = pd.get_dummies(train_df, columns=[\"category\", \"merchant\"], dtype=int)\n",
    "# TODO Tebry"
   ]
  },
  {
   "cell_type": "code",
   "execution_count": 6,
   "id": "8ab1afac",
   "metadata": {
    "execution": {
     "iopub.execute_input": "2024-05-11T00:27:09.933507Z",
     "iopub.status.busy": "2024-05-11T00:27:09.933120Z",
     "iopub.status.idle": "2024-05-11T00:27:12.081386Z",
     "shell.execute_reply": "2024-05-11T00:27:12.080180Z"
    },
    "papermill": {
     "duration": 2.160442,
     "end_time": "2024-05-11T00:27:12.083909",
     "exception": false,
     "start_time": "2024-05-11T00:27:09.923467",
     "status": "completed"
    },
    "tags": []
   },
   "outputs": [],
   "source": [
    "# test\n",
    "test_df = pd.get_dummies(test_df, columns=[\"category\", \"merchant\"], dtype=int)"
   ]
  },
  {
   "cell_type": "markdown",
   "id": "86b74638",
   "metadata": {
    "papermill": {
     "duration": 0.00792,
     "end_time": "2024-05-11T00:27:12.100564",
     "exception": false,
     "start_time": "2024-05-11T00:27:12.092644",
     "status": "completed"
    },
    "tags": []
   },
   "source": [
    "# Checking that they both have the same order of columns"
   ]
  },
  {
   "cell_type": "code",
   "execution_count": 7,
   "id": "423321d0",
   "metadata": {
    "execution": {
     "iopub.execute_input": "2024-05-11T00:27:12.118371Z",
     "iopub.status.busy": "2024-05-11T00:27:12.118012Z",
     "iopub.status.idle": "2024-05-11T00:27:12.126015Z",
     "shell.execute_reply": "2024-05-11T00:27:12.124566Z"
    },
    "papermill": {
     "duration": 0.01922,
     "end_time": "2024-05-11T00:27:12.127866",
     "exception": false,
     "start_time": "2024-05-11T00:27:12.108646",
     "status": "completed"
    },
    "tags": []
   },
   "outputs": [
    {
     "name": "stdout",
     "output_type": "stream",
     "text": [
      "True\n"
     ]
    }
   ],
   "source": [
    "res = True\n",
    "for i in range(0, train_df.columns.size):\n",
    "    if train_df.columns[i] != test_df.columns[i]:\n",
    "        res = False\n",
    "        break\n",
    "print(res)"
   ]
  },
  {
   "cell_type": "markdown",
   "id": "6445e45c",
   "metadata": {
    "papermill": {
     "duration": 0.007924,
     "end_time": "2024-05-11T00:27:12.144063",
     "exception": false,
     "start_time": "2024-05-11T00:27:12.136139",
     "status": "completed"
    },
    "tags": []
   },
   "source": [
    "# Feature Engineering"
   ]
  },
  {
   "cell_type": "code",
   "execution_count": 8,
   "id": "de08d0d0",
   "metadata": {
    "execution": {
     "iopub.execute_input": "2024-05-11T00:27:12.162489Z",
     "iopub.status.busy": "2024-05-11T00:27:12.161839Z",
     "iopub.status.idle": "2024-05-11T00:27:12.554567Z",
     "shell.execute_reply": "2024-05-11T00:27:12.552827Z"
    },
    "papermill": {
     "duration": 0.404764,
     "end_time": "2024-05-11T00:27:12.556932",
     "exception": false,
     "start_time": "2024-05-11T00:27:12.152168",
     "status": "completed"
    },
    "tags": []
   },
   "outputs": [
    {
     "data": {
      "text/html": [
       "<div>\n",
       "<style scoped>\n",
       "    .dataframe tbody tr th:only-of-type {\n",
       "        vertical-align: middle;\n",
       "    }\n",
       "\n",
       "    .dataframe tbody tr th {\n",
       "        vertical-align: top;\n",
       "    }\n",
       "\n",
       "    .dataframe thead th {\n",
       "        text-align: right;\n",
       "    }\n",
       "</style>\n",
       "<table border=\"1\" class=\"dataframe\">\n",
       "  <thead>\n",
       "    <tr style=\"text-align: right;\">\n",
       "      <th></th>\n",
       "      <th>Amount</th>\n",
       "      <th>is_fraud</th>\n",
       "      <th>category_entertainment</th>\n",
       "      <th>category_food_dining</th>\n",
       "      <th>category_gas_transport</th>\n",
       "      <th>category_grocery_net</th>\n",
       "      <th>category_grocery_pos</th>\n",
       "      <th>category_health_fitness</th>\n",
       "      <th>category_home</th>\n",
       "      <th>category_kids_pets</th>\n",
       "      <th>...</th>\n",
       "      <th>merchant_fraud_Zboncak LLC</th>\n",
       "      <th>merchant_fraud_Zboncak Ltd</th>\n",
       "      <th>merchant_fraud_Zboncak, Rowe and Murazik</th>\n",
       "      <th>merchant_fraud_Zemlak Group</th>\n",
       "      <th>merchant_fraud_Zemlak, Tillman and Cremin</th>\n",
       "      <th>merchant_fraud_Ziemann-Waters</th>\n",
       "      <th>merchant_fraud_Zieme, Bode and Dooley</th>\n",
       "      <th>merchant_fraud_Zulauf LLC</th>\n",
       "      <th>Amount_diff_avg</th>\n",
       "      <th>Time_diff_prev_transaction</th>\n",
       "    </tr>\n",
       "  </thead>\n",
       "  <tbody>\n",
       "    <tr>\n",
       "      <th>1</th>\n",
       "      <td>107.23</td>\n",
       "      <td>0</td>\n",
       "      <td>0</td>\n",
       "      <td>0</td>\n",
       "      <td>0</td>\n",
       "      <td>0</td>\n",
       "      <td>1</td>\n",
       "      <td>0</td>\n",
       "      <td>0</td>\n",
       "      <td>0</td>\n",
       "      <td>...</td>\n",
       "      <td>0</td>\n",
       "      <td>0</td>\n",
       "      <td>0</td>\n",
       "      <td>0</td>\n",
       "      <td>0</td>\n",
       "      <td>0</td>\n",
       "      <td>0</td>\n",
       "      <td>0</td>\n",
       "      <td>35.321768</td>\n",
       "      <td>0.000000</td>\n",
       "    </tr>\n",
       "    <tr>\n",
       "      <th>2</th>\n",
       "      <td>220.11</td>\n",
       "      <td>0</td>\n",
       "      <td>1</td>\n",
       "      <td>0</td>\n",
       "      <td>0</td>\n",
       "      <td>0</td>\n",
       "      <td>0</td>\n",
       "      <td>0</td>\n",
       "      <td>0</td>\n",
       "      <td>0</td>\n",
       "      <td>...</td>\n",
       "      <td>0</td>\n",
       "      <td>0</td>\n",
       "      <td>0</td>\n",
       "      <td>0</td>\n",
       "      <td>0</td>\n",
       "      <td>0</td>\n",
       "      <td>0</td>\n",
       "      <td>0</td>\n",
       "      <td>148.201768</td>\n",
       "      <td>0.000000</td>\n",
       "    </tr>\n",
       "    <tr>\n",
       "      <th>3</th>\n",
       "      <td>45.00</td>\n",
       "      <td>0</td>\n",
       "      <td>0</td>\n",
       "      <td>0</td>\n",
       "      <td>1</td>\n",
       "      <td>0</td>\n",
       "      <td>0</td>\n",
       "      <td>0</td>\n",
       "      <td>0</td>\n",
       "      <td>0</td>\n",
       "      <td>...</td>\n",
       "      <td>0</td>\n",
       "      <td>0</td>\n",
       "      <td>0</td>\n",
       "      <td>0</td>\n",
       "      <td>0</td>\n",
       "      <td>0</td>\n",
       "      <td>0</td>\n",
       "      <td>0</td>\n",
       "      <td>-26.908232</td>\n",
       "      <td>0.016667</td>\n",
       "    </tr>\n",
       "    <tr>\n",
       "      <th>4</th>\n",
       "      <td>41.96</td>\n",
       "      <td>0</td>\n",
       "      <td>0</td>\n",
       "      <td>0</td>\n",
       "      <td>0</td>\n",
       "      <td>0</td>\n",
       "      <td>0</td>\n",
       "      <td>0</td>\n",
       "      <td>0</td>\n",
       "      <td>0</td>\n",
       "      <td>...</td>\n",
       "      <td>0</td>\n",
       "      <td>0</td>\n",
       "      <td>0</td>\n",
       "      <td>0</td>\n",
       "      <td>0</td>\n",
       "      <td>0</td>\n",
       "      <td>0</td>\n",
       "      <td>0</td>\n",
       "      <td>-29.948232</td>\n",
       "      <td>0.033333</td>\n",
       "    </tr>\n",
       "    <tr>\n",
       "      <th>5</th>\n",
       "      <td>94.63</td>\n",
       "      <td>0</td>\n",
       "      <td>0</td>\n",
       "      <td>0</td>\n",
       "      <td>1</td>\n",
       "      <td>0</td>\n",
       "      <td>0</td>\n",
       "      <td>0</td>\n",
       "      <td>0</td>\n",
       "      <td>0</td>\n",
       "      <td>...</td>\n",
       "      <td>0</td>\n",
       "      <td>0</td>\n",
       "      <td>0</td>\n",
       "      <td>0</td>\n",
       "      <td>0</td>\n",
       "      <td>0</td>\n",
       "      <td>0</td>\n",
       "      <td>0</td>\n",
       "      <td>22.721768</td>\n",
       "      <td>0.016667</td>\n",
       "    </tr>\n",
       "  </tbody>\n",
       "</table>\n",
       "<p>5 rows × 711 columns</p>\n",
       "</div>"
      ],
      "text/plain": [
       "   Amount  is_fraud  category_entertainment  category_food_dining  \\\n",
       "1  107.23         0                       0                     0   \n",
       "2  220.11         0                       1                     0   \n",
       "3   45.00         0                       0                     0   \n",
       "4   41.96         0                       0                     0   \n",
       "5   94.63         0                       0                     0   \n",
       "\n",
       "   category_gas_transport  category_grocery_net  category_grocery_pos  \\\n",
       "1                       0                     0                     1   \n",
       "2                       0                     0                     0   \n",
       "3                       1                     0                     0   \n",
       "4                       0                     0                     0   \n",
       "5                       1                     0                     0   \n",
       "\n",
       "   category_health_fitness  category_home  category_kids_pets  ...  \\\n",
       "1                        0              0                   0  ...   \n",
       "2                        0              0                   0  ...   \n",
       "3                        0              0                   0  ...   \n",
       "4                        0              0                   0  ...   \n",
       "5                        0              0                   0  ...   \n",
       "\n",
       "   merchant_fraud_Zboncak LLC  merchant_fraud_Zboncak Ltd  \\\n",
       "1                           0                           0   \n",
       "2                           0                           0   \n",
       "3                           0                           0   \n",
       "4                           0                           0   \n",
       "5                           0                           0   \n",
       "\n",
       "   merchant_fraud_Zboncak, Rowe and Murazik  merchant_fraud_Zemlak Group  \\\n",
       "1                                         0                            0   \n",
       "2                                         0                            0   \n",
       "3                                         0                            0   \n",
       "4                                         0                            0   \n",
       "5                                         0                            0   \n",
       "\n",
       "   merchant_fraud_Zemlak, Tillman and Cremin  merchant_fraud_Ziemann-Waters  \\\n",
       "1                                          0                              0   \n",
       "2                                          0                              0   \n",
       "3                                          0                              0   \n",
       "4                                          0                              0   \n",
       "5                                          0                              0   \n",
       "\n",
       "   merchant_fraud_Zieme, Bode and Dooley  merchant_fraud_Zulauf LLC  \\\n",
       "1                                      0                          0   \n",
       "2                                      0                          0   \n",
       "3                                      0                          0   \n",
       "4                                      0                          0   \n",
       "5                                      0                          0   \n",
       "\n",
       "   Amount_diff_avg  Time_diff_prev_transaction  \n",
       "1        35.321768                    0.000000  \n",
       "2       148.201768                    0.000000  \n",
       "3       -26.908232                    0.016667  \n",
       "4       -29.948232                    0.033333  \n",
       "5        22.721768                    0.016667  \n",
       "\n",
       "[5 rows x 711 columns]"
      ]
     },
     "execution_count": 8,
     "metadata": {},
     "output_type": "execute_result"
    }
   ],
   "source": [
    "# TODO Tebry\n",
    "# train\n",
    "\n",
    "\n",
    "# Convert the 'Time' column to datetime format\n",
    "train_df[\"Time\"] = pd.to_datetime(train_df[\"Time\"])\n",
    "\n",
    "\n",
    "# Calculate the average transaction amount of all transactions\n",
    "average_amount_all = train_df[\"Amount\"].mean()\n",
    "\n",
    "# Calculate the difference between current transaction amount and average of all transactions\n",
    "train_df[\"Amount_diff_avg\"] = train_df[\"Amount\"] - average_amount_all\n",
    "\n",
    "# Calculate the time difference between previous transactions for each card in hours\n",
    "time_diff_seconds = train_df[\"Time\"].diff().dt.total_seconds() % (24 * 3600)\n",
    "train_df[\"Time_diff_prev_transaction\"] = time_diff_seconds / 3600\n",
    "\n",
    "columns_to_drop = [\"ID\", \"Time\", \"Card Number\", \"firstName\", \"lastName\", \"trans_num\"]\n",
    "train_df.drop(columns=columns_to_drop, inplace=True)\n",
    "\n",
    "train_df.dropna(inplace=True)\n",
    "train_df.head()"
   ]
  },
  {
   "cell_type": "code",
   "execution_count": 9,
   "id": "47b80fbe",
   "metadata": {
    "execution": {
     "iopub.execute_input": "2024-05-11T00:27:12.578169Z",
     "iopub.status.busy": "2024-05-11T00:27:12.577759Z",
     "iopub.status.idle": "2024-05-11T00:27:14.323005Z",
     "shell.execute_reply": "2024-05-11T00:27:14.321770Z"
    },
    "papermill": {
     "duration": 1.758601,
     "end_time": "2024-05-11T00:27:14.325651",
     "exception": false,
     "start_time": "2024-05-11T00:27:12.567050",
     "status": "completed"
    },
    "tags": []
   },
   "outputs": [
    {
     "data": {
      "text/html": [
       "<div>\n",
       "<style scoped>\n",
       "    .dataframe tbody tr th:only-of-type {\n",
       "        vertical-align: middle;\n",
       "    }\n",
       "\n",
       "    .dataframe tbody tr th {\n",
       "        vertical-align: top;\n",
       "    }\n",
       "\n",
       "    .dataframe thead th {\n",
       "        text-align: right;\n",
       "    }\n",
       "</style>\n",
       "<table border=\"1\" class=\"dataframe\">\n",
       "  <thead>\n",
       "    <tr style=\"text-align: right;\">\n",
       "      <th></th>\n",
       "      <th>Amount</th>\n",
       "      <th>is_fraud</th>\n",
       "      <th>category_entertainment</th>\n",
       "      <th>category_food_dining</th>\n",
       "      <th>category_gas_transport</th>\n",
       "      <th>category_grocery_net</th>\n",
       "      <th>category_grocery_pos</th>\n",
       "      <th>category_health_fitness</th>\n",
       "      <th>category_home</th>\n",
       "      <th>category_kids_pets</th>\n",
       "      <th>...</th>\n",
       "      <th>merchant_fraud_Zboncak LLC</th>\n",
       "      <th>merchant_fraud_Zboncak Ltd</th>\n",
       "      <th>merchant_fraud_Zboncak, Rowe and Murazik</th>\n",
       "      <th>merchant_fraud_Zemlak Group</th>\n",
       "      <th>merchant_fraud_Zemlak, Tillman and Cremin</th>\n",
       "      <th>merchant_fraud_Ziemann-Waters</th>\n",
       "      <th>merchant_fraud_Zieme, Bode and Dooley</th>\n",
       "      <th>merchant_fraud_Zulauf LLC</th>\n",
       "      <th>Amount_diff_avg</th>\n",
       "      <th>Time_diff_prev_transaction</th>\n",
       "    </tr>\n",
       "  </thead>\n",
       "  <tbody>\n",
       "    <tr>\n",
       "      <th>1</th>\n",
       "      <td>29.84</td>\n",
       "      <td>0</td>\n",
       "      <td>0</td>\n",
       "      <td>0</td>\n",
       "      <td>0</td>\n",
       "      <td>0</td>\n",
       "      <td>0</td>\n",
       "      <td>0</td>\n",
       "      <td>0</td>\n",
       "      <td>0</td>\n",
       "      <td>...</td>\n",
       "      <td>0</td>\n",
       "      <td>0</td>\n",
       "      <td>0</td>\n",
       "      <td>0</td>\n",
       "      <td>0</td>\n",
       "      <td>0</td>\n",
       "      <td>0</td>\n",
       "      <td>0</td>\n",
       "      <td>-39.55281</td>\n",
       "      <td>0.002222</td>\n",
       "    </tr>\n",
       "    <tr>\n",
       "      <th>2</th>\n",
       "      <td>41.28</td>\n",
       "      <td>0</td>\n",
       "      <td>0</td>\n",
       "      <td>0</td>\n",
       "      <td>0</td>\n",
       "      <td>0</td>\n",
       "      <td>0</td>\n",
       "      <td>1</td>\n",
       "      <td>0</td>\n",
       "      <td>0</td>\n",
       "      <td>...</td>\n",
       "      <td>0</td>\n",
       "      <td>0</td>\n",
       "      <td>0</td>\n",
       "      <td>0</td>\n",
       "      <td>0</td>\n",
       "      <td>0</td>\n",
       "      <td>0</td>\n",
       "      <td>0</td>\n",
       "      <td>-28.11281</td>\n",
       "      <td>0.005556</td>\n",
       "    </tr>\n",
       "    <tr>\n",
       "      <th>3</th>\n",
       "      <td>60.05</td>\n",
       "      <td>0</td>\n",
       "      <td>0</td>\n",
       "      <td>0</td>\n",
       "      <td>0</td>\n",
       "      <td>0</td>\n",
       "      <td>0</td>\n",
       "      <td>0</td>\n",
       "      <td>0</td>\n",
       "      <td>0</td>\n",
       "      <td>...</td>\n",
       "      <td>0</td>\n",
       "      <td>0</td>\n",
       "      <td>0</td>\n",
       "      <td>0</td>\n",
       "      <td>0</td>\n",
       "      <td>0</td>\n",
       "      <td>0</td>\n",
       "      <td>0</td>\n",
       "      <td>-9.34281</td>\n",
       "      <td>0.006111</td>\n",
       "    </tr>\n",
       "    <tr>\n",
       "      <th>4</th>\n",
       "      <td>3.19</td>\n",
       "      <td>0</td>\n",
       "      <td>0</td>\n",
       "      <td>0</td>\n",
       "      <td>0</td>\n",
       "      <td>0</td>\n",
       "      <td>0</td>\n",
       "      <td>0</td>\n",
       "      <td>0</td>\n",
       "      <td>0</td>\n",
       "      <td>...</td>\n",
       "      <td>0</td>\n",
       "      <td>0</td>\n",
       "      <td>0</td>\n",
       "      <td>0</td>\n",
       "      <td>0</td>\n",
       "      <td>0</td>\n",
       "      <td>0</td>\n",
       "      <td>0</td>\n",
       "      <td>-66.20281</td>\n",
       "      <td>0.000556</td>\n",
       "    </tr>\n",
       "    <tr>\n",
       "      <th>5</th>\n",
       "      <td>19.55</td>\n",
       "      <td>0</td>\n",
       "      <td>0</td>\n",
       "      <td>0</td>\n",
       "      <td>0</td>\n",
       "      <td>0</td>\n",
       "      <td>0</td>\n",
       "      <td>0</td>\n",
       "      <td>0</td>\n",
       "      <td>1</td>\n",
       "      <td>...</td>\n",
       "      <td>0</td>\n",
       "      <td>0</td>\n",
       "      <td>0</td>\n",
       "      <td>0</td>\n",
       "      <td>0</td>\n",
       "      <td>0</td>\n",
       "      <td>0</td>\n",
       "      <td>0</td>\n",
       "      <td>-49.84281</td>\n",
       "      <td>0.005556</td>\n",
       "    </tr>\n",
       "  </tbody>\n",
       "</table>\n",
       "<p>5 rows × 711 columns</p>\n",
       "</div>"
      ],
      "text/plain": [
       "   Amount  is_fraud  category_entertainment  category_food_dining  \\\n",
       "1   29.84         0                       0                     0   \n",
       "2   41.28         0                       0                     0   \n",
       "3   60.05         0                       0                     0   \n",
       "4    3.19         0                       0                     0   \n",
       "5   19.55         0                       0                     0   \n",
       "\n",
       "   category_gas_transport  category_grocery_net  category_grocery_pos  \\\n",
       "1                       0                     0                     0   \n",
       "2                       0                     0                     0   \n",
       "3                       0                     0                     0   \n",
       "4                       0                     0                     0   \n",
       "5                       0                     0                     0   \n",
       "\n",
       "   category_health_fitness  category_home  category_kids_pets  ...  \\\n",
       "1                        0              0                   0  ...   \n",
       "2                        1              0                   0  ...   \n",
       "3                        0              0                   0  ...   \n",
       "4                        0              0                   0  ...   \n",
       "5                        0              0                   1  ...   \n",
       "\n",
       "   merchant_fraud_Zboncak LLC  merchant_fraud_Zboncak Ltd  \\\n",
       "1                           0                           0   \n",
       "2                           0                           0   \n",
       "3                           0                           0   \n",
       "4                           0                           0   \n",
       "5                           0                           0   \n",
       "\n",
       "   merchant_fraud_Zboncak, Rowe and Murazik  merchant_fraud_Zemlak Group  \\\n",
       "1                                         0                            0   \n",
       "2                                         0                            0   \n",
       "3                                         0                            0   \n",
       "4                                         0                            0   \n",
       "5                                         0                            0   \n",
       "\n",
       "   merchant_fraud_Zemlak, Tillman and Cremin  merchant_fraud_Ziemann-Waters  \\\n",
       "1                                          0                              0   \n",
       "2                                          0                              0   \n",
       "3                                          0                              0   \n",
       "4                                          0                              0   \n",
       "5                                          0                              0   \n",
       "\n",
       "   merchant_fraud_Zieme, Bode and Dooley  merchant_fraud_Zulauf LLC  \\\n",
       "1                                      0                          0   \n",
       "2                                      0                          0   \n",
       "3                                      0                          0   \n",
       "4                                      0                          0   \n",
       "5                                      0                          0   \n",
       "\n",
       "   Amount_diff_avg  Time_diff_prev_transaction  \n",
       "1        -39.55281                    0.002222  \n",
       "2        -28.11281                    0.005556  \n",
       "3         -9.34281                    0.006111  \n",
       "4        -66.20281                    0.000556  \n",
       "5        -49.84281                    0.005556  \n",
       "\n",
       "[5 rows x 711 columns]"
      ]
     },
     "execution_count": 9,
     "metadata": {},
     "output_type": "execute_result"
    }
   ],
   "source": [
    "# TODO Tebry\n",
    "# test\n",
    "\n",
    "# Convert the 'Time' column to datetime format\n",
    "test_df[\"Time\"] = pd.to_datetime(test_df[\"Time\"])\n",
    "\n",
    "\n",
    "# Calculate the average transaction amount of all transactions\n",
    "average_amount_all = test_df[\"Amount\"].mean()\n",
    "\n",
    "# Calculate the difference between current transaction amount and average of all transactions\n",
    "test_df[\"Amount_diff_avg\"] = test_df[\"Amount\"] - average_amount_all\n",
    "\n",
    "# Calculate the time difference between previous transactions for each card in hours\n",
    "time_diff_seconds = test_df[\"Time\"].diff().dt.total_seconds() % (24 * 3600)\n",
    "test_df[\"Time_diff_prev_transaction\"] = time_diff_seconds / 3600\n",
    "\n",
    "columns_to_drop = [\"ID\", \"Time\", \"Card Number\", \"firstName\", \"lastName\", \"trans_num\"]\n",
    "test_df.drop(columns=columns_to_drop, inplace=True)\n",
    "\n",
    "test_df.dropna(inplace=True)\n",
    "test_df.head()"
   ]
  },
  {
   "cell_type": "code",
   "execution_count": 10,
   "id": "a85fcd79",
   "metadata": {
    "execution": {
     "iopub.execute_input": "2024-05-11T00:27:14.347348Z",
     "iopub.status.busy": "2024-05-11T00:27:14.346962Z",
     "iopub.status.idle": "2024-05-11T00:27:14.354348Z",
     "shell.execute_reply": "2024-05-11T00:27:14.352970Z"
    },
    "papermill": {
     "duration": 0.021577,
     "end_time": "2024-05-11T00:27:14.356935",
     "exception": false,
     "start_time": "2024-05-11T00:27:14.335358",
     "status": "completed"
    },
    "tags": []
   },
   "outputs": [],
   "source": [
    "y_train = np.array(train_df[\"is_fraud\"])\n",
    "y_test = np.array(test_df[\"is_fraud\"])"
   ]
  },
  {
   "cell_type": "code",
   "execution_count": 11,
   "id": "7282d31b",
   "metadata": {
    "execution": {
     "iopub.execute_input": "2024-05-11T00:27:14.376963Z",
     "iopub.status.busy": "2024-05-11T00:27:14.376615Z",
     "iopub.status.idle": "2024-05-11T00:27:15.170555Z",
     "shell.execute_reply": "2024-05-11T00:27:15.169553Z"
    },
    "papermill": {
     "duration": 0.806525,
     "end_time": "2024-05-11T00:27:15.172987",
     "exception": false,
     "start_time": "2024-05-11T00:27:14.366462",
     "status": "completed"
    },
    "tags": []
   },
   "outputs": [],
   "source": [
    "train_df = train_df.drop(\"is_fraud\", axis=1)\n",
    "test_df = test_df.drop(\"is_fraud\", axis=1)"
   ]
  },
  {
   "cell_type": "markdown",
   "id": "bfcc50af",
   "metadata": {
    "papermill": {
     "duration": 0.008957,
     "end_time": "2024-05-11T00:27:15.191575",
     "exception": false,
     "start_time": "2024-05-11T00:27:15.182618",
     "status": "completed"
    },
    "tags": []
   },
   "source": [
    "* Memory managment because the data is so large"
   ]
  },
  {
   "cell_type": "code",
   "execution_count": 12,
   "id": "4910d143",
   "metadata": {
    "execution": {
     "iopub.execute_input": "2024-05-11T00:27:15.212174Z",
     "iopub.status.busy": "2024-05-11T00:27:15.211682Z",
     "iopub.status.idle": "2024-05-11T00:27:17.253225Z",
     "shell.execute_reply": "2024-05-11T00:27:17.251518Z"
    },
    "papermill": {
     "duration": 2.054342,
     "end_time": "2024-05-11T00:27:17.255048",
     "exception": false,
     "start_time": "2024-05-11T00:27:15.200706",
     "status": "completed"
    },
    "tags": []
   },
   "outputs": [
    {
     "data": {
      "text/plain": [
       "0"
      ]
     },
     "execution_count": 12,
     "metadata": {},
     "output_type": "execute_result"
    }
   ],
   "source": [
    "x_train = np.array(train_df)\n",
    "del train_df\n",
    "gc.collect()\n",
    "x_test = np.array(test_df)\n",
    "del test_df\n",
    "gc.collect()"
   ]
  },
  {
   "cell_type": "markdown",
   "id": "974f6bc4",
   "metadata": {
    "papermill": {
     "duration": 0.009443,
     "end_time": "2024-05-11T00:27:17.274635",
     "exception": false,
     "start_time": "2024-05-11T00:27:17.265192",
     "status": "completed"
    },
    "tags": []
   },
   "source": [
    "* To get the percentage of positives in the data "
   ]
  },
  {
   "cell_type": "code",
   "execution_count": 13,
   "id": "1465278f",
   "metadata": {
    "execution": {
     "iopub.execute_input": "2024-05-11T00:27:17.294529Z",
     "iopub.status.busy": "2024-05-11T00:27:17.294115Z",
     "iopub.status.idle": "2024-05-11T00:27:17.302065Z",
     "shell.execute_reply": "2024-05-11T00:27:17.301174Z"
    },
    "papermill": {
     "duration": 0.02045,
     "end_time": "2024-05-11T00:27:17.304118",
     "exception": false,
     "start_time": "2024-05-11T00:27:17.283668",
     "status": "completed"
    },
    "tags": []
   },
   "outputs": [
    {
     "data": {
      "text/plain": [
       "0.9900099000990009"
      ]
     },
     "execution_count": 13,
     "metadata": {},
     "output_type": "execute_result"
    }
   ],
   "source": [
    "# Hakim\n",
    "y_train.sum() / len(y_train) * 100"
   ]
  },
  {
   "cell_type": "markdown",
   "id": "82e20efe",
   "metadata": {
    "papermill": {
     "duration": 0.008964,
     "end_time": "2024-05-11T00:27:17.322783",
     "exception": false,
     "start_time": "2024-05-11T00:27:17.313819",
     "status": "completed"
    },
    "tags": []
   },
   "source": [
    "#  The data is highly imbalanced ,only 1% of the data is positive , which makes the model overfit"
   ]
  },
  {
   "cell_type": "code",
   "execution_count": 14,
   "id": "c47f0ba7",
   "metadata": {
    "execution": {
     "iopub.execute_input": "2024-05-11T00:27:17.342815Z",
     "iopub.status.busy": "2024-05-11T00:27:17.342494Z",
     "iopub.status.idle": "2024-05-11T00:27:17.348529Z",
     "shell.execute_reply": "2024-05-11T00:27:17.347726Z"
    },
    "papermill": {
     "duration": 0.018262,
     "end_time": "2024-05-11T00:27:17.350299",
     "exception": false,
     "start_time": "2024-05-11T00:27:17.332037",
     "status": "completed"
    },
    "tags": []
   },
   "outputs": [
    {
     "data": {
      "text/plain": [
       "990"
      ]
     },
     "execution_count": 14,
     "metadata": {},
     "output_type": "execute_result"
    }
   ],
   "source": [
    "y_train.sum()  # number of positives in the data"
   ]
  },
  {
   "cell_type": "markdown",
   "id": "adaa4680",
   "metadata": {
    "papermill": {
     "duration": 0.008949,
     "end_time": "2024-05-11T00:27:17.368408",
     "exception": false,
     "start_time": "2024-05-11T00:27:17.359459",
     "status": "completed"
    },
    "tags": []
   },
   "source": [
    "* To make the data balanced , we will take all of the positive class in the data (990) and only 2750 of the negative class"
   ]
  },
  {
   "cell_type": "code",
   "execution_count": 15,
   "id": "2da48bdd",
   "metadata": {
    "execution": {
     "iopub.execute_input": "2024-05-11T00:27:17.388220Z",
     "iopub.status.busy": "2024-05-11T00:27:17.387880Z",
     "iopub.status.idle": "2024-05-11T00:27:17.401832Z",
     "shell.execute_reply": "2024-05-11T00:27:17.401165Z"
    },
    "papermill": {
     "duration": 0.026341,
     "end_time": "2024-05-11T00:27:17.403818",
     "exception": false,
     "start_time": "2024-05-11T00:27:17.377477",
     "status": "completed"
    },
    "tags": []
   },
   "outputs": [],
   "source": [
    "# Hakim\n",
    "balanced_x_train = np.concatenate(\n",
    "    (x_train[np.where(y_train == 1)], x_train[np.where(y_train[:2750] == 0)])\n",
    ")\n",
    "balanced_y_train = np.concatenate(\n",
    "    (y_train[np.where(y_train == 1)], y_train[np.where(y_train[:2750] == 0)])\n",
    ")"
   ]
  },
  {
   "cell_type": "markdown",
   "id": "52544939",
   "metadata": {
    "papermill": {
     "duration": 0.008849,
     "end_time": "2024-05-11T00:27:17.422237",
     "exception": false,
     "start_time": "2024-05-11T00:27:17.413388",
     "status": "completed"
    },
    "tags": []
   },
   "source": [
    "* Doing the same for test data but this time to get accurate results , it doesn't have anythong to do with the model"
   ]
  },
  {
   "cell_type": "code",
   "execution_count": 16,
   "id": "25d665ab",
   "metadata": {
    "execution": {
     "iopub.execute_input": "2024-05-11T00:27:17.442595Z",
     "iopub.status.busy": "2024-05-11T00:27:17.442135Z",
     "iopub.status.idle": "2024-05-11T00:27:17.490788Z",
     "shell.execute_reply": "2024-05-11T00:27:17.489559Z"
    },
    "papermill": {
     "duration": 0.061781,
     "end_time": "2024-05-11T00:27:17.493045",
     "exception": false,
     "start_time": "2024-05-11T00:27:17.431264",
     "status": "completed"
    },
    "tags": []
   },
   "outputs": [],
   "source": [
    "balanced_x_test = np.concatenate(\n",
    "    (x_test[np.where(y_test == 1)], x_test[np.where(y_test[:8000] == 0)])\n",
    ")\n",
    "balanced_y_test = np.concatenate(\n",
    "    (y_test[np.where(y_test == 1)], y_test[np.where(y_test[:8000] == 0)])\n",
    ")"
   ]
  },
  {
   "cell_type": "markdown",
   "id": "173eec6f",
   "metadata": {
    "papermill": {
     "duration": 0.009072,
     "end_time": "2024-05-11T00:27:17.511726",
     "exception": false,
     "start_time": "2024-05-11T00:27:17.502654",
     "status": "completed"
    },
    "tags": []
   },
   "source": [
    "* Shuffle the data so the model doesn't overfit "
   ]
  },
  {
   "cell_type": "code",
   "execution_count": 17,
   "id": "41c80f16",
   "metadata": {
    "execution": {
     "iopub.execute_input": "2024-05-11T00:27:17.533232Z",
     "iopub.status.busy": "2024-05-11T00:27:17.532765Z",
     "iopub.status.idle": "2024-05-11T00:27:17.548920Z",
     "shell.execute_reply": "2024-05-11T00:27:17.546989Z"
    },
    "papermill": {
     "duration": 0.03014,
     "end_time": "2024-05-11T00:27:17.551640",
     "exception": false,
     "start_time": "2024-05-11T00:27:17.521500",
     "status": "completed"
    },
    "tags": []
   },
   "outputs": [],
   "source": [
    "# Hakim\n",
    "np.random.seed(42)\n",
    "np.random.shuffle(balanced_x_train)\n",
    "np.random.seed(42)  # for some reason the seed has to be set twice\n",
    "np.random.shuffle(balanced_y_train)"
   ]
  },
  {
   "cell_type": "markdown",
   "id": "3f7ac83a",
   "metadata": {
    "papermill": {
     "duration": 0.009087,
     "end_time": "2024-05-11T00:27:17.570491",
     "exception": false,
     "start_time": "2024-05-11T00:27:17.561404",
     "status": "completed"
    },
    "tags": []
   },
   "source": [
    "# Model Selection and Training"
   ]
  },
  {
   "cell_type": "code",
   "execution_count": 18,
   "id": "7e5c145f",
   "metadata": {
    "execution": {
     "iopub.execute_input": "2024-05-11T00:27:17.591243Z",
     "iopub.status.busy": "2024-05-11T00:27:17.590802Z",
     "iopub.status.idle": "2024-05-11T00:27:23.359197Z",
     "shell.execute_reply": "2024-05-11T00:27:23.357808Z"
    },
    "papermill": {
     "duration": 5.781601,
     "end_time": "2024-05-11T00:27:23.361229",
     "exception": false,
     "start_time": "2024-05-11T00:27:17.579628",
     "status": "completed"
    },
    "tags": []
   },
   "outputs": [
    {
     "data": {
      "text/html": [
       "<style>#sk-container-id-1 {color: black;background-color: white;}#sk-container-id-1 pre{padding: 0;}#sk-container-id-1 div.sk-toggleable {background-color: white;}#sk-container-id-1 label.sk-toggleable__label {cursor: pointer;display: block;width: 100%;margin-bottom: 0;padding: 0.3em;box-sizing: border-box;text-align: center;}#sk-container-id-1 label.sk-toggleable__label-arrow:before {content: \"▸\";float: left;margin-right: 0.25em;color: #696969;}#sk-container-id-1 label.sk-toggleable__label-arrow:hover:before {color: black;}#sk-container-id-1 div.sk-estimator:hover label.sk-toggleable__label-arrow:before {color: black;}#sk-container-id-1 div.sk-toggleable__content {max-height: 0;max-width: 0;overflow: hidden;text-align: left;background-color: #f0f8ff;}#sk-container-id-1 div.sk-toggleable__content pre {margin: 0.2em;color: black;border-radius: 0.25em;background-color: #f0f8ff;}#sk-container-id-1 input.sk-toggleable__control:checked~div.sk-toggleable__content {max-height: 200px;max-width: 100%;overflow: auto;}#sk-container-id-1 input.sk-toggleable__control:checked~label.sk-toggleable__label-arrow:before {content: \"▾\";}#sk-container-id-1 div.sk-estimator input.sk-toggleable__control:checked~label.sk-toggleable__label {background-color: #d4ebff;}#sk-container-id-1 div.sk-label input.sk-toggleable__control:checked~label.sk-toggleable__label {background-color: #d4ebff;}#sk-container-id-1 input.sk-hidden--visually {border: 0;clip: rect(1px 1px 1px 1px);clip: rect(1px, 1px, 1px, 1px);height: 1px;margin: -1px;overflow: hidden;padding: 0;position: absolute;width: 1px;}#sk-container-id-1 div.sk-estimator {font-family: monospace;background-color: #f0f8ff;border: 1px dotted black;border-radius: 0.25em;box-sizing: border-box;margin-bottom: 0.5em;}#sk-container-id-1 div.sk-estimator:hover {background-color: #d4ebff;}#sk-container-id-1 div.sk-parallel-item::after {content: \"\";width: 100%;border-bottom: 1px solid gray;flex-grow: 1;}#sk-container-id-1 div.sk-label:hover label.sk-toggleable__label {background-color: #d4ebff;}#sk-container-id-1 div.sk-serial::before {content: \"\";position: absolute;border-left: 1px solid gray;box-sizing: border-box;top: 0;bottom: 0;left: 50%;z-index: 0;}#sk-container-id-1 div.sk-serial {display: flex;flex-direction: column;align-items: center;background-color: white;padding-right: 0.2em;padding-left: 0.2em;position: relative;}#sk-container-id-1 div.sk-item {position: relative;z-index: 1;}#sk-container-id-1 div.sk-parallel {display: flex;align-items: stretch;justify-content: center;background-color: white;position: relative;}#sk-container-id-1 div.sk-item::before, #sk-container-id-1 div.sk-parallel-item::before {content: \"\";position: absolute;border-left: 1px solid gray;box-sizing: border-box;top: 0;bottom: 0;left: 50%;z-index: -1;}#sk-container-id-1 div.sk-parallel-item {display: flex;flex-direction: column;z-index: 1;position: relative;background-color: white;}#sk-container-id-1 div.sk-parallel-item:first-child::after {align-self: flex-end;width: 50%;}#sk-container-id-1 div.sk-parallel-item:last-child::after {align-self: flex-start;width: 50%;}#sk-container-id-1 div.sk-parallel-item:only-child::after {width: 0;}#sk-container-id-1 div.sk-dashed-wrapped {border: 1px dashed gray;margin: 0 0.4em 0.5em 0.4em;box-sizing: border-box;padding-bottom: 0.4em;background-color: white;}#sk-container-id-1 div.sk-label label {font-family: monospace;font-weight: bold;display: inline-block;line-height: 1.2em;}#sk-container-id-1 div.sk-label-container {text-align: center;}#sk-container-id-1 div.sk-container {/* jupyter's `normalize.less` sets `[hidden] { display: none; }` but bootstrap.min.css set `[hidden] { display: none !important; }` so we also need the `!important` here to be able to override the default hidden behavior on the sphinx rendered scikit-learn.org. See: https://github.com/scikit-learn/scikit-learn/issues/21755 */display: inline-block !important;position: relative;}#sk-container-id-1 div.sk-text-repr-fallback {display: none;}</style><div id=\"sk-container-id-1\" class=\"sk-top-container\"><div class=\"sk-text-repr-fallback\"><pre>SVC(gamma=0.4)</pre><b>In a Jupyter environment, please rerun this cell to show the HTML representation or trust the notebook. <br />On GitHub, the HTML representation is unable to render, please try loading this page with nbviewer.org.</b></div><div class=\"sk-container\" hidden><div class=\"sk-item\"><div class=\"sk-estimator sk-toggleable\"><input class=\"sk-toggleable__control sk-hidden--visually\" id=\"sk-estimator-id-1\" type=\"checkbox\" checked><label for=\"sk-estimator-id-1\" class=\"sk-toggleable__label sk-toggleable__label-arrow\">SVC</label><div class=\"sk-toggleable__content\"><pre>SVC(gamma=0.4)</pre></div></div></div></div></div>"
      ],
      "text/plain": [
       "SVC(gamma=0.4)"
      ]
     },
     "execution_count": 18,
     "metadata": {},
     "output_type": "execute_result"
    }
   ],
   "source": [
    "svm = SVC(kernel=\"rbf\", gamma=0.4, C=1.0)\n",
    "svm.fit(balanced_x_train, balanced_y_train)"
   ]
  },
  {
   "cell_type": "markdown",
   "id": "c0b068f0",
   "metadata": {
    "papermill": {
     "duration": 0.104259,
     "end_time": "2024-05-11T00:27:23.478276",
     "exception": false,
     "start_time": "2024-05-11T00:27:23.374017",
     "status": "completed"
    },
    "tags": []
   },
   "source": [
    "# Model Evaluation"
   ]
  },
  {
   "cell_type": "code",
   "execution_count": 19,
   "id": "719a444a",
   "metadata": {
    "execution": {
     "iopub.execute_input": "2024-05-11T00:27:23.502370Z",
     "iopub.status.busy": "2024-05-11T00:27:23.501737Z",
     "iopub.status.idle": "2024-05-11T00:27:41.506251Z",
     "shell.execute_reply": "2024-05-11T00:27:41.505499Z"
    },
    "papermill": {
     "duration": 18.020892,
     "end_time": "2024-05-11T00:27:41.508796",
     "exception": false,
     "start_time": "2024-05-11T00:27:23.487904",
     "status": "completed"
    },
    "tags": []
   },
   "outputs": [],
   "source": [
    "# TODO Watany me4 h3ml 7aga\n",
    "y_pred = svm.predict(balanced_x_test)  # getting predictions on test data for evaluation"
   ]
  },
  {
   "cell_type": "code",
   "execution_count": 20,
   "id": "4b5d9ca7",
   "metadata": {
    "execution": {
     "iopub.execute_input": "2024-05-11T00:27:41.530743Z",
     "iopub.status.busy": "2024-05-11T00:27:41.530466Z",
     "iopub.status.idle": "2024-05-11T00:27:41.770220Z",
     "shell.execute_reply": "2024-05-11T00:27:41.768767Z"
    },
    "papermill": {
     "duration": 0.253104,
     "end_time": "2024-05-11T00:27:41.772613",
     "exception": false,
     "start_time": "2024-05-11T00:27:41.519509",
     "status": "completed"
    },
    "tags": []
   },
   "outputs": [
    {
     "data": {
      "image/png": "[encoded data removed]",
      "text/plain": [
       "<Figure size 640x480 with 1 Axes>"
      ]
     },
     "metadata": {},
     "output_type": "display_data"
    }
   ],
   "source": [
    "precisions, recalls, thresholds = precision_recall_curve(balanced_y_test, y_pred)\n",
    "plt.plot(recalls, precisions)\n",
    "plt.xlabel(\"Recall\")\n",
    "plt.ylabel(\"Precision\")\n",
    "plt.title(\"Precision-Recall Curve\")\n",
    "plt.show()\n",
    "p_score = precision_score(balanced_y_test, y_pred)\n",
    "r_score = recall_score(balanced_y_test, y_pred)"
   ]
  },
  {
   "cell_type": "code",
   "execution_count": 21,
   "id": "d6df8787",
   "metadata": {
    "execution": {
     "iopub.execute_input": "2024-05-11T00:27:41.794510Z",
     "iopub.status.busy": "2024-05-11T00:27:41.794043Z",
     "iopub.status.idle": "2024-05-11T00:27:41.984696Z",
     "shell.execute_reply": "2024-05-11T00:27:41.983368Z"
    },
    "papermill": {
     "duration": 0.204524,
     "end_time": "2024-05-11T00:27:41.987402",
     "exception": false,
     "start_time": "2024-05-11T00:27:41.782878",
     "status": "completed"
    },
    "tags": []
   },
   "outputs": [
    {
     "data": {
      "image/png": "[encoded data removed]",
      "text/plain": [
       "<Figure size 640x480 with 1 Axes>"
      ]
     },
     "metadata": {},
     "output_type": "display_data"
    }
   ],
   "source": [
    "fpr, tpr, thresholds = roc_curve(balanced_y_test, y_pred)\n",
    "plt.plot(fpr, tpr, label=\"ROC Curve\")\n",
    "plt.xlabel(\"False Positive Rate\")\n",
    "plt.ylabel(\"True Positive Rate\")\n",
    "plt.title(\"ROC Curve for Classification Model\")\n",
    "plt.show()\n",
    "auc_prc = roc_auc_score(balanced_y_test, y_pred)"
   ]
  },
  {
   "cell_type": "code",
   "execution_count": 22,
   "id": "4ab18cdb",
   "metadata": {
    "execution": {
     "iopub.execute_input": "2024-05-11T00:27:42.010792Z",
     "iopub.status.busy": "2024-05-11T00:27:42.010312Z",
     "iopub.status.idle": "2024-05-11T00:27:42.024541Z",
     "shell.execute_reply": "2024-05-11T00:27:42.022788Z"
    },
    "papermill": {
     "duration": 0.029567,
     "end_time": "2024-05-11T00:27:42.027481",
     "exception": false,
     "start_time": "2024-05-11T00:27:41.997914",
     "status": "completed"
    },
    "tags": []
   },
   "outputs": [
    {
     "name": "stdout",
     "output_type": "stream",
     "text": [
      "balanced accuracy :  0.9152276861602506\n",
      "F1 score          :  0.8561020036429872\n",
      "precision score   :  0.8366711170449488\n",
      "recall score      :  0.8764568764568764\n",
      "AUC-PRC scoree    :  0.9152276861602507\n"
     ]
    }
   ],
   "source": [
    "balanced_accuracy = balanced_accuracy_score(balanced_y_test, y_pred)\n",
    "f1 = f1_score(balanced_y_test, y_pred)\n",
    "\n",
    "print(\"balanced accuracy : \", balanced_accuracy)\n",
    "print(\"F1 score          : \", f1)\n",
    "print(\"precision score   : \", p_score)\n",
    "print(\"recall score      : \", r_score)\n",
    "print(\"AUC-PRC scoree    : \", auc_prc)"
   ]
  },
  {
   "cell_type": "code",
   "execution_count": 23,
   "id": "bd0bfe9f",
   "metadata": {
    "execution": {
     "iopub.execute_input": "2024-05-11T00:27:42.053548Z",
     "iopub.status.busy": "2024-05-11T00:27:42.052006Z",
     "iopub.status.idle": "2024-05-11T00:27:42.251347Z",
     "shell.execute_reply": "2024-05-11T00:27:42.250514Z"
    },
    "papermill": {
     "duration": 0.213761,
     "end_time": "2024-05-11T00:27:42.253326",
     "exception": false,
     "start_time": "2024-05-11T00:27:42.039565",
     "status": "completed"
    },
    "tags": []
   },
   "outputs": [
    {
     "data": {
      "image/png": "[encoded data removed]",
      "text/plain": [
       "<Figure size 500x500 with 1 Axes>"
      ]
     },
     "metadata": {},
     "output_type": "display_data"
    }
   ],
   "source": [
    "cm = confusion_matrix(balanced_y_test, y_pred)\n",
    "\n",
    "fig, ax = plt.subplots(figsize=(5, 5))\n",
    "ax.matshow(cm, cmap=plt.cm.Blues, alpha=0.7)\n",
    "for i in range(cm.shape[0]):\n",
    "    for j in range(cm.shape[1]):\n",
    "        ax.text(x=j, y=i, s=cm[i, j], va=\"center\", ha=\"center\", size=\"xx-large\")\n",
    "plt.xlabel(\"Predections\", fontsize=18)\n",
    "plt.ylabel(\"Actuals\", fontsize=18)\n",
    "plt.title(\"Confusion Matrix\", fontsize=18)\n",
    "plt.show()"
   ]
  },
  {
   "cell_type": "markdown",
   "id": "7a5c3fef",
   "metadata": {
    "papermill": {
     "duration": 0.013971,
     "end_time": "2024-05-11T00:27:42.281329",
     "exception": false,
     "start_time": "2024-05-11T00:27:42.267358",
     "status": "completed"
    },
    "tags": []
   },
   "source": [
    "# Deployment and Monitoring:"
   ]
  },
  {
   "cell_type": "code",
   "execution_count": 24,
   "id": "691400c2",
   "metadata": {
    "execution": {
     "iopub.execute_input": "2024-05-11T00:27:42.313615Z",
     "iopub.status.busy": "2024-05-11T00:27:42.312778Z",
     "iopub.status.idle": "2024-05-11T00:27:42.349385Z",
     "shell.execute_reply": "2024-05-11T00:27:42.347325Z"
    },
    "papermill": {
     "duration": 0.055319,
     "end_time": "2024-05-11T00:27:42.351871",
     "exception": false,
     "start_time": "2024-05-11T00:27:42.296552",
     "status": "completed"
    },
    "tags": []
   },
   "outputs": [
    {
     "name": "stdout",
     "output_type": "stream",
     "text": [
      "Model saved to svm_model.pth\n",
      "Model loaded from svm_model.pth\n"
     ]
    }
   ],
   "source": [
    "filename = \"svm_model.pth\"\n",
    "\n",
    "with open(filename, \"wb\") as f:\n",
    "    pickle.dump(svm, f)\n",
    "\n",
    "print(f\"Model saved to {filename}\")\n",
    "with open(filename, \"rb\") as f:\n",
    "    loaded_svm_model = pickle.load(f)\n",
    "\n",
    "print(f\"Model loaded from {filename}\")"
   ]
  },
  {
   "cell_type": "markdown",
   "id": "5f25e7d8",
   "metadata": {
    "papermill": {
     "duration": 0.011307,
     "end_time": "2024-05-11T00:27:42.374446",
     "exception": false,
     "start_time": "2024-05-11T00:27:42.363139",
     "status": "completed"
    },
    "tags": []
   },
   "source": [
    "# Trying to take new input and passing it to the model"
   ]
  },
  {
   "cell_type": "code",
   "execution_count": 25,
   "id": "e29272b2",
   "metadata": {
    "execution": {
     "iopub.execute_input": "2024-05-11T00:27:42.399421Z",
     "iopub.status.busy": "2024-05-11T00:27:42.398470Z",
     "iopub.status.idle": "2024-05-11T00:27:42.573615Z",
     "shell.execute_reply": "2024-05-11T00:27:42.571887Z"
    },
    "papermill": {
     "duration": 0.19128,
     "end_time": "2024-05-11T00:27:42.576668",
     "exception": false,
     "start_time": "2024-05-11T00:27:42.385388",
     "status": "completed"
    },
    "tags": []
   },
   "outputs": [],
   "source": [
    "train_df = pd.read_csv(\n",
    "    \"/kaggle/input/frauddetection-data/fraudTrain.csv\", nrows=100000\n",
    ")  # no need for all the data"
   ]
  },
  {
   "cell_type": "code",
   "execution_count": 26,
   "id": "5648d7d9",
   "metadata": {
    "execution": {
     "iopub.execute_input": "2024-05-11T00:27:42.600986Z",
     "iopub.status.busy": "2024-05-11T00:27:42.600638Z",
     "iopub.status.idle": "2024-05-11T00:27:42.612512Z",
     "shell.execute_reply": "2024-05-11T00:27:42.611614Z"
    },
    "papermill": {
     "duration": 0.026056,
     "end_time": "2024-05-11T00:27:42.614473",
     "exception": false,
     "start_time": "2024-05-11T00:27:42.588417",
     "status": "completed"
    },
    "tags": []
   },
   "outputs": [],
   "source": [
    "train_df.loc[len(train_df)] = [\n",
    "    len(train_df),\n",
    "    \"2/27/2024 23:00\",\n",
    "    8800000000000000,\n",
    "    \"fraud_Kessler Group\",\n",
    "    \"travel\",\n",
    "    10000.0,\n",
    "    \"Omar\",\n",
    "    \"Elhakim\",\n",
    "    \"fd4a6a1b893c2045d7310c70c1d9ea1d\",\n",
    "    1,\n",
    "]"
   ]
  },
  {
   "cell_type": "markdown",
   "id": "c80c29fa",
   "metadata": {
    "papermill": {
     "duration": 0.01061,
     "end_time": "2024-05-11T00:27:42.637037",
     "exception": false,
     "start_time": "2024-05-11T00:27:42.626427",
     "status": "completed"
    },
    "tags": []
   },
   "source": [
    "# We have to make the same tranformation on it "
   ]
  },
  {
   "cell_type": "code",
   "execution_count": 27,
   "id": "d570075b",
   "metadata": {
    "execution": {
     "iopub.execute_input": "2024-05-11T00:27:42.660466Z",
     "iopub.status.busy": "2024-05-11T00:27:42.660137Z",
     "iopub.status.idle": "2024-05-11T00:27:43.310683Z",
     "shell.execute_reply": "2024-05-11T00:27:43.309889Z"
    },
    "papermill": {
     "duration": 0.665129,
     "end_time": "2024-05-11T00:27:43.312689",
     "exception": false,
     "start_time": "2024-05-11T00:27:42.647560",
     "status": "completed"
    },
    "tags": []
   },
   "outputs": [
    {
     "data": {
      "text/html": [
       "<div>\n",
       "<style scoped>\n",
       "    .dataframe tbody tr th:only-of-type {\n",
       "        vertical-align: middle;\n",
       "    }\n",
       "\n",
       "    .dataframe tbody tr th {\n",
       "        vertical-align: top;\n",
       "    }\n",
       "\n",
       "    .dataframe thead th {\n",
       "        text-align: right;\n",
       "    }\n",
       "</style>\n",
       "<table border=\"1\" class=\"dataframe\">\n",
       "  <thead>\n",
       "    <tr style=\"text-align: right;\">\n",
       "      <th></th>\n",
       "      <th>Amount</th>\n",
       "      <th>is_fraud</th>\n",
       "      <th>category_entertainment</th>\n",
       "      <th>category_food_dining</th>\n",
       "      <th>category_gas_transport</th>\n",
       "      <th>category_grocery_net</th>\n",
       "      <th>category_grocery_pos</th>\n",
       "      <th>category_health_fitness</th>\n",
       "      <th>category_home</th>\n",
       "      <th>category_kids_pets</th>\n",
       "      <th>...</th>\n",
       "      <th>merchant_fraud_Zboncak LLC</th>\n",
       "      <th>merchant_fraud_Zboncak Ltd</th>\n",
       "      <th>merchant_fraud_Zboncak, Rowe and Murazik</th>\n",
       "      <th>merchant_fraud_Zemlak Group</th>\n",
       "      <th>merchant_fraud_Zemlak, Tillman and Cremin</th>\n",
       "      <th>merchant_fraud_Ziemann-Waters</th>\n",
       "      <th>merchant_fraud_Zieme, Bode and Dooley</th>\n",
       "      <th>merchant_fraud_Zulauf LLC</th>\n",
       "      <th>Amount_diff_avg</th>\n",
       "      <th>Time_diff_prev_transaction</th>\n",
       "    </tr>\n",
       "  </thead>\n",
       "  <tbody>\n",
       "    <tr>\n",
       "      <th>99996</th>\n",
       "      <td>8.75</td>\n",
       "      <td>0</td>\n",
       "      <td>0</td>\n",
       "      <td>0</td>\n",
       "      <td>0</td>\n",
       "      <td>0</td>\n",
       "      <td>0</td>\n",
       "      <td>0</td>\n",
       "      <td>0</td>\n",
       "      <td>0</td>\n",
       "      <td>...</td>\n",
       "      <td>0</td>\n",
       "      <td>0</td>\n",
       "      <td>0</td>\n",
       "      <td>0</td>\n",
       "      <td>0</td>\n",
       "      <td>0</td>\n",
       "      <td>0</td>\n",
       "      <td>0</td>\n",
       "      <td>-63.257512</td>\n",
       "      <td>0.016667</td>\n",
       "    </tr>\n",
       "    <tr>\n",
       "      <th>99997</th>\n",
       "      <td>34.20</td>\n",
       "      <td>0</td>\n",
       "      <td>0</td>\n",
       "      <td>1</td>\n",
       "      <td>0</td>\n",
       "      <td>0</td>\n",
       "      <td>0</td>\n",
       "      <td>0</td>\n",
       "      <td>0</td>\n",
       "      <td>0</td>\n",
       "      <td>...</td>\n",
       "      <td>0</td>\n",
       "      <td>0</td>\n",
       "      <td>0</td>\n",
       "      <td>0</td>\n",
       "      <td>0</td>\n",
       "      <td>0</td>\n",
       "      <td>0</td>\n",
       "      <td>0</td>\n",
       "      <td>-37.807512</td>\n",
       "      <td>0.000000</td>\n",
       "    </tr>\n",
       "    <tr>\n",
       "      <th>99998</th>\n",
       "      <td>73.11</td>\n",
       "      <td>0</td>\n",
       "      <td>0</td>\n",
       "      <td>0</td>\n",
       "      <td>0</td>\n",
       "      <td>0</td>\n",
       "      <td>0</td>\n",
       "      <td>1</td>\n",
       "      <td>0</td>\n",
       "      <td>0</td>\n",
       "      <td>...</td>\n",
       "      <td>0</td>\n",
       "      <td>0</td>\n",
       "      <td>0</td>\n",
       "      <td>0</td>\n",
       "      <td>0</td>\n",
       "      <td>0</td>\n",
       "      <td>0</td>\n",
       "      <td>0</td>\n",
       "      <td>1.102488</td>\n",
       "      <td>0.016667</td>\n",
       "    </tr>\n",
       "    <tr>\n",
       "      <th>99999</th>\n",
       "      <td>9.08</td>\n",
       "      <td>0</td>\n",
       "      <td>0</td>\n",
       "      <td>0</td>\n",
       "      <td>0</td>\n",
       "      <td>0</td>\n",
       "      <td>0</td>\n",
       "      <td>0</td>\n",
       "      <td>0</td>\n",
       "      <td>0</td>\n",
       "      <td>...</td>\n",
       "      <td>0</td>\n",
       "      <td>0</td>\n",
       "      <td>0</td>\n",
       "      <td>0</td>\n",
       "      <td>0</td>\n",
       "      <td>0</td>\n",
       "      <td>0</td>\n",
       "      <td>0</td>\n",
       "      <td>-62.927512</td>\n",
       "      <td>0.033333</td>\n",
       "    </tr>\n",
       "    <tr>\n",
       "      <th>100000</th>\n",
       "      <td>10000.00</td>\n",
       "      <td>1</td>\n",
       "      <td>0</td>\n",
       "      <td>0</td>\n",
       "      <td>0</td>\n",
       "      <td>0</td>\n",
       "      <td>0</td>\n",
       "      <td>0</td>\n",
       "      <td>0</td>\n",
       "      <td>0</td>\n",
       "      <td>...</td>\n",
       "      <td>0</td>\n",
       "      <td>0</td>\n",
       "      <td>0</td>\n",
       "      <td>0</td>\n",
       "      <td>0</td>\n",
       "      <td>0</td>\n",
       "      <td>0</td>\n",
       "      <td>0</td>\n",
       "      <td>9927.992488</td>\n",
       "      <td>7.333333</td>\n",
       "    </tr>\n",
       "  </tbody>\n",
       "</table>\n",
       "<p>5 rows × 711 columns</p>\n",
       "</div>"
      ],
      "text/plain": [
       "          Amount  is_fraud  category_entertainment  category_food_dining  \\\n",
       "99996       8.75         0                       0                     0   \n",
       "99997      34.20         0                       0                     1   \n",
       "99998      73.11         0                       0                     0   \n",
       "99999       9.08         0                       0                     0   \n",
       "100000  10000.00         1                       0                     0   \n",
       "\n",
       "        category_gas_transport  category_grocery_net  category_grocery_pos  \\\n",
       "99996                        0                     0                     0   \n",
       "99997                        0                     0                     0   \n",
       "99998                        0                     0                     0   \n",
       "99999                        0                     0                     0   \n",
       "100000                       0                     0                     0   \n",
       "\n",
       "        category_health_fitness  category_home  category_kids_pets  ...  \\\n",
       "99996                         0              0                   0  ...   \n",
       "99997                         0              0                   0  ...   \n",
       "99998                         1              0                   0  ...   \n",
       "99999                         0              0                   0  ...   \n",
       "100000                        0              0                   0  ...   \n",
       "\n",
       "        merchant_fraud_Zboncak LLC  merchant_fraud_Zboncak Ltd  \\\n",
       "99996                            0                           0   \n",
       "99997                            0                           0   \n",
       "99998                            0                           0   \n",
       "99999                            0                           0   \n",
       "100000                           0                           0   \n",
       "\n",
       "        merchant_fraud_Zboncak, Rowe and Murazik  merchant_fraud_Zemlak Group  \\\n",
       "99996                                          0                            0   \n",
       "99997                                          0                            0   \n",
       "99998                                          0                            0   \n",
       "99999                                          0                            0   \n",
       "100000                                         0                            0   \n",
       "\n",
       "        merchant_fraud_Zemlak, Tillman and Cremin  \\\n",
       "99996                                           0   \n",
       "99997                                           0   \n",
       "99998                                           0   \n",
       "99999                                           0   \n",
       "100000                                          0   \n",
       "\n",
       "        merchant_fraud_Ziemann-Waters  merchant_fraud_Zieme, Bode and Dooley  \\\n",
       "99996                               0                                      0   \n",
       "99997                               0                                      0   \n",
       "99998                               0                                      0   \n",
       "99999                               0                                      0   \n",
       "100000                              0                                      0   \n",
       "\n",
       "        merchant_fraud_Zulauf LLC  Amount_diff_avg  Time_diff_prev_transaction  \n",
       "99996                           0       -63.257512                    0.016667  \n",
       "99997                           0       -37.807512                    0.000000  \n",
       "99998                           0         1.102488                    0.016667  \n",
       "99999                           0       -62.927512                    0.033333  \n",
       "100000                          0      9927.992488                    7.333333  \n",
       "\n",
       "[5 rows x 711 columns]"
      ]
     },
     "execution_count": 27,
     "metadata": {},
     "output_type": "execute_result"
    }
   ],
   "source": [
    "train_df = pd.get_dummies(train_df, columns=[\"category\", \"merchant\"], dtype=int)\n",
    "\n",
    "# Convert the 'Time' column to datetime format\n",
    "train_df[\"Time\"] = pd.to_datetime(train_df[\"Time\"])\n",
    "\n",
    "\n",
    "# Calculate the average transaction amount of all transactions\n",
    "average_amount_all = train_df[\"Amount\"].mean()\n",
    "\n",
    "# Calculate the difference between current transaction amount and average of all transactions\n",
    "train_df[\"Amount_diff_avg\"] = train_df[\"Amount\"] - average_amount_all\n",
    "\n",
    "# Calculate the time difference between previous transactions for each card in hours\n",
    "time_diff_seconds = train_df[\"Time\"].diff().dt.total_seconds() % (24 * 3600)\n",
    "train_df[\"Time_diff_prev_transaction\"] = time_diff_seconds / 3600\n",
    "\n",
    "columns_to_drop = [\"ID\", \"Time\", \"Card Number\", \"firstName\", \"lastName\", \"trans_num\"]\n",
    "train_df.drop(columns=columns_to_drop, inplace=True)\n",
    "\n",
    "train_df.dropna(inplace=True)\n",
    "train_df.tail()"
   ]
  },
  {
   "cell_type": "code",
   "execution_count": 28,
   "id": "ba78f152",
   "metadata": {
    "execution": {
     "iopub.execute_input": "2024-05-11T00:27:43.339331Z",
     "iopub.status.busy": "2024-05-11T00:27:43.338952Z",
     "iopub.status.idle": "2024-05-11T00:27:43.346527Z",
     "shell.execute_reply": "2024-05-11T00:27:43.344648Z"
    },
    "papermill": {
     "duration": 0.023149,
     "end_time": "2024-05-11T00:27:43.348800",
     "exception": false,
     "start_time": "2024-05-11T00:27:43.325651",
     "status": "completed"
    },
    "tags": []
   },
   "outputs": [],
   "source": [
    "r = np.array(train_df.iloc[-1].drop(\"is_fraud\"))"
   ]
  },
  {
   "cell_type": "code",
   "execution_count": 29,
   "id": "8a66bc5d",
   "metadata": {
    "execution": {
     "iopub.execute_input": "2024-05-11T00:27:43.374627Z",
     "iopub.status.busy": "2024-05-11T00:27:43.374305Z",
     "iopub.status.idle": "2024-05-11T00:27:43.379152Z",
     "shell.execute_reply": "2024-05-11T00:27:43.377885Z"
    },
    "papermill": {
     "duration": 0.01973,
     "end_time": "2024-05-11T00:27:43.381079",
     "exception": false,
     "start_time": "2024-05-11T00:27:43.361349",
     "status": "completed"
    },
    "tags": []
   },
   "outputs": [],
   "source": [
    "r = r.reshape(1, -1)"
   ]
  },
  {
   "cell_type": "code",
   "execution_count": 30,
   "id": "fdd1cace",
   "metadata": {
    "execution": {
     "iopub.execute_input": "2024-05-11T00:27:43.405524Z",
     "iopub.status.busy": "2024-05-11T00:27:43.405149Z",
     "iopub.status.idle": "2024-05-11T00:27:43.412865Z",
     "shell.execute_reply": "2024-05-11T00:27:43.412032Z"
    },
    "papermill": {
     "duration": 0.022834,
     "end_time": "2024-05-11T00:27:43.415563",
     "exception": false,
     "start_time": "2024-05-11T00:27:43.392729",
     "status": "completed"
    },
    "tags": []
   },
   "outputs": [
    {
     "data": {
      "text/plain": [
       "array([1])"
      ]
     },
     "execution_count": 30,
     "metadata": {},
     "output_type": "execute_result"
    }
   ],
   "source": [
    "loaded_svm_model.predict(r)"
   ]
  },
  {
   "cell_type": "markdown",
   "id": "de674483",
   "metadata": {
    "papermill": {
     "duration": 0.011953,
     "end_time": "2024-05-11T00:27:43.440496",
     "exception": false,
     "start_time": "2024-05-11T00:27:43.428543",
     "status": "completed"
    },
    "tags": []
   },
   "source": [
    "# The loaded model made the right prediction on new unseen data"
   ]
  }
 ],
 "metadata": {
  "kaggle": {
   "accelerator": "none",
   "dataSources": [
    {
     "datasetId": 4869235,
     "sourceId": 8215243,
     "sourceType": "datasetVersion"
    }
   ],
   "dockerImageVersionId": 30698,
   "isGpuEnabled": false,
   "isInternetEnabled": true,
   "language": "python",
   "sourceType": "notebook"
  },
  "kernelspec": {
   "display_name": "Python 3",
   "language": "python",
   "name": "python3"
  },
  "language_info": {
   "codemirror_mode": {
    "name": "ipython",
    "version": 3
   },
   "file_extension": ".py",
   "mimetype": "text/x-python",
   "name": "python",
   "nbconvert_exporter": "python",
   "pygments_lexer": "ipython3",
   "version": "3.10.13"
  },
  "papermill": {
   "default_parameters": {},
   "duration": 130.06331,
   "end_time": "2024-05-11T00:27:44.377784",
   "environment_variables": {},
   "exception": null,
   "input_path": "__notebook__.ipynb",
   "output_path": "__notebook__.ipynb",
   "parameters": {},
   "start_time": "2024-05-11T00:25:34.314474",
   "version": "2.5.0"
  }
 },
 "nbformat": 4,
 "nbformat_minor": 5
}
