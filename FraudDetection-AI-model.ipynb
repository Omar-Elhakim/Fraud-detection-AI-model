{
 "cells": [
  {
   "cell_type": "markdown",
   "id": "27122d8e",
   "metadata": {
    "papermill": {
     "duration": 0.011254,
     "end_time": "2024-05-02T14:33:52.876485",
     "exception": false,
     "start_time": "2024-05-02T14:33:52.865231",
     "status": "completed"
    },
    "tags": []
   },
   "source": [
    "# Imports"
   ]
  },
  {
   "cell_type": "code",
   "execution_count": 1,
   "id": "8c62c730",
   "metadata": {
    "_cell_guid": "b1076dfc-b9ad-4769-8c92-a6c4dae69d19",
    "_uuid": "8f2839f25d086af736a60e9eeb907d3b93b6e0e5",
    "execution": {
     "iopub.execute_input": "2024-05-02T14:33:52.900381Z",
     "iopub.status.busy": "2024-05-02T14:33:52.899648Z",
     "iopub.status.idle": "2024-05-02T14:33:55.915795Z",
     "shell.execute_reply": "2024-05-02T14:33:55.914468Z"
    },
    "papermill": {
     "duration": 3.032086,
     "end_time": "2024-05-02T14:33:55.919462",
     "exception": false,
     "start_time": "2024-05-02T14:33:52.887376",
     "status": "completed"
    },
    "tags": []
   },
   "outputs": [],
   "source": [
    "# Hakim\n",
    "import numpy as np\n",
    "import pandas as pd\n",
    "from  sklearn.svm import *\n",
    "from sklearn.metrics import f1_score, precision_score,recall_score, roc_auc_score,confusion_matrix,balanced_accuracy_score\n",
    "import matplotlib.pyplot as plt\n",
    "from sklearn.inspection import DecisionBoundaryDisplay\n",
    "import gc"
   ]
  },
  {
   "cell_type": "markdown",
   "id": "ae760c50",
   "metadata": {
    "papermill": {
     "duration": 0.011215,
     "end_time": "2024-05-02T14:33:55.942088",
     "exception": false,
     "start_time": "2024-05-02T14:33:55.930873",
     "status": "completed"
    },
    "tags": []
   },
   "source": [
    "# Data Preprocessing "
   ]
  },
  {
   "cell_type": "code",
   "execution_count": 2,
   "id": "be28219b",
   "metadata": {
    "execution": {
     "iopub.execute_input": "2024-05-02T14:33:55.966609Z",
     "iopub.status.busy": "2024-05-02T14:33:55.965619Z",
     "iopub.status.idle": "2024-05-02T14:36:30.284769Z",
     "shell.execute_reply": "2024-05-02T14:36:30.283382Z"
    },
    "papermill": {
     "duration": 154.335273,
     "end_time": "2024-05-02T14:36:30.288295",
     "exception": false,
     "start_time": "2024-05-02T14:33:55.953022",
     "status": "completed"
    },
    "tags": []
   },
   "outputs": [],
   "source": [
    "# Hakim\n",
    "train_df=pd.read_csv('/kaggle/input/frauddetection-data/fraudTrain.csv', nrows=100000) # no need for al the data\n",
    "test_df=pd.read_excel('/kaggle/input/frauddetection-data/fraudTest.xlsx')"
   ]
  },
  {
   "cell_type": "code",
   "execution_count": 3,
   "id": "7100d1e3",
   "metadata": {
    "execution": {
     "iopub.execute_input": "2024-05-02T14:36:30.313339Z",
     "iopub.status.busy": "2024-05-02T14:36:30.312790Z",
     "iopub.status.idle": "2024-05-02T14:36:30.500946Z",
     "shell.execute_reply": "2024-05-02T14:36:30.499560Z"
    },
    "papermill": {
     "duration": 0.204311,
     "end_time": "2024-05-02T14:36:30.504102",
     "exception": false,
     "start_time": "2024-05-02T14:36:30.299791",
     "status": "completed"
    },
    "tags": []
   },
   "outputs": [
    {
     "data": {
      "text/html": [
       "<div>\n",
       "<style scoped>\n",
       "    .dataframe tbody tr th:only-of-type {\n",
       "        vertical-align: middle;\n",
       "    }\n",
       "\n",
       "    .dataframe tbody tr th {\n",
       "        vertical-align: top;\n",
       "    }\n",
       "\n",
       "    .dataframe thead th {\n",
       "        text-align: right;\n",
       "    }\n",
       "</style>\n",
       "<table border=\"1\" class=\"dataframe\">\n",
       "  <thead>\n",
       "    <tr style=\"text-align: right;\">\n",
       "      <th></th>\n",
       "      <th>ID</th>\n",
       "      <th>Time</th>\n",
       "      <th>Card Number</th>\n",
       "      <th>merchant</th>\n",
       "      <th>category</th>\n",
       "      <th>Amount</th>\n",
       "      <th>firstName</th>\n",
       "      <th>lastName</th>\n",
       "      <th>trans_num</th>\n",
       "      <th>is_fraud</th>\n",
       "    </tr>\n",
       "  </thead>\n",
       "  <tbody>\n",
       "    <tr>\n",
       "      <th>0</th>\n",
       "      <td>0</td>\n",
       "      <td>1/1/2019 0:00</td>\n",
       "      <td>2.700000e+15</td>\n",
       "      <td>fraud_Rippin, Kub and Mann</td>\n",
       "      <td>misc_net</td>\n",
       "      <td>4.97</td>\n",
       "      <td>Jennifer</td>\n",
       "      <td>Banks</td>\n",
       "      <td>0b242abb623afc578575680df30655b9</td>\n",
       "      <td>0</td>\n",
       "    </tr>\n",
       "    <tr>\n",
       "      <th>1</th>\n",
       "      <td>1</td>\n",
       "      <td>1/1/2019 0:00</td>\n",
       "      <td>6.300000e+11</td>\n",
       "      <td>fraud_Heller, Gutmann and Zieme</td>\n",
       "      <td>grocery_pos</td>\n",
       "      <td>107.23</td>\n",
       "      <td>Stephanie</td>\n",
       "      <td>Gill</td>\n",
       "      <td>1f76529f8574734946361c461b024d99</td>\n",
       "      <td>0</td>\n",
       "    </tr>\n",
       "    <tr>\n",
       "      <th>2</th>\n",
       "      <td>2</td>\n",
       "      <td>1/1/2019 0:00</td>\n",
       "      <td>3.890000e+13</td>\n",
       "      <td>fraud_Lind-Buckridge</td>\n",
       "      <td>entertainment</td>\n",
       "      <td>220.11</td>\n",
       "      <td>Edward</td>\n",
       "      <td>Sanchez</td>\n",
       "      <td>a1a22d70485983eac12b5b88dad1cf95</td>\n",
       "      <td>0</td>\n",
       "    </tr>\n",
       "    <tr>\n",
       "      <th>3</th>\n",
       "      <td>3</td>\n",
       "      <td>1/1/2019 0:01</td>\n",
       "      <td>3.530000e+15</td>\n",
       "      <td>fraud_Kutch, Hermiston and Farrell</td>\n",
       "      <td>gas_transport</td>\n",
       "      <td>45.00</td>\n",
       "      <td>Jeremy</td>\n",
       "      <td>White</td>\n",
       "      <td>6b849c168bdad6f867558c3793159a81</td>\n",
       "      <td>0</td>\n",
       "    </tr>\n",
       "    <tr>\n",
       "      <th>4</th>\n",
       "      <td>4</td>\n",
       "      <td>1/1/2019 0:03</td>\n",
       "      <td>3.760000e+14</td>\n",
       "      <td>fraud_Keeling-Crist</td>\n",
       "      <td>misc_pos</td>\n",
       "      <td>41.96</td>\n",
       "      <td>Tyler</td>\n",
       "      <td>Garcia</td>\n",
       "      <td>a41d7549acf90789359a9aa5346dcb46</td>\n",
       "      <td>0</td>\n",
       "    </tr>\n",
       "  </tbody>\n",
       "</table>\n",
       "</div>"
      ],
      "text/plain": [
       "   ID           Time   Card Number                            merchant  \\\n",
       "0   0  1/1/2019 0:00  2.700000e+15          fraud_Rippin, Kub and Mann   \n",
       "1   1  1/1/2019 0:00  6.300000e+11     fraud_Heller, Gutmann and Zieme   \n",
       "2   2  1/1/2019 0:00  3.890000e+13                fraud_Lind-Buckridge   \n",
       "3   3  1/1/2019 0:01  3.530000e+15  fraud_Kutch, Hermiston and Farrell   \n",
       "4   4  1/1/2019 0:03  3.760000e+14                 fraud_Keeling-Crist   \n",
       "\n",
       "        category  Amount  firstName lastName  \\\n",
       "0       misc_net    4.97   Jennifer    Banks   \n",
       "1    grocery_pos  107.23  Stephanie     Gill   \n",
       "2  entertainment  220.11     Edward  Sanchez   \n",
       "3  gas_transport   45.00     Jeremy    White   \n",
       "4       misc_pos   41.96      Tyler   Garcia   \n",
       "\n",
       "                          trans_num  is_fraud  \n",
       "0  0b242abb623afc578575680df30655b9         0  \n",
       "1  1f76529f8574734946361c461b024d99         0  \n",
       "2  a1a22d70485983eac12b5b88dad1cf95         0  \n",
       "3  6b849c168bdad6f867558c3793159a81         0  \n",
       "4  a41d7549acf90789359a9aa5346dcb46         0  "
      ]
     },
     "execution_count": 3,
     "metadata": {},
     "output_type": "execute_result"
    }
   ],
   "source": [
    "train_df.head()"
   ]
  },
  {
   "cell_type": "code",
   "execution_count": 4,
   "id": "a6268467",
   "metadata": {
    "execution": {
     "iopub.execute_input": "2024-05-02T14:36:30.531451Z",
     "iopub.status.busy": "2024-05-02T14:36:30.530484Z",
     "iopub.status.idle": "2024-05-02T14:36:30.546333Z",
     "shell.execute_reply": "2024-05-02T14:36:30.545019Z"
    },
    "papermill": {
     "duration": 0.033371,
     "end_time": "2024-05-02T14:36:30.549170",
     "exception": false,
     "start_time": "2024-05-02T14:36:30.515799",
     "status": "completed"
    },
    "tags": []
   },
   "outputs": [
    {
     "data": {
      "text/html": [
       "<div>\n",
       "<style scoped>\n",
       "    .dataframe tbody tr th:only-of-type {\n",
       "        vertical-align: middle;\n",
       "    }\n",
       "\n",
       "    .dataframe tbody tr th {\n",
       "        vertical-align: top;\n",
       "    }\n",
       "\n",
       "    .dataframe thead th {\n",
       "        text-align: right;\n",
       "    }\n",
       "</style>\n",
       "<table border=\"1\" class=\"dataframe\">\n",
       "  <thead>\n",
       "    <tr style=\"text-align: right;\">\n",
       "      <th></th>\n",
       "      <th>ID</th>\n",
       "      <th>Time</th>\n",
       "      <th>Card Number</th>\n",
       "      <th>merchant</th>\n",
       "      <th>category</th>\n",
       "      <th>Amount</th>\n",
       "      <th>firstName</th>\n",
       "      <th>lastName</th>\n",
       "      <th>trans_num</th>\n",
       "      <th>is_fraud</th>\n",
       "    </tr>\n",
       "  </thead>\n",
       "  <tbody>\n",
       "    <tr>\n",
       "      <th>0</th>\n",
       "      <td>0</td>\n",
       "      <td>2020-06-21 12:14:25</td>\n",
       "      <td>2291163933867240</td>\n",
       "      <td>fraud_Kirlin and Sons</td>\n",
       "      <td>personal_care</td>\n",
       "      <td>2.86</td>\n",
       "      <td>Jeff</td>\n",
       "      <td>Elliott</td>\n",
       "      <td>2da90c7d74bd46a0caf3777415b3ebd3</td>\n",
       "      <td>0</td>\n",
       "    </tr>\n",
       "    <tr>\n",
       "      <th>1</th>\n",
       "      <td>1</td>\n",
       "      <td>2020-06-21 12:14:33</td>\n",
       "      <td>3573030041201290</td>\n",
       "      <td>fraud_Sporer-Keebler</td>\n",
       "      <td>personal_care</td>\n",
       "      <td>29.84</td>\n",
       "      <td>Joanne</td>\n",
       "      <td>Williams</td>\n",
       "      <td>324cc204407e99f51b0d6ca0055005e7</td>\n",
       "      <td>0</td>\n",
       "    </tr>\n",
       "    <tr>\n",
       "      <th>2</th>\n",
       "      <td>2</td>\n",
       "      <td>2020-06-21 12:14:53</td>\n",
       "      <td>3598215285024750</td>\n",
       "      <td>fraud_Swaniawski, Nitzsche and Welch</td>\n",
       "      <td>health_fitness</td>\n",
       "      <td>41.28</td>\n",
       "      <td>Ashley</td>\n",
       "      <td>Lopez</td>\n",
       "      <td>c81755dbbbea9d5c77f094348a7579be</td>\n",
       "      <td>0</td>\n",
       "    </tr>\n",
       "    <tr>\n",
       "      <th>3</th>\n",
       "      <td>3</td>\n",
       "      <td>2020-06-21 12:15:15</td>\n",
       "      <td>3591919803438420</td>\n",
       "      <td>fraud_Haley Group</td>\n",
       "      <td>misc_pos</td>\n",
       "      <td>60.05</td>\n",
       "      <td>Brian</td>\n",
       "      <td>Williams</td>\n",
       "      <td>2159175b9efe66dc301f149d3d5abf8c</td>\n",
       "      <td>0</td>\n",
       "    </tr>\n",
       "    <tr>\n",
       "      <th>4</th>\n",
       "      <td>4</td>\n",
       "      <td>2020-06-21 12:15:17</td>\n",
       "      <td>3526826139003040</td>\n",
       "      <td>fraud_Johnston-Casper</td>\n",
       "      <td>travel</td>\n",
       "      <td>3.19</td>\n",
       "      <td>Nathan</td>\n",
       "      <td>Massey</td>\n",
       "      <td>57ff021bd3f328f8738bb535c302a31b</td>\n",
       "      <td>0</td>\n",
       "    </tr>\n",
       "  </tbody>\n",
       "</table>\n",
       "</div>"
      ],
      "text/plain": [
       "   ID                Time       Card Number  \\\n",
       "0   0 2020-06-21 12:14:25  2291163933867240   \n",
       "1   1 2020-06-21 12:14:33  3573030041201290   \n",
       "2   2 2020-06-21 12:14:53  3598215285024750   \n",
       "3   3 2020-06-21 12:15:15  3591919803438420   \n",
       "4   4 2020-06-21 12:15:17  3526826139003040   \n",
       "\n",
       "                               merchant        category  Amount firstName  \\\n",
       "0                 fraud_Kirlin and Sons   personal_care    2.86      Jeff   \n",
       "1                  fraud_Sporer-Keebler   personal_care   29.84    Joanne   \n",
       "2  fraud_Swaniawski, Nitzsche and Welch  health_fitness   41.28    Ashley   \n",
       "3                     fraud_Haley Group        misc_pos   60.05     Brian   \n",
       "4                 fraud_Johnston-Casper          travel    3.19    Nathan   \n",
       "\n",
       "   lastName                         trans_num  is_fraud  \n",
       "0   Elliott  2da90c7d74bd46a0caf3777415b3ebd3         0  \n",
       "1  Williams  324cc204407e99f51b0d6ca0055005e7         0  \n",
       "2     Lopez  c81755dbbbea9d5c77f094348a7579be         0  \n",
       "3  Williams  2159175b9efe66dc301f149d3d5abf8c         0  \n",
       "4    Massey  57ff021bd3f328f8738bb535c302a31b         0  "
      ]
     },
     "execution_count": 4,
     "metadata": {},
     "output_type": "execute_result"
    }
   ],
   "source": [
    "test_df.head()"
   ]
  },
  {
   "cell_type": "code",
   "execution_count": 5,
   "id": "59743a40",
   "metadata": {
    "execution": {
     "iopub.execute_input": "2024-05-02T14:36:30.574720Z",
     "iopub.status.busy": "2024-05-02T14:36:30.574261Z",
     "iopub.status.idle": "2024-05-02T14:36:31.222518Z",
     "shell.execute_reply": "2024-05-02T14:36:31.220945Z"
    },
    "papermill": {
     "duration": 0.66474,
     "end_time": "2024-05-02T14:36:31.225650",
     "exception": false,
     "start_time": "2024-05-02T14:36:30.560910",
     "status": "completed"
    },
    "tags": []
   },
   "outputs": [],
   "source": [
    "#train\n",
    "train_df = pd.get_dummies(train_df, columns=['category', 'merchant'], dtype=int)\n",
    "# TODO Tebry"
   ]
  },
  {
   "cell_type": "code",
   "execution_count": 6,
   "id": "a99b944b",
   "metadata": {
    "execution": {
     "iopub.execute_input": "2024-05-02T14:36:31.251395Z",
     "iopub.status.busy": "2024-05-02T14:36:31.250964Z",
     "iopub.status.idle": "2024-05-02T14:36:36.105966Z",
     "shell.execute_reply": "2024-05-02T14:36:36.104722Z"
    },
    "papermill": {
     "duration": 4.87206,
     "end_time": "2024-05-02T14:36:36.109519",
     "exception": false,
     "start_time": "2024-05-02T14:36:31.237459",
     "status": "completed"
    },
    "tags": []
   },
   "outputs": [],
   "source": [
    "#test\n",
    "test_df = pd.get_dummies(test_df, columns=['category', 'merchant'], dtype=int)"
   ]
  },
  {
   "cell_type": "markdown",
   "id": "f6074be6",
   "metadata": {
    "papermill": {
     "duration": 0.011439,
     "end_time": "2024-05-02T14:36:36.132959",
     "exception": false,
     "start_time": "2024-05-02T14:36:36.121520",
     "status": "completed"
    },
    "tags": []
   },
   "source": [
    "# Checking that they both have the same order of columns"
   ]
  },
  {
   "cell_type": "code",
   "execution_count": 7,
   "id": "4ad63841",
   "metadata": {
    "execution": {
     "iopub.execute_input": "2024-05-02T14:36:36.160041Z",
     "iopub.status.busy": "2024-05-02T14:36:36.158538Z",
     "iopub.status.idle": "2024-05-02T14:36:36.168445Z",
     "shell.execute_reply": "2024-05-02T14:36:36.166923Z"
    },
    "papermill": {
     "duration": 0.026368,
     "end_time": "2024-05-02T14:36:36.171017",
     "exception": false,
     "start_time": "2024-05-02T14:36:36.144649",
     "status": "completed"
    },
    "tags": []
   },
   "outputs": [
    {
     "data": {
      "text/plain": [
       "Index(['ID', 'Time', 'Card Number', 'Amount', 'firstName', 'lastName',\n",
       "       'trans_num', 'is_fraud', 'category_entertainment',\n",
       "       'category_food_dining',\n",
       "       ...\n",
       "       'merchant_fraud_Yost, Schamberger and Windler',\n",
       "       'merchant_fraud_Yost-Rogahn', 'merchant_fraud_Zboncak LLC',\n",
       "       'merchant_fraud_Zboncak Ltd',\n",
       "       'merchant_fraud_Zboncak, Rowe and Murazik',\n",
       "       'merchant_fraud_Zemlak Group',\n",
       "       'merchant_fraud_Zemlak, Tillman and Cremin',\n",
       "       'merchant_fraud_Ziemann-Waters',\n",
       "       'merchant_fraud_Zieme, Bode and Dooley', 'merchant_fraud_Zulauf LLC'],\n",
       "      dtype='object', length=715)"
      ]
     },
     "execution_count": 7,
     "metadata": {},
     "output_type": "execute_result"
    }
   ],
   "source": [
    "train_df.columns"
   ]
  },
  {
   "cell_type": "code",
   "execution_count": 8,
   "id": "645eb4cf",
   "metadata": {
    "execution": {
     "iopub.execute_input": "2024-05-02T14:36:36.197300Z",
     "iopub.status.busy": "2024-05-02T14:36:36.196445Z",
     "iopub.status.idle": "2024-05-02T14:36:36.205196Z",
     "shell.execute_reply": "2024-05-02T14:36:36.203834Z"
    },
    "papermill": {
     "duration": 0.024623,
     "end_time": "2024-05-02T14:36:36.207757",
     "exception": false,
     "start_time": "2024-05-02T14:36:36.183134",
     "status": "completed"
    },
    "tags": []
   },
   "outputs": [
    {
     "data": {
      "text/plain": [
       "Index(['ID', 'Time', 'Card Number', 'Amount', 'firstName', 'lastName',\n",
       "       'trans_num', 'is_fraud', 'category_entertainment',\n",
       "       'category_food_dining',\n",
       "       ...\n",
       "       'merchant_fraud_Yost, Schamberger and Windler',\n",
       "       'merchant_fraud_Yost-Rogahn', 'merchant_fraud_Zboncak LLC',\n",
       "       'merchant_fraud_Zboncak Ltd',\n",
       "       'merchant_fraud_Zboncak, Rowe and Murazik',\n",
       "       'merchant_fraud_Zemlak Group',\n",
       "       'merchant_fraud_Zemlak, Tillman and Cremin',\n",
       "       'merchant_fraud_Ziemann-Waters',\n",
       "       'merchant_fraud_Zieme, Bode and Dooley', 'merchant_fraud_Zulauf LLC'],\n",
       "      dtype='object', length=715)"
      ]
     },
     "execution_count": 8,
     "metadata": {},
     "output_type": "execute_result"
    }
   ],
   "source": [
    "test_df.columns"
   ]
  },
  {
   "cell_type": "markdown",
   "id": "845c95aa",
   "metadata": {
    "papermill": {
     "duration": 0.011671,
     "end_time": "2024-05-02T14:36:36.231620",
     "exception": false,
     "start_time": "2024-05-02T14:36:36.219949",
     "status": "completed"
    },
    "tags": []
   },
   "source": [
    "# Feature Engineering"
   ]
  },
  {
   "cell_type": "code",
   "execution_count": 9,
   "id": "22b6d6ec",
   "metadata": {
    "execution": {
     "iopub.execute_input": "2024-05-02T14:36:36.258337Z",
     "iopub.status.busy": "2024-05-02T14:36:36.257411Z",
     "iopub.status.idle": "2024-05-02T14:36:37.179240Z",
     "shell.execute_reply": "2024-05-02T14:36:37.178271Z"
    },
    "papermill": {
     "duration": 0.939182,
     "end_time": "2024-05-02T14:36:37.182921",
     "exception": false,
     "start_time": "2024-05-02T14:36:36.243739",
     "status": "completed"
    },
    "tags": []
   },
   "outputs": [
    {
     "data": {
      "text/html": [
       "<div>\n",
       "<style scoped>\n",
       "    .dataframe tbody tr th:only-of-type {\n",
       "        vertical-align: middle;\n",
       "    }\n",
       "\n",
       "    .dataframe tbody tr th {\n",
       "        vertical-align: top;\n",
       "    }\n",
       "\n",
       "    .dataframe thead th {\n",
       "        text-align: right;\n",
       "    }\n",
       "</style>\n",
       "<table border=\"1\" class=\"dataframe\">\n",
       "  <thead>\n",
       "    <tr style=\"text-align: right;\">\n",
       "      <th></th>\n",
       "      <th>Amount</th>\n",
       "      <th>is_fraud</th>\n",
       "      <th>category_entertainment</th>\n",
       "      <th>category_food_dining</th>\n",
       "      <th>category_gas_transport</th>\n",
       "      <th>category_grocery_net</th>\n",
       "      <th>category_grocery_pos</th>\n",
       "      <th>category_health_fitness</th>\n",
       "      <th>category_home</th>\n",
       "      <th>category_kids_pets</th>\n",
       "      <th>...</th>\n",
       "      <th>merchant_fraud_Zboncak LLC</th>\n",
       "      <th>merchant_fraud_Zboncak Ltd</th>\n",
       "      <th>merchant_fraud_Zboncak, Rowe and Murazik</th>\n",
       "      <th>merchant_fraud_Zemlak Group</th>\n",
       "      <th>merchant_fraud_Zemlak, Tillman and Cremin</th>\n",
       "      <th>merchant_fraud_Ziemann-Waters</th>\n",
       "      <th>merchant_fraud_Zieme, Bode and Dooley</th>\n",
       "      <th>merchant_fraud_Zulauf LLC</th>\n",
       "      <th>Amount_diff_avg</th>\n",
       "      <th>Time_diff_prev_transaction</th>\n",
       "    </tr>\n",
       "  </thead>\n",
       "  <tbody>\n",
       "    <tr>\n",
       "      <th>1</th>\n",
       "      <td>107.23</td>\n",
       "      <td>0</td>\n",
       "      <td>0</td>\n",
       "      <td>0</td>\n",
       "      <td>0</td>\n",
       "      <td>0</td>\n",
       "      <td>1</td>\n",
       "      <td>0</td>\n",
       "      <td>0</td>\n",
       "      <td>0</td>\n",
       "      <td>...</td>\n",
       "      <td>0</td>\n",
       "      <td>0</td>\n",
       "      <td>0</td>\n",
       "      <td>0</td>\n",
       "      <td>0</td>\n",
       "      <td>0</td>\n",
       "      <td>0</td>\n",
       "      <td>0</td>\n",
       "      <td>35.321768</td>\n",
       "      <td>0.000000</td>\n",
       "    </tr>\n",
       "    <tr>\n",
       "      <th>2</th>\n",
       "      <td>220.11</td>\n",
       "      <td>0</td>\n",
       "      <td>1</td>\n",
       "      <td>0</td>\n",
       "      <td>0</td>\n",
       "      <td>0</td>\n",
       "      <td>0</td>\n",
       "      <td>0</td>\n",
       "      <td>0</td>\n",
       "      <td>0</td>\n",
       "      <td>...</td>\n",
       "      <td>0</td>\n",
       "      <td>0</td>\n",
       "      <td>0</td>\n",
       "      <td>0</td>\n",
       "      <td>0</td>\n",
       "      <td>0</td>\n",
       "      <td>0</td>\n",
       "      <td>0</td>\n",
       "      <td>148.201768</td>\n",
       "      <td>0.000000</td>\n",
       "    </tr>\n",
       "    <tr>\n",
       "      <th>3</th>\n",
       "      <td>45.00</td>\n",
       "      <td>0</td>\n",
       "      <td>0</td>\n",
       "      <td>0</td>\n",
       "      <td>1</td>\n",
       "      <td>0</td>\n",
       "      <td>0</td>\n",
       "      <td>0</td>\n",
       "      <td>0</td>\n",
       "      <td>0</td>\n",
       "      <td>...</td>\n",
       "      <td>0</td>\n",
       "      <td>0</td>\n",
       "      <td>0</td>\n",
       "      <td>0</td>\n",
       "      <td>0</td>\n",
       "      <td>0</td>\n",
       "      <td>0</td>\n",
       "      <td>0</td>\n",
       "      <td>-26.908232</td>\n",
       "      <td>0.016667</td>\n",
       "    </tr>\n",
       "    <tr>\n",
       "      <th>4</th>\n",
       "      <td>41.96</td>\n",
       "      <td>0</td>\n",
       "      <td>0</td>\n",
       "      <td>0</td>\n",
       "      <td>0</td>\n",
       "      <td>0</td>\n",
       "      <td>0</td>\n",
       "      <td>0</td>\n",
       "      <td>0</td>\n",
       "      <td>0</td>\n",
       "      <td>...</td>\n",
       "      <td>0</td>\n",
       "      <td>0</td>\n",
       "      <td>0</td>\n",
       "      <td>0</td>\n",
       "      <td>0</td>\n",
       "      <td>0</td>\n",
       "      <td>0</td>\n",
       "      <td>0</td>\n",
       "      <td>-29.948232</td>\n",
       "      <td>0.033333</td>\n",
       "    </tr>\n",
       "    <tr>\n",
       "      <th>5</th>\n",
       "      <td>94.63</td>\n",
       "      <td>0</td>\n",
       "      <td>0</td>\n",
       "      <td>0</td>\n",
       "      <td>1</td>\n",
       "      <td>0</td>\n",
       "      <td>0</td>\n",
       "      <td>0</td>\n",
       "      <td>0</td>\n",
       "      <td>0</td>\n",
       "      <td>...</td>\n",
       "      <td>0</td>\n",
       "      <td>0</td>\n",
       "      <td>0</td>\n",
       "      <td>0</td>\n",
       "      <td>0</td>\n",
       "      <td>0</td>\n",
       "      <td>0</td>\n",
       "      <td>0</td>\n",
       "      <td>22.721768</td>\n",
       "      <td>0.016667</td>\n",
       "    </tr>\n",
       "  </tbody>\n",
       "</table>\n",
       "<p>5 rows × 711 columns</p>\n",
       "</div>"
      ],
      "text/plain": [
       "   Amount  is_fraud  category_entertainment  category_food_dining  \\\n",
       "1  107.23         0                       0                     0   \n",
       "2  220.11         0                       1                     0   \n",
       "3   45.00         0                       0                     0   \n",
       "4   41.96         0                       0                     0   \n",
       "5   94.63         0                       0                     0   \n",
       "\n",
       "   category_gas_transport  category_grocery_net  category_grocery_pos  \\\n",
       "1                       0                     0                     1   \n",
       "2                       0                     0                     0   \n",
       "3                       1                     0                     0   \n",
       "4                       0                     0                     0   \n",
       "5                       1                     0                     0   \n",
       "\n",
       "   category_health_fitness  category_home  category_kids_pets  ...  \\\n",
       "1                        0              0                   0  ...   \n",
       "2                        0              0                   0  ...   \n",
       "3                        0              0                   0  ...   \n",
       "4                        0              0                   0  ...   \n",
       "5                        0              0                   0  ...   \n",
       "\n",
       "   merchant_fraud_Zboncak LLC  merchant_fraud_Zboncak Ltd  \\\n",
       "1                           0                           0   \n",
       "2                           0                           0   \n",
       "3                           0                           0   \n",
       "4                           0                           0   \n",
       "5                           0                           0   \n",
       "\n",
       "   merchant_fraud_Zboncak, Rowe and Murazik  merchant_fraud_Zemlak Group  \\\n",
       "1                                         0                            0   \n",
       "2                                         0                            0   \n",
       "3                                         0                            0   \n",
       "4                                         0                            0   \n",
       "5                                         0                            0   \n",
       "\n",
       "   merchant_fraud_Zemlak, Tillman and Cremin  merchant_fraud_Ziemann-Waters  \\\n",
       "1                                          0                              0   \n",
       "2                                          0                              0   \n",
       "3                                          0                              0   \n",
       "4                                          0                              0   \n",
       "5                                          0                              0   \n",
       "\n",
       "   merchant_fraud_Zieme, Bode and Dooley  merchant_fraud_Zulauf LLC  \\\n",
       "1                                      0                          0   \n",
       "2                                      0                          0   \n",
       "3                                      0                          0   \n",
       "4                                      0                          0   \n",
       "5                                      0                          0   \n",
       "\n",
       "   Amount_diff_avg  Time_diff_prev_transaction  \n",
       "1        35.321768                    0.000000  \n",
       "2       148.201768                    0.000000  \n",
       "3       -26.908232                    0.016667  \n",
       "4       -29.948232                    0.033333  \n",
       "5        22.721768                    0.016667  \n",
       "\n",
       "[5 rows x 711 columns]"
      ]
     },
     "execution_count": 9,
     "metadata": {},
     "output_type": "execute_result"
    }
   ],
   "source": [
    "# TODO Tebry\n",
    "#train\n",
    "\n",
    "\n",
    "# Convert the 'Time' column to datetime format\n",
    "train_df['Time'] = pd.to_datetime(train_df['Time'])\n",
    "\n",
    "\n",
    "# Calculate the average transaction amount of all transactions\n",
    "average_amount_all = train_df['Amount'].mean()\n",
    "\n",
    "# Calculate the difference between current transaction amount and average of all transactions\n",
    "train_df['Amount_diff_avg'] = train_df['Amount'] - average_amount_all\n",
    "\n",
    "# Calculate the time difference between previous transactions for each card in hours\n",
    "time_diff_seconds = train_df['Time'].diff().dt.total_seconds() % (24 * 3600)\n",
    "train_df['Time_diff_prev_transaction'] = time_diff_seconds / 3600  \n",
    "\n",
    "columns_to_drop = ['ID', 'Time', 'Card Number', 'firstName', 'lastName', 'trans_num']\n",
    "train_df.drop(columns=columns_to_drop, inplace=True)\n",
    "\n",
    "train_df.dropna(inplace=True)\n",
    "train_df.head()\n"
   ]
  },
  {
   "cell_type": "code",
   "execution_count": 10,
   "id": "122f4846",
   "metadata": {
    "execution": {
     "iopub.execute_input": "2024-05-02T14:36:37.214668Z",
     "iopub.status.busy": "2024-05-02T14:36:37.213954Z",
     "iopub.status.idle": "2024-05-02T14:36:41.476091Z",
     "shell.execute_reply": "2024-05-02T14:36:41.474990Z"
    },
    "papermill": {
     "duration": 4.27972,
     "end_time": "2024-05-02T14:36:41.478776",
     "exception": false,
     "start_time": "2024-05-02T14:36:37.199056",
     "status": "completed"
    },
    "tags": []
   },
   "outputs": [
    {
     "data": {
      "text/html": [
       "<div>\n",
       "<style scoped>\n",
       "    .dataframe tbody tr th:only-of-type {\n",
       "        vertical-align: middle;\n",
       "    }\n",
       "\n",
       "    .dataframe tbody tr th {\n",
       "        vertical-align: top;\n",
       "    }\n",
       "\n",
       "    .dataframe thead th {\n",
       "        text-align: right;\n",
       "    }\n",
       "</style>\n",
       "<table border=\"1\" class=\"dataframe\">\n",
       "  <thead>\n",
       "    <tr style=\"text-align: right;\">\n",
       "      <th></th>\n",
       "      <th>Amount</th>\n",
       "      <th>is_fraud</th>\n",
       "      <th>category_entertainment</th>\n",
       "      <th>category_food_dining</th>\n",
       "      <th>category_gas_transport</th>\n",
       "      <th>category_grocery_net</th>\n",
       "      <th>category_grocery_pos</th>\n",
       "      <th>category_health_fitness</th>\n",
       "      <th>category_home</th>\n",
       "      <th>category_kids_pets</th>\n",
       "      <th>...</th>\n",
       "      <th>merchant_fraud_Zboncak LLC</th>\n",
       "      <th>merchant_fraud_Zboncak Ltd</th>\n",
       "      <th>merchant_fraud_Zboncak, Rowe and Murazik</th>\n",
       "      <th>merchant_fraud_Zemlak Group</th>\n",
       "      <th>merchant_fraud_Zemlak, Tillman and Cremin</th>\n",
       "      <th>merchant_fraud_Ziemann-Waters</th>\n",
       "      <th>merchant_fraud_Zieme, Bode and Dooley</th>\n",
       "      <th>merchant_fraud_Zulauf LLC</th>\n",
       "      <th>Amount_diff_avg</th>\n",
       "      <th>Time_diff_prev_transaction</th>\n",
       "    </tr>\n",
       "  </thead>\n",
       "  <tbody>\n",
       "    <tr>\n",
       "      <th>1</th>\n",
       "      <td>29.84</td>\n",
       "      <td>0</td>\n",
       "      <td>0</td>\n",
       "      <td>0</td>\n",
       "      <td>0</td>\n",
       "      <td>0</td>\n",
       "      <td>0</td>\n",
       "      <td>0</td>\n",
       "      <td>0</td>\n",
       "      <td>0</td>\n",
       "      <td>...</td>\n",
       "      <td>0</td>\n",
       "      <td>0</td>\n",
       "      <td>0</td>\n",
       "      <td>0</td>\n",
       "      <td>0</td>\n",
       "      <td>0</td>\n",
       "      <td>0</td>\n",
       "      <td>0</td>\n",
       "      <td>-39.55281</td>\n",
       "      <td>0.002222</td>\n",
       "    </tr>\n",
       "    <tr>\n",
       "      <th>2</th>\n",
       "      <td>41.28</td>\n",
       "      <td>0</td>\n",
       "      <td>0</td>\n",
       "      <td>0</td>\n",
       "      <td>0</td>\n",
       "      <td>0</td>\n",
       "      <td>0</td>\n",
       "      <td>1</td>\n",
       "      <td>0</td>\n",
       "      <td>0</td>\n",
       "      <td>...</td>\n",
       "      <td>0</td>\n",
       "      <td>0</td>\n",
       "      <td>0</td>\n",
       "      <td>0</td>\n",
       "      <td>0</td>\n",
       "      <td>0</td>\n",
       "      <td>0</td>\n",
       "      <td>0</td>\n",
       "      <td>-28.11281</td>\n",
       "      <td>0.005556</td>\n",
       "    </tr>\n",
       "    <tr>\n",
       "      <th>3</th>\n",
       "      <td>60.05</td>\n",
       "      <td>0</td>\n",
       "      <td>0</td>\n",
       "      <td>0</td>\n",
       "      <td>0</td>\n",
       "      <td>0</td>\n",
       "      <td>0</td>\n",
       "      <td>0</td>\n",
       "      <td>0</td>\n",
       "      <td>0</td>\n",
       "      <td>...</td>\n",
       "      <td>0</td>\n",
       "      <td>0</td>\n",
       "      <td>0</td>\n",
       "      <td>0</td>\n",
       "      <td>0</td>\n",
       "      <td>0</td>\n",
       "      <td>0</td>\n",
       "      <td>0</td>\n",
       "      <td>-9.34281</td>\n",
       "      <td>0.006111</td>\n",
       "    </tr>\n",
       "    <tr>\n",
       "      <th>4</th>\n",
       "      <td>3.19</td>\n",
       "      <td>0</td>\n",
       "      <td>0</td>\n",
       "      <td>0</td>\n",
       "      <td>0</td>\n",
       "      <td>0</td>\n",
       "      <td>0</td>\n",
       "      <td>0</td>\n",
       "      <td>0</td>\n",
       "      <td>0</td>\n",
       "      <td>...</td>\n",
       "      <td>0</td>\n",
       "      <td>0</td>\n",
       "      <td>0</td>\n",
       "      <td>0</td>\n",
       "      <td>0</td>\n",
       "      <td>0</td>\n",
       "      <td>0</td>\n",
       "      <td>0</td>\n",
       "      <td>-66.20281</td>\n",
       "      <td>0.000556</td>\n",
       "    </tr>\n",
       "    <tr>\n",
       "      <th>5</th>\n",
       "      <td>19.55</td>\n",
       "      <td>0</td>\n",
       "      <td>0</td>\n",
       "      <td>0</td>\n",
       "      <td>0</td>\n",
       "      <td>0</td>\n",
       "      <td>0</td>\n",
       "      <td>0</td>\n",
       "      <td>0</td>\n",
       "      <td>1</td>\n",
       "      <td>...</td>\n",
       "      <td>0</td>\n",
       "      <td>0</td>\n",
       "      <td>0</td>\n",
       "      <td>0</td>\n",
       "      <td>0</td>\n",
       "      <td>0</td>\n",
       "      <td>0</td>\n",
       "      <td>0</td>\n",
       "      <td>-49.84281</td>\n",
       "      <td>0.005556</td>\n",
       "    </tr>\n",
       "  </tbody>\n",
       "</table>\n",
       "<p>5 rows × 711 columns</p>\n",
       "</div>"
      ],
      "text/plain": [
       "   Amount  is_fraud  category_entertainment  category_food_dining  \\\n",
       "1   29.84         0                       0                     0   \n",
       "2   41.28         0                       0                     0   \n",
       "3   60.05         0                       0                     0   \n",
       "4    3.19         0                       0                     0   \n",
       "5   19.55         0                       0                     0   \n",
       "\n",
       "   category_gas_transport  category_grocery_net  category_grocery_pos  \\\n",
       "1                       0                     0                     0   \n",
       "2                       0                     0                     0   \n",
       "3                       0                     0                     0   \n",
       "4                       0                     0                     0   \n",
       "5                       0                     0                     0   \n",
       "\n",
       "   category_health_fitness  category_home  category_kids_pets  ...  \\\n",
       "1                        0              0                   0  ...   \n",
       "2                        1              0                   0  ...   \n",
       "3                        0              0                   0  ...   \n",
       "4                        0              0                   0  ...   \n",
       "5                        0              0                   1  ...   \n",
       "\n",
       "   merchant_fraud_Zboncak LLC  merchant_fraud_Zboncak Ltd  \\\n",
       "1                           0                           0   \n",
       "2                           0                           0   \n",
       "3                           0                           0   \n",
       "4                           0                           0   \n",
       "5                           0                           0   \n",
       "\n",
       "   merchant_fraud_Zboncak, Rowe and Murazik  merchant_fraud_Zemlak Group  \\\n",
       "1                                         0                            0   \n",
       "2                                         0                            0   \n",
       "3                                         0                            0   \n",
       "4                                         0                            0   \n",
       "5                                         0                            0   \n",
       "\n",
       "   merchant_fraud_Zemlak, Tillman and Cremin  merchant_fraud_Ziemann-Waters  \\\n",
       "1                                          0                              0   \n",
       "2                                          0                              0   \n",
       "3                                          0                              0   \n",
       "4                                          0                              0   \n",
       "5                                          0                              0   \n",
       "\n",
       "   merchant_fraud_Zieme, Bode and Dooley  merchant_fraud_Zulauf LLC  \\\n",
       "1                                      0                          0   \n",
       "2                                      0                          0   \n",
       "3                                      0                          0   \n",
       "4                                      0                          0   \n",
       "5                                      0                          0   \n",
       "\n",
       "   Amount_diff_avg  Time_diff_prev_transaction  \n",
       "1        -39.55281                    0.002222  \n",
       "2        -28.11281                    0.005556  \n",
       "3         -9.34281                    0.006111  \n",
       "4        -66.20281                    0.000556  \n",
       "5        -49.84281                    0.005556  \n",
       "\n",
       "[5 rows x 711 columns]"
      ]
     },
     "execution_count": 10,
     "metadata": {},
     "output_type": "execute_result"
    }
   ],
   "source": [
    "# TODO Tebry\n",
    "#test\n",
    "\n",
    "# Convert the 'Time' column to datetime format\n",
    "test_df['Time'] = pd.to_datetime(test_df['Time'])\n",
    "\n",
    "\n",
    "# Calculate the average transaction amount of all transactions\n",
    "average_amount_all = test_df['Amount'].mean()\n",
    "\n",
    "# Calculate the difference between current transaction amount and average of all transactions\n",
    "test_df['Amount_diff_avg'] = test_df['Amount'] - average_amount_all\n",
    "\n",
    "# Calculate the time difference between previous transactions for each card in hours\n",
    "time_diff_seconds = test_df['Time'].diff().dt.total_seconds() % (24 * 3600)\n",
    "test_df['Time_diff_prev_transaction'] = time_diff_seconds / 3600  \n",
    "\n",
    "columns_to_drop = ['ID', 'Time', 'Card Number', 'firstName', 'lastName', 'trans_num']\n",
    "test_df.drop(columns=columns_to_drop, inplace=True)\n",
    "\n",
    "test_df.dropna(inplace=True)\n",
    "test_df.head()"
   ]
  },
  {
   "cell_type": "code",
   "execution_count": 11,
   "id": "19712677",
   "metadata": {
    "execution": {
     "iopub.execute_input": "2024-05-02T14:36:41.506926Z",
     "iopub.status.busy": "2024-05-02T14:36:41.506516Z",
     "iopub.status.idle": "2024-05-02T14:36:41.514541Z",
     "shell.execute_reply": "2024-05-02T14:36:41.513352Z"
    },
    "papermill": {
     "duration": 0.025364,
     "end_time": "2024-05-02T14:36:41.517276",
     "exception": false,
     "start_time": "2024-05-02T14:36:41.491912",
     "status": "completed"
    },
    "tags": []
   },
   "outputs": [],
   "source": [
    "y_train=np.array(train_df['is_fraud'])\n",
    "y_test=np.array(test_df['is_fraud'])"
   ]
  },
  {
   "cell_type": "code",
   "execution_count": 12,
   "id": "2bb827ea",
   "metadata": {
    "execution": {
     "iopub.execute_input": "2024-05-02T14:36:41.545022Z",
     "iopub.status.busy": "2024-05-02T14:36:41.544639Z",
     "iopub.status.idle": "2024-05-02T14:36:43.390270Z",
     "shell.execute_reply": "2024-05-02T14:36:43.388850Z"
    },
    "papermill": {
     "duration": 1.862758,
     "end_time": "2024-05-02T14:36:43.393151",
     "exception": false,
     "start_time": "2024-05-02T14:36:41.530393",
     "status": "completed"
    },
    "tags": []
   },
   "outputs": [],
   "source": [
    "train_df=train_df.drop('is_fraud',axis=1)\n",
    "test_df=test_df.drop('is_fraud',axis=1)"
   ]
  },
  {
   "cell_type": "markdown",
   "id": "052801e4",
   "metadata": {
    "papermill": {
     "duration": 0.012357,
     "end_time": "2024-05-02T14:36:43.418311",
     "exception": false,
     "start_time": "2024-05-02T14:36:43.405954",
     "status": "completed"
    },
    "tags": []
   },
   "source": [
    "* Memory managment because the data is so large"
   ]
  },
  {
   "cell_type": "code",
   "execution_count": 13,
   "id": "3dd0bd05",
   "metadata": {
    "execution": {
     "iopub.execute_input": "2024-05-02T14:36:43.445198Z",
     "iopub.status.busy": "2024-05-02T14:36:43.444836Z",
     "iopub.status.idle": "2024-05-02T14:36:49.062721Z",
     "shell.execute_reply": "2024-05-02T14:36:49.061195Z"
    },
    "papermill": {
     "duration": 5.634729,
     "end_time": "2024-05-02T14:36:49.065573",
     "exception": false,
     "start_time": "2024-05-02T14:36:43.430844",
     "status": "completed"
    },
    "tags": []
   },
   "outputs": [
    {
     "data": {
      "text/plain": [
       "0"
      ]
     },
     "execution_count": 13,
     "metadata": {},
     "output_type": "execute_result"
    }
   ],
   "source": [
    "x_train=np.array(train_df)\n",
    "del train_df\n",
    "gc.collect()\n",
    "x_test=np.array(test_df)\n",
    "del test_df\n",
    "gc.collect()"
   ]
  },
  {
   "cell_type": "markdown",
   "id": "c035e741",
   "metadata": {
    "papermill": {
     "duration": 0.012948,
     "end_time": "2024-05-02T14:36:49.091705",
     "exception": false,
     "start_time": "2024-05-02T14:36:49.078757",
     "status": "completed"
    },
    "tags": []
   },
   "source": [
    "* To get the percentage of positives in the data "
   ]
  },
  {
   "cell_type": "code",
   "execution_count": 14,
   "id": "fe91ce75",
   "metadata": {
    "execution": {
     "iopub.execute_input": "2024-05-02T14:36:49.120362Z",
     "iopub.status.busy": "2024-05-02T14:36:49.119947Z",
     "iopub.status.idle": "2024-05-02T14:36:49.129183Z",
     "shell.execute_reply": "2024-05-02T14:36:49.127588Z"
    },
    "papermill": {
     "duration": 0.027763,
     "end_time": "2024-05-02T14:36:49.132753",
     "exception": false,
     "start_time": "2024-05-02T14:36:49.104990",
     "status": "completed"
    },
    "tags": []
   },
   "outputs": [
    {
     "data": {
      "text/plain": [
       "0.9900099000990009"
      ]
     },
     "execution_count": 14,
     "metadata": {},
     "output_type": "execute_result"
    }
   ],
   "source": [
    "# Hakim\n",
    "y_train.sum()/len(y_train)*100"
   ]
  },
  {
   "cell_type": "markdown",
   "id": "0b58c80d",
   "metadata": {
    "papermill": {
     "duration": 0.01381,
     "end_time": "2024-05-02T14:36:49.160950",
     "exception": false,
     "start_time": "2024-05-02T14:36:49.147140",
     "status": "completed"
    },
    "tags": []
   },
   "source": [
    "#  The data is highly imbalanced ,only 1% of the data is positive , which makes the model overfit"
   ]
  },
  {
   "cell_type": "code",
   "execution_count": 15,
   "id": "56f4867b",
   "metadata": {
    "execution": {
     "iopub.execute_input": "2024-05-02T14:36:49.189886Z",
     "iopub.status.busy": "2024-05-02T14:36:49.189477Z",
     "iopub.status.idle": "2024-05-02T14:36:49.196419Z",
     "shell.execute_reply": "2024-05-02T14:36:49.195273Z"
    },
    "papermill": {
     "duration": 0.02451,
     "end_time": "2024-05-02T14:36:49.198816",
     "exception": false,
     "start_time": "2024-05-02T14:36:49.174306",
     "status": "completed"
    },
    "tags": []
   },
   "outputs": [
    {
     "data": {
      "text/plain": [
       "990"
      ]
     },
     "execution_count": 15,
     "metadata": {},
     "output_type": "execute_result"
    }
   ],
   "source": [
    "y_train.sum() #number of positives in the data"
   ]
  },
  {
   "cell_type": "markdown",
   "id": "99d2cdf7",
   "metadata": {
    "papermill": {
     "duration": 0.013637,
     "end_time": "2024-05-02T14:36:49.226711",
     "exception": false,
     "start_time": "2024-05-02T14:36:49.213074",
     "status": "completed"
    },
    "tags": []
   },
   "source": [
    "* To make the data balanced , we will take all of the positive class in the data (990) and only 2750 of the negative class"
   ]
  },
  {
   "cell_type": "code",
   "execution_count": 16,
   "id": "9235c15d",
   "metadata": {
    "execution": {
     "iopub.execute_input": "2024-05-02T14:36:49.257329Z",
     "iopub.status.busy": "2024-05-02T14:36:49.256914Z",
     "iopub.status.idle": "2024-05-02T14:36:49.293690Z",
     "shell.execute_reply": "2024-05-02T14:36:49.292547Z"
    },
    "papermill": {
     "duration": 0.055934,
     "end_time": "2024-05-02T14:36:49.297052",
     "exception": false,
     "start_time": "2024-05-02T14:36:49.241118",
     "status": "completed"
    },
    "tags": []
   },
   "outputs": [],
   "source": [
    "# Hakim\n",
    "balanced_x_train=np.concatenate((x_train[np.where(y_train == 1)],x_train[np.where(y_train[:2750] == 0)]))\n",
    "balanced_y_train=np.concatenate((y_train[np.where(y_train == 1)],y_train[np.where(y_train[:2750] == 0)]))"
   ]
  },
  {
   "cell_type": "markdown",
   "id": "1a98408d",
   "metadata": {
    "papermill": {
     "duration": 0.013565,
     "end_time": "2024-05-02T14:36:49.324933",
     "exception": false,
     "start_time": "2024-05-02T14:36:49.311368",
     "status": "completed"
    },
    "tags": []
   },
   "source": [
    "* Doing the same for test data but this time to get accurate results , it doesn't have anythong to do with the model"
   ]
  },
  {
   "cell_type": "code",
   "execution_count": 17,
   "id": "23ca1be3",
   "metadata": {
    "execution": {
     "iopub.execute_input": "2024-05-02T14:36:49.354463Z",
     "iopub.status.busy": "2024-05-02T14:36:49.354065Z",
     "iopub.status.idle": "2024-05-02T14:36:49.451565Z",
     "shell.execute_reply": "2024-05-02T14:36:49.450355Z"
    },
    "papermill": {
     "duration": 0.115477,
     "end_time": "2024-05-02T14:36:49.454586",
     "exception": false,
     "start_time": "2024-05-02T14:36:49.339109",
     "status": "completed"
    },
    "tags": []
   },
   "outputs": [],
   "source": [
    "balanced_x_test=np.concatenate((x_test[np.where(y_test == 1)],x_test[np.where(y_test[:8000] == 0)]))\n",
    "balanced_y_test=np.concatenate((y_test[np.where(y_test == 1)],y_test[np.where(y_test[:8000] == 0)]))"
   ]
  },
  {
   "cell_type": "markdown",
   "id": "4d6fd36c",
   "metadata": {
    "papermill": {
     "duration": 0.013675,
     "end_time": "2024-05-02T14:36:49.481954",
     "exception": false,
     "start_time": "2024-05-02T14:36:49.468279",
     "status": "completed"
    },
    "tags": []
   },
   "source": [
    "* Shuffle the data so the model doesn't overfit "
   ]
  },
  {
   "cell_type": "code",
   "execution_count": 18,
   "id": "cf3f784e",
   "metadata": {
    "execution": {
     "iopub.execute_input": "2024-05-02T14:36:49.511096Z",
     "iopub.status.busy": "2024-05-02T14:36:49.510695Z",
     "iopub.status.idle": "2024-05-02T14:36:49.530615Z",
     "shell.execute_reply": "2024-05-02T14:36:49.529386Z"
    },
    "papermill": {
     "duration": 0.037411,
     "end_time": "2024-05-02T14:36:49.533342",
     "exception": false,
     "start_time": "2024-05-02T14:36:49.495931",
     "status": "completed"
    },
    "tags": []
   },
   "outputs": [],
   "source": [
    "# Hakim\n",
    "np.random.seed(42)\n",
    "np.random.shuffle(balanced_x_train)\n",
    "np.random.seed(42) # for some reason the seed has to be set twice\n",
    "np.random.shuffle(balanced_y_train)"
   ]
  },
  {
   "cell_type": "markdown",
   "id": "016c6ead",
   "metadata": {
    "papermill": {
     "duration": 0.013343,
     "end_time": "2024-05-02T14:36:49.560416",
     "exception": false,
     "start_time": "2024-05-02T14:36:49.547073",
     "status": "completed"
    },
    "tags": []
   },
   "source": [
    "# Model Selection and Training"
   ]
  },
  {
   "cell_type": "code",
   "execution_count": 19,
   "id": "f0348c51",
   "metadata": {
    "execution": {
     "iopub.execute_input": "2024-05-02T14:36:49.589012Z",
     "iopub.status.busy": "2024-05-02T14:36:49.588590Z",
     "iopub.status.idle": "2024-05-02T14:36:59.001186Z",
     "shell.execute_reply": "2024-05-02T14:36:58.999713Z"
    },
    "papermill": {
     "duration": 9.430612,
     "end_time": "2024-05-02T14:36:59.004439",
     "exception": false,
     "start_time": "2024-05-02T14:36:49.573827",
     "status": "completed"
    },
    "tags": []
   },
   "outputs": [
    {
     "data": {
      "text/html": [
       "<style>#sk-container-id-1 {color: black;background-color: white;}#sk-container-id-1 pre{padding: 0;}#sk-container-id-1 div.sk-toggleable {background-color: white;}#sk-container-id-1 label.sk-toggleable__label {cursor: pointer;display: block;width: 100%;margin-bottom: 0;padding: 0.3em;box-sizing: border-box;text-align: center;}#sk-container-id-1 label.sk-toggleable__label-arrow:before {content: \"▸\";float: left;margin-right: 0.25em;color: #696969;}#sk-container-id-1 label.sk-toggleable__label-arrow:hover:before {color: black;}#sk-container-id-1 div.sk-estimator:hover label.sk-toggleable__label-arrow:before {color: black;}#sk-container-id-1 div.sk-toggleable__content {max-height: 0;max-width: 0;overflow: hidden;text-align: left;background-color: #f0f8ff;}#sk-container-id-1 div.sk-toggleable__content pre {margin: 0.2em;color: black;border-radius: 0.25em;background-color: #f0f8ff;}#sk-container-id-1 input.sk-toggleable__control:checked~div.sk-toggleable__content {max-height: 200px;max-width: 100%;overflow: auto;}#sk-container-id-1 input.sk-toggleable__control:checked~label.sk-toggleable__label-arrow:before {content: \"▾\";}#sk-container-id-1 div.sk-estimator input.sk-toggleable__control:checked~label.sk-toggleable__label {background-color: #d4ebff;}#sk-container-id-1 div.sk-label input.sk-toggleable__control:checked~label.sk-toggleable__label {background-color: #d4ebff;}#sk-container-id-1 input.sk-hidden--visually {border: 0;clip: rect(1px 1px 1px 1px);clip: rect(1px, 1px, 1px, 1px);height: 1px;margin: -1px;overflow: hidden;padding: 0;position: absolute;width: 1px;}#sk-container-id-1 div.sk-estimator {font-family: monospace;background-color: #f0f8ff;border: 1px dotted black;border-radius: 0.25em;box-sizing: border-box;margin-bottom: 0.5em;}#sk-container-id-1 div.sk-estimator:hover {background-color: #d4ebff;}#sk-container-id-1 div.sk-parallel-item::after {content: \"\";width: 100%;border-bottom: 1px solid gray;flex-grow: 1;}#sk-container-id-1 div.sk-label:hover label.sk-toggleable__label {background-color: #d4ebff;}#sk-container-id-1 div.sk-serial::before {content: \"\";position: absolute;border-left: 1px solid gray;box-sizing: border-box;top: 0;bottom: 0;left: 50%;z-index: 0;}#sk-container-id-1 div.sk-serial {display: flex;flex-direction: column;align-items: center;background-color: white;padding-right: 0.2em;padding-left: 0.2em;position: relative;}#sk-container-id-1 div.sk-item {position: relative;z-index: 1;}#sk-container-id-1 div.sk-parallel {display: flex;align-items: stretch;justify-content: center;background-color: white;position: relative;}#sk-container-id-1 div.sk-item::before, #sk-container-id-1 div.sk-parallel-item::before {content: \"\";position: absolute;border-left: 1px solid gray;box-sizing: border-box;top: 0;bottom: 0;left: 50%;z-index: -1;}#sk-container-id-1 div.sk-parallel-item {display: flex;flex-direction: column;z-index: 1;position: relative;background-color: white;}#sk-container-id-1 div.sk-parallel-item:first-child::after {align-self: flex-end;width: 50%;}#sk-container-id-1 div.sk-parallel-item:last-child::after {align-self: flex-start;width: 50%;}#sk-container-id-1 div.sk-parallel-item:only-child::after {width: 0;}#sk-container-id-1 div.sk-dashed-wrapped {border: 1px dashed gray;margin: 0 0.4em 0.5em 0.4em;box-sizing: border-box;padding-bottom: 0.4em;background-color: white;}#sk-container-id-1 div.sk-label label {font-family: monospace;font-weight: bold;display: inline-block;line-height: 1.2em;}#sk-container-id-1 div.sk-label-container {text-align: center;}#sk-container-id-1 div.sk-container {/* jupyter's `normalize.less` sets `[hidden] { display: none; }` but bootstrap.min.css set `[hidden] { display: none !important; }` so we also need the `!important` here to be able to override the default hidden behavior on the sphinx rendered scikit-learn.org. See: https://github.com/scikit-learn/scikit-learn/issues/21755 */display: inline-block !important;position: relative;}#sk-container-id-1 div.sk-text-repr-fallback {display: none;}</style><div id=\"sk-container-id-1\" class=\"sk-top-container\"><div class=\"sk-text-repr-fallback\"><pre>SVC(gamma=0.4)</pre><b>In a Jupyter environment, please rerun this cell to show the HTML representation or trust the notebook. <br />On GitHub, the HTML representation is unable to render, please try loading this page with nbviewer.org.</b></div><div class=\"sk-container\" hidden><div class=\"sk-item\"><div class=\"sk-estimator sk-toggleable\"><input class=\"sk-toggleable__control sk-hidden--visually\" id=\"sk-estimator-id-1\" type=\"checkbox\" checked><label for=\"sk-estimator-id-1\" class=\"sk-toggleable__label sk-toggleable__label-arrow\">SVC</label><div class=\"sk-toggleable__content\"><pre>SVC(gamma=0.4)</pre></div></div></div></div></div>"
      ],
      "text/plain": [
       "SVC(gamma=0.4)"
      ]
     },
     "execution_count": 19,
     "metadata": {},
     "output_type": "execute_result"
    }
   ],
   "source": [
    "svm = SVC(kernel=\"rbf\", gamma=0.4, C=1.0)\n",
    "svm.fit(balanced_x_train, balanced_y_train)"
   ]
  },
  {
   "cell_type": "markdown",
   "id": "c9e1d348",
   "metadata": {
    "papermill": {
     "duration": 0.014021,
     "end_time": "2024-05-02T14:36:59.032930",
     "exception": false,
     "start_time": "2024-05-02T14:36:59.018909",
     "status": "completed"
    },
    "tags": []
   },
   "source": [
    "# Model Evaluation"
   ]
  },
  {
   "cell_type": "code",
   "execution_count": 20,
   "id": "7d2bc870",
   "metadata": {
    "execution": {
     "iopub.execute_input": "2024-05-02T14:36:59.063640Z",
     "iopub.status.busy": "2024-05-02T14:36:59.063128Z",
     "iopub.status.idle": "2024-05-02T14:37:31.096174Z",
     "shell.execute_reply": "2024-05-02T14:37:31.094846Z"
    },
    "papermill": {
     "duration": 32.052302,
     "end_time": "2024-05-02T14:37:31.099454",
     "exception": false,
     "start_time": "2024-05-02T14:36:59.047152",
     "status": "completed"
    },
    "tags": []
   },
   "outputs": [],
   "source": [
    "# TODO Watany me4 h3ml 7aga\n",
    "y_pred = svm.predict(balanced_x_test) # getting predictions on test data for evaluation"
   ]
  },
  {
   "cell_type": "code",
   "execution_count": 21,
   "id": "a7810267",
   "metadata": {
    "execution": {
     "iopub.execute_input": "2024-05-02T14:37:31.129226Z",
     "iopub.status.busy": "2024-05-02T14:37:31.128793Z",
     "iopub.status.idle": "2024-05-02T14:37:31.161557Z",
     "shell.execute_reply": "2024-05-02T14:37:31.160392Z"
    },
    "papermill": {
     "duration": 0.050557,
     "end_time": "2024-05-02T14:37:31.164276",
     "exception": false,
     "start_time": "2024-05-02T14:37:31.113719",
     "status": "completed"
    },
    "tags": []
   },
   "outputs": [
    {
     "name": "stdout",
     "output_type": "stream",
     "text": [
      "balanced accuracy: 0.9152276861602506\n",
      "F1-score: 0.8561020036429872\n",
      "precision: 0.8366711170449488\n",
      "recall: 0.8764568764568764\n",
      "AUC-PRC: 0.9152276861602507\n"
     ]
    }
   ],
   "source": [
    "balanced_accuracy=balanced_accuracy_score(balanced_y_test,y_pred)\n",
    "f1 = f1_score(balanced_y_test, y_pred)\n",
    "precision= precision_score(balanced_y_test, y_pred)\n",
    "recall=recall_score(balanced_y_test,y_pred)\n",
    "auc_prc = roc_auc_score(balanced_y_test, y_pred)\n",
    "\n",
    "print(\"balanced accuracy:\" ,balanced_accuracy)\n",
    "print(\"F1-score:\", f1)\n",
    "print(\"precision:\", precision)\n",
    "print(\"recall:\", recall)\n",
    "print(\"AUC-PRC:\", auc_prc)"
   ]
  },
  {
   "cell_type": "code",
   "execution_count": 22,
   "id": "60c01bf6",
   "metadata": {
    "execution": {
     "iopub.execute_input": "2024-05-02T14:37:31.196540Z",
     "iopub.status.busy": "2024-05-02T14:37:31.195783Z",
     "iopub.status.idle": "2024-05-02T14:37:31.205264Z",
     "shell.execute_reply": "2024-05-02T14:37:31.204017Z"
    },
    "papermill": {
     "duration": 0.028526,
     "end_time": "2024-05-02T14:37:31.207925",
     "exception": false,
     "start_time": "2024-05-02T14:37:31.179399",
     "status": "completed"
    },
    "tags": []
   },
   "outputs": [
    {
     "data": {
      "text/plain": [
       "array([[7611,  367],\n",
       "       [ 265, 1880]])"
      ]
     },
     "execution_count": 22,
     "metadata": {},
     "output_type": "execute_result"
    }
   ],
   "source": [
    "cm = confusion_matrix(balanced_y_test, y_pred)\n",
    "cm\n"
   ]
  },
  {
   "cell_type": "markdown",
   "id": "d8fc1a64",
   "metadata": {
    "papermill": {
     "duration": 0.013545,
     "end_time": "2024-05-02T14:37:31.236149",
     "exception": false,
     "start_time": "2024-05-02T14:37:31.222604",
     "status": "completed"
    },
    "tags": []
   },
   "source": [
    "# Model Tuning"
   ]
  },
  {
   "cell_type": "code",
   "execution_count": 23,
   "id": "5e9ef15b",
   "metadata": {
    "execution": {
     "iopub.execute_input": "2024-05-02T14:37:31.265988Z",
     "iopub.status.busy": "2024-05-02T14:37:31.265574Z",
     "iopub.status.idle": "2024-05-02T14:37:31.269548Z",
     "shell.execute_reply": "2024-05-02T14:37:31.268593Z"
    },
    "papermill": {
     "duration": 0.021788,
     "end_time": "2024-05-02T14:37:31.271893",
     "exception": false,
     "start_time": "2024-05-02T14:37:31.250105",
     "status": "completed"
    },
    "tags": []
   },
   "outputs": [],
   "source": [
    "# TODO Osama"
   ]
  },
  {
   "cell_type": "markdown",
   "id": "44fb2353",
   "metadata": {
    "papermill": {
     "duration": 0.014025,
     "end_time": "2024-05-02T14:37:31.301250",
     "exception": false,
     "start_time": "2024-05-02T14:37:31.287225",
     "status": "completed"
    },
    "tags": []
   },
   "source": [
    "# Deployment and Monitoring:"
   ]
  },
  {
   "cell_type": "code",
   "execution_count": 24,
   "id": "0b9f7eea",
   "metadata": {
    "execution": {
     "iopub.execute_input": "2024-05-02T14:37:31.332220Z",
     "iopub.status.busy": "2024-05-02T14:37:31.331397Z",
     "iopub.status.idle": "2024-05-02T14:37:31.336361Z",
     "shell.execute_reply": "2024-05-02T14:37:31.335313Z"
    },
    "papermill": {
     "duration": 0.023142,
     "end_time": "2024-05-02T14:37:31.339181",
     "exception": false,
     "start_time": "2024-05-02T14:37:31.316039",
     "status": "completed"
    },
    "tags": []
   },
   "outputs": [],
   "source": [
    "# TODO Saed"
   ]
  }
 ],
 "metadata": {
  "kaggle": {
   "accelerator": "none",
   "dataSources": [
    {
     "datasetId": 4869235,
     "sourceId": 8215243,
     "sourceType": "datasetVersion"
    }
   ],
   "dockerImageVersionId": 30698,
   "isGpuEnabled": false,
   "isInternetEnabled": true,
   "language": "python",
   "sourceType": "notebook"
  },
  "kernelspec": {
   "display_name": "Python 3",
   "language": "python",
   "name": "python3"
  },
  "language_info": {
   "codemirror_mode": {
    "name": "ipython",
    "version": 3
   },
   "file_extension": ".py",
   "mimetype": "text/x-python",
   "name": "python",
   "nbconvert_exporter": "python",
   "pygments_lexer": "ipython3",
   "version": "3.10.13"
  },
  "papermill": {
   "default_parameters": {},
   "duration": 222.456249,
   "end_time": "2024-05-02T14:37:32.076366",
   "environment_variables": {},
   "exception": null,
   "input_path": "__notebook__.ipynb",
   "output_path": "__notebook__.ipynb",
   "parameters": {},
   "start_time": "2024-05-02T14:33:49.620117",
   "version": "2.5.0"
  }
 },
 "nbformat": 4,
 "nbformat_minor": 5
}
