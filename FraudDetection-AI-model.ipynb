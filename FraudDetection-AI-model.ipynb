{
 "cells": [
  {
   "cell_type": "markdown",
   "id": "51b77ceb",
   "metadata": {
    "papermill": {
     "duration": 0.006158,
     "end_time": "2024-05-01T10:40:15.496257",
     "exception": false,
     "start_time": "2024-05-01T10:40:15.490099",
     "status": "completed"
    },
    "tags": []
   },
   "source": [
    "# Imports"
   ]
  },
  {
   "cell_type": "code",
   "execution_count": 1,
   "id": "88b4c8e4",
   "metadata": {
    "_cell_guid": "b1076dfc-b9ad-4769-8c92-a6c4dae69d19",
    "_uuid": "8f2839f25d086af736a60e9eeb907d3b93b6e0e5",
    "execution": {
     "iopub.execute_input": "2024-05-01T10:40:15.509211Z",
     "iopub.status.busy": "2024-05-01T10:40:15.508826Z",
     "iopub.status.idle": "2024-05-01T10:40:17.413289Z",
     "shell.execute_reply": "2024-05-01T10:40:17.412485Z"
    },
    "papermill": {
     "duration": 1.913574,
     "end_time": "2024-05-01T10:40:17.415699",
     "exception": false,
     "start_time": "2024-05-01T10:40:15.502125",
     "status": "completed"
    },
    "tags": []
   },
   "outputs": [],
   "source": [
    "# Hakim\n",
    "import numpy as np\n",
    "import pandas as pd\n",
    "from  sklearn.svm import *\n",
    "from sklearn.metrics import f1_score, precision_recall_curve, roc_auc_score\n",
    "import matplotlib.pyplot as plt\n",
    "from sklearn.inspection import DecisionBoundaryDisplay"
   ]
  },
  {
   "cell_type": "markdown",
   "id": "149da8fe",
   "metadata": {
    "papermill": {
     "duration": 0.005329,
     "end_time": "2024-05-01T10:40:17.426995",
     "exception": false,
     "start_time": "2024-05-01T10:40:17.421666",
     "status": "completed"
    },
    "tags": []
   },
   "source": [
    "# Data Preprocessing "
   ]
  },
  {
   "cell_type": "code",
   "execution_count": 2,
   "id": "8ac63980",
   "metadata": {
    "execution": {
     "iopub.execute_input": "2024-05-01T10:40:17.439418Z",
     "iopub.status.busy": "2024-05-01T10:40:17.438985Z",
     "iopub.status.idle": "2024-05-01T10:42:24.960456Z",
     "shell.execute_reply": "2024-05-01T10:42:24.959435Z"
    },
    "papermill": {
     "duration": 127.530631,
     "end_time": "2024-05-01T10:42:24.963160",
     "exception": false,
     "start_time": "2024-05-01T10:40:17.432529",
     "status": "completed"
    },
    "tags": []
   },
   "outputs": [],
   "source": [
    "# Hakim\n",
    "train_df=pd.read_csv('/kaggle/input/frauddetection-data/fraudTrain.csv')\n",
    "test_df=pd.read_excel('/kaggle/input/frauddetection-data/fraudTest.xlsx')"
   ]
  },
  {
   "cell_type": "code",
   "execution_count": 3,
   "id": "91c47ba1",
   "metadata": {
    "execution": {
     "iopub.execute_input": "2024-05-01T10:42:24.976717Z",
     "iopub.status.busy": "2024-05-01T10:42:24.975870Z",
     "iopub.status.idle": "2024-05-01T10:42:25.335176Z",
     "shell.execute_reply": "2024-05-01T10:42:25.334257Z"
    },
    "papermill": {
     "duration": 0.368397,
     "end_time": "2024-05-01T10:42:25.337615",
     "exception": false,
     "start_time": "2024-05-01T10:42:24.969218",
     "status": "completed"
    },
    "tags": []
   },
   "outputs": [
    {
     "data": {
      "text/html": [
       "<div>\n",
       "<style scoped>\n",
       "    .dataframe tbody tr th:only-of-type {\n",
       "        vertical-align: middle;\n",
       "    }\n",
       "\n",
       "    .dataframe tbody tr th {\n",
       "        vertical-align: top;\n",
       "    }\n",
       "\n",
       "    .dataframe thead th {\n",
       "        text-align: right;\n",
       "    }\n",
       "</style>\n",
       "<table border=\"1\" class=\"dataframe\">\n",
       "  <thead>\n",
       "    <tr style=\"text-align: right;\">\n",
       "      <th></th>\n",
       "      <th>ID</th>\n",
       "      <th>Time</th>\n",
       "      <th>Card Number</th>\n",
       "      <th>merchant</th>\n",
       "      <th>category</th>\n",
       "      <th>Amount</th>\n",
       "      <th>firstName</th>\n",
       "      <th>lastName</th>\n",
       "      <th>trans_num</th>\n",
       "      <th>is_fraud</th>\n",
       "      <th>category_index</th>\n",
       "      <th>merchant_index</th>\n",
       "    </tr>\n",
       "  </thead>\n",
       "  <tbody>\n",
       "    <tr>\n",
       "      <th>0</th>\n",
       "      <td>0</td>\n",
       "      <td>1/1/2019 0:00</td>\n",
       "      <td>2.700000e+15</td>\n",
       "      <td>fraud_Rippin, Kub and Mann</td>\n",
       "      <td>misc_net</td>\n",
       "      <td>4.97</td>\n",
       "      <td>Jennifer</td>\n",
       "      <td>Banks</td>\n",
       "      <td>0b242abb623afc578575680df30655b9</td>\n",
       "      <td>0.0</td>\n",
       "      <td>9</td>\n",
       "      <td>514</td>\n",
       "    </tr>\n",
       "    <tr>\n",
       "      <th>1</th>\n",
       "      <td>1</td>\n",
       "      <td>1/1/2019 0:00</td>\n",
       "      <td>6.300000e+11</td>\n",
       "      <td>fraud_Heller, Gutmann and Zieme</td>\n",
       "      <td>grocery_pos</td>\n",
       "      <td>107.23</td>\n",
       "      <td>Stephanie</td>\n",
       "      <td>Gill</td>\n",
       "      <td>1f76529f8574734946361c461b024d99</td>\n",
       "      <td>0.0</td>\n",
       "      <td>4</td>\n",
       "      <td>241</td>\n",
       "    </tr>\n",
       "    <tr>\n",
       "      <th>2</th>\n",
       "      <td>2</td>\n",
       "      <td>1/1/2019 0:00</td>\n",
       "      <td>3.890000e+13</td>\n",
       "      <td>fraud_Lind-Buckridge</td>\n",
       "      <td>entertainment</td>\n",
       "      <td>220.11</td>\n",
       "      <td>Edward</td>\n",
       "      <td>Sanchez</td>\n",
       "      <td>a1a22d70485983eac12b5b88dad1cf95</td>\n",
       "      <td>0.0</td>\n",
       "      <td>0</td>\n",
       "      <td>390</td>\n",
       "    </tr>\n",
       "    <tr>\n",
       "      <th>3</th>\n",
       "      <td>3</td>\n",
       "      <td>1/1/2019 0:01</td>\n",
       "      <td>3.530000e+15</td>\n",
       "      <td>fraud_Kutch, Hermiston and Farrell</td>\n",
       "      <td>gas_transport</td>\n",
       "      <td>45.00</td>\n",
       "      <td>Jeremy</td>\n",
       "      <td>White</td>\n",
       "      <td>6b849c168bdad6f867558c3793159a81</td>\n",
       "      <td>0.0</td>\n",
       "      <td>2</td>\n",
       "      <td>360</td>\n",
       "    </tr>\n",
       "    <tr>\n",
       "      <th>4</th>\n",
       "      <td>4</td>\n",
       "      <td>1/1/2019 0:03</td>\n",
       "      <td>3.760000e+14</td>\n",
       "      <td>fraud_Keeling-Crist</td>\n",
       "      <td>misc_pos</td>\n",
       "      <td>41.96</td>\n",
       "      <td>Tyler</td>\n",
       "      <td>Garcia</td>\n",
       "      <td>a41d7549acf90789359a9aa5346dcb46</td>\n",
       "      <td>0.0</td>\n",
       "      <td>10</td>\n",
       "      <td>297</td>\n",
       "    </tr>\n",
       "  </tbody>\n",
       "</table>\n",
       "</div>"
      ],
      "text/plain": [
       "   ID           Time   Card Number                            merchant  \\\n",
       "0   0  1/1/2019 0:00  2.700000e+15          fraud_Rippin, Kub and Mann   \n",
       "1   1  1/1/2019 0:00  6.300000e+11     fraud_Heller, Gutmann and Zieme   \n",
       "2   2  1/1/2019 0:00  3.890000e+13                fraud_Lind-Buckridge   \n",
       "3   3  1/1/2019 0:01  3.530000e+15  fraud_Kutch, Hermiston and Farrell   \n",
       "4   4  1/1/2019 0:03  3.760000e+14                 fraud_Keeling-Crist   \n",
       "\n",
       "        category  Amount  firstName lastName  \\\n",
       "0       misc_net    4.97   Jennifer    Banks   \n",
       "1    grocery_pos  107.23  Stephanie     Gill   \n",
       "2  entertainment  220.11     Edward  Sanchez   \n",
       "3  gas_transport   45.00     Jeremy    White   \n",
       "4       misc_pos   41.96      Tyler   Garcia   \n",
       "\n",
       "                          trans_num  is_fraud  category_index  merchant_index  \n",
       "0  0b242abb623afc578575680df30655b9       0.0               9             514  \n",
       "1  1f76529f8574734946361c461b024d99       0.0               4             241  \n",
       "2  a1a22d70485983eac12b5b88dad1cf95       0.0               0             390  \n",
       "3  6b849c168bdad6f867558c3793159a81       0.0               2             360  \n",
       "4  a41d7549acf90789359a9aa5346dcb46       0.0              10             297  "
      ]
     },
     "execution_count": 3,
     "metadata": {},
     "output_type": "execute_result"
    }
   ],
   "source": [
    "\n",
    "train_df['category'] = train_df['category'].astype('category')\n",
    "train_df['category_index'] = train_df['category'].cat.codes\n",
    "\n",
    "train_df['merchant'] = train_df['merchant'].astype('category')\n",
    "train_df['merchant_index'] = train_df['merchant'].cat.codes\n",
    "train_df.head()\n",
    "\n",
    "\n",
    "# TODO Tebry"
   ]
  },
  {
   "cell_type": "markdown",
   "id": "52f6e015",
   "metadata": {
    "papermill": {
     "duration": 0.005962,
     "end_time": "2024-05-01T10:42:25.349888",
     "exception": false,
     "start_time": "2024-05-01T10:42:25.343926",
     "status": "completed"
    },
    "tags": []
   },
   "source": [
    "# Feature Engineering"
   ]
  },
  {
   "cell_type": "code",
   "execution_count": 4,
   "id": "3a5c505f",
   "metadata": {
    "execution": {
     "iopub.execute_input": "2024-05-01T10:42:25.362897Z",
     "iopub.status.busy": "2024-05-01T10:42:25.362576Z",
     "iopub.status.idle": "2024-05-01T10:42:27.975191Z",
     "shell.execute_reply": "2024-05-01T10:42:27.974285Z"
    },
    "papermill": {
     "duration": 2.621531,
     "end_time": "2024-05-01T10:42:27.977191",
     "exception": false,
     "start_time": "2024-05-01T10:42:25.355660",
     "status": "completed"
    },
    "tags": []
   },
   "outputs": [
    {
     "data": {
      "text/html": [
       "<div>\n",
       "<style scoped>\n",
       "    .dataframe tbody tr th:only-of-type {\n",
       "        vertical-align: middle;\n",
       "    }\n",
       "\n",
       "    .dataframe tbody tr th {\n",
       "        vertical-align: top;\n",
       "    }\n",
       "\n",
       "    .dataframe thead th {\n",
       "        text-align: right;\n",
       "    }\n",
       "</style>\n",
       "<table border=\"1\" class=\"dataframe\">\n",
       "  <thead>\n",
       "    <tr style=\"text-align: right;\">\n",
       "      <th></th>\n",
       "      <th>Amount</th>\n",
       "      <th>is_fraud</th>\n",
       "      <th>category_index</th>\n",
       "      <th>merchant_index</th>\n",
       "      <th>Amount_diff_avg</th>\n",
       "      <th>Time_diff_prev_transaction</th>\n",
       "    </tr>\n",
       "  </thead>\n",
       "  <tbody>\n",
       "    <tr>\n",
       "      <th>1</th>\n",
       "      <td>107.23</td>\n",
       "      <td>0.0</td>\n",
       "      <td>4</td>\n",
       "      <td>241</td>\n",
       "      <td>36.973843</td>\n",
       "      <td>0.000000</td>\n",
       "    </tr>\n",
       "    <tr>\n",
       "      <th>2</th>\n",
       "      <td>220.11</td>\n",
       "      <td>0.0</td>\n",
       "      <td>0</td>\n",
       "      <td>390</td>\n",
       "      <td>149.853843</td>\n",
       "      <td>0.000000</td>\n",
       "    </tr>\n",
       "    <tr>\n",
       "      <th>3</th>\n",
       "      <td>45.00</td>\n",
       "      <td>0.0</td>\n",
       "      <td>2</td>\n",
       "      <td>360</td>\n",
       "      <td>-25.256157</td>\n",
       "      <td>0.016667</td>\n",
       "    </tr>\n",
       "    <tr>\n",
       "      <th>4</th>\n",
       "      <td>41.96</td>\n",
       "      <td>0.0</td>\n",
       "      <td>10</td>\n",
       "      <td>297</td>\n",
       "      <td>-28.296157</td>\n",
       "      <td>0.033333</td>\n",
       "    </tr>\n",
       "    <tr>\n",
       "      <th>5</th>\n",
       "      <td>94.63</td>\n",
       "      <td>0.0</td>\n",
       "      <td>2</td>\n",
       "      <td>607</td>\n",
       "      <td>24.373843</td>\n",
       "      <td>0.016667</td>\n",
       "    </tr>\n",
       "  </tbody>\n",
       "</table>\n",
       "</div>"
      ],
      "text/plain": [
       "   Amount  is_fraud  category_index  merchant_index  Amount_diff_avg  \\\n",
       "1  107.23       0.0               4             241        36.973843   \n",
       "2  220.11       0.0               0             390       149.853843   \n",
       "3   45.00       0.0               2             360       -25.256157   \n",
       "4   41.96       0.0              10             297       -28.296157   \n",
       "5   94.63       0.0               2             607        24.373843   \n",
       "\n",
       "   Time_diff_prev_transaction  \n",
       "1                    0.000000  \n",
       "2                    0.000000  \n",
       "3                    0.016667  \n",
       "4                    0.033333  \n",
       "5                    0.016667  "
      ]
     },
     "execution_count": 4,
     "metadata": {},
     "output_type": "execute_result"
    }
   ],
   "source": [
    "# TODO Tebry\n",
    "\n",
    "# Create a copy of the DataFrame to avoid modifying the original DataFrame\n",
    "train_df_copy = train_df.copy()\n",
    "\n",
    "# Convert the 'Time' column to datetime format\n",
    "train_df_copy['Time'] = pd.to_datetime(train_df_copy['Time'])\n",
    "\n",
    "\n",
    "# Calculate the average transaction amount of all transactions\n",
    "average_amount_all = train_df_copy['Amount'].mean()\n",
    "\n",
    "# Calculate the difference between current transaction amount and average of all transactions\n",
    "train_df_copy['Amount_diff_avg'] = train_df_copy['Amount'] - average_amount_all\n",
    "\n",
    "# Calculate the time difference between previous transactions for each card in hours\n",
    "time_diff_seconds = train_df_copy['Time'].diff().dt.total_seconds() % (24 * 3600)\n",
    "train_df_copy['Time_diff_prev_transaction'] = time_diff_seconds / 3600  \n",
    "\n",
    "columns_to_drop = ['ID', 'Time', 'Card Number', 'merchant', 'category', 'firstName', 'lastName', 'trans_num']\n",
    "train_df_copy.drop(columns=columns_to_drop, inplace=True)\n",
    "\n",
    "train_df_copy.dropna(inplace=True)\n",
    "train_df_copy.head()\n"
   ]
  },
  {
   "cell_type": "code",
   "execution_count": 5,
   "id": "59533cc1",
   "metadata": {
    "execution": {
     "iopub.execute_input": "2024-05-01T10:42:27.990711Z",
     "iopub.status.busy": "2024-05-01T10:42:27.990416Z",
     "iopub.status.idle": "2024-05-01T10:42:27.994305Z",
     "shell.execute_reply": "2024-05-01T10:42:27.993499Z"
    },
    "papermill": {
     "duration": 0.012665,
     "end_time": "2024-05-01T10:42:27.996097",
     "exception": false,
     "start_time": "2024-05-01T10:42:27.983432",
     "status": "completed"
    },
    "tags": []
   },
   "outputs": [],
   "source": [
    "y_train=train_df_copy['is_fraud']\n",
    "# should work after tebry does the test_df\n",
    "# y_test=test_df_copy['is_fraud']"
   ]
  },
  {
   "cell_type": "code",
   "execution_count": 6,
   "id": "4192b2b8",
   "metadata": {
    "execution": {
     "iopub.execute_input": "2024-05-01T10:42:28.009456Z",
     "iopub.status.busy": "2024-05-01T10:42:28.009196Z",
     "iopub.status.idle": "2024-05-01T10:42:28.024919Z",
     "shell.execute_reply": "2024-05-01T10:42:28.024252Z"
    },
    "papermill": {
     "duration": 0.024692,
     "end_time": "2024-05-01T10:42:28.026712",
     "exception": false,
     "start_time": "2024-05-01T10:42:28.002020",
     "status": "completed"
    },
    "tags": []
   },
   "outputs": [],
   "source": [
    "x_train=train_df_copy.drop('is_fraud',axis=1)\n",
    "# should work after tebry does the test_df\n",
    "# x_test=test_df_copy.drop('is_fraud',axis=1)"
   ]
  },
  {
   "cell_type": "code",
   "execution_count": 7,
   "id": "63764b2d",
   "metadata": {
    "execution": {
     "iopub.execute_input": "2024-05-01T10:42:28.039503Z",
     "iopub.status.busy": "2024-05-01T10:42:28.039261Z",
     "iopub.status.idle": "2024-05-01T10:42:28.044094Z",
     "shell.execute_reply": "2024-05-01T10:42:28.043279Z"
    },
    "papermill": {
     "duration": 0.013502,
     "end_time": "2024-05-01T10:42:28.046086",
     "exception": false,
     "start_time": "2024-05-01T10:42:28.032584",
     "status": "completed"
    },
    "tags": []
   },
   "outputs": [],
   "source": [
    "y_train=np.array(y_train)\n",
    "# y_test=np.array(y_test)"
   ]
  },
  {
   "cell_type": "markdown",
   "id": "1670edd5",
   "metadata": {
    "papermill": {
     "duration": 0.005632,
     "end_time": "2024-05-01T10:42:28.058538",
     "exception": false,
     "start_time": "2024-05-01T10:42:28.052906",
     "status": "completed"
    },
    "tags": []
   },
   "source": [
    "# Model Selection and Training"
   ]
  },
  {
   "cell_type": "code",
   "execution_count": 8,
   "id": "0f5077aa",
   "metadata": {
    "execution": {
     "iopub.execute_input": "2024-05-01T10:42:28.071214Z",
     "iopub.status.busy": "2024-05-01T10:42:28.070955Z",
     "iopub.status.idle": "2024-05-01T10:42:28.074485Z",
     "shell.execute_reply": "2024-05-01T10:42:28.073659Z"
    },
    "papermill": {
     "duration": 0.01211,
     "end_time": "2024-05-01T10:42:28.076433",
     "exception": false,
     "start_time": "2024-05-01T10:42:28.064323",
     "status": "completed"
    },
    "tags": []
   },
   "outputs": [],
   "source": [
    "# TODO Hakim and Ahmad\n",
    "# another option\n",
    "# model=LinearSVC(max_iter=2500)\n",
    "# model.fit(x_train.head(10000),y_train[:10000])\n"
   ]
  },
  {
   "cell_type": "code",
   "execution_count": 9,
   "id": "e9473c39",
   "metadata": {
    "execution": {
     "iopub.execute_input": "2024-05-01T10:42:28.089185Z",
     "iopub.status.busy": "2024-05-01T10:42:28.088935Z",
     "iopub.status.idle": "2024-05-01T10:42:34.090631Z",
     "shell.execute_reply": "2024-05-01T10:42:34.089699Z"
    },
    "papermill": {
     "duration": 6.010462,
     "end_time": "2024-05-01T10:42:34.092736",
     "exception": false,
     "start_time": "2024-05-01T10:42:28.082274",
     "status": "completed"
    },
    "tags": []
   },
   "outputs": [
    {
     "data": {
      "text/html": [
       "<style>#sk-container-id-1 {color: black;background-color: white;}#sk-container-id-1 pre{padding: 0;}#sk-container-id-1 div.sk-toggleable {background-color: white;}#sk-container-id-1 label.sk-toggleable__label {cursor: pointer;display: block;width: 100%;margin-bottom: 0;padding: 0.3em;box-sizing: border-box;text-align: center;}#sk-container-id-1 label.sk-toggleable__label-arrow:before {content: \"▸\";float: left;margin-right: 0.25em;color: #696969;}#sk-container-id-1 label.sk-toggleable__label-arrow:hover:before {color: black;}#sk-container-id-1 div.sk-estimator:hover label.sk-toggleable__label-arrow:before {color: black;}#sk-container-id-1 div.sk-toggleable__content {max-height: 0;max-width: 0;overflow: hidden;text-align: left;background-color: #f0f8ff;}#sk-container-id-1 div.sk-toggleable__content pre {margin: 0.2em;color: black;border-radius: 0.25em;background-color: #f0f8ff;}#sk-container-id-1 input.sk-toggleable__control:checked~div.sk-toggleable__content {max-height: 200px;max-width: 100%;overflow: auto;}#sk-container-id-1 input.sk-toggleable__control:checked~label.sk-toggleable__label-arrow:before {content: \"▾\";}#sk-container-id-1 div.sk-estimator input.sk-toggleable__control:checked~label.sk-toggleable__label {background-color: #d4ebff;}#sk-container-id-1 div.sk-label input.sk-toggleable__control:checked~label.sk-toggleable__label {background-color: #d4ebff;}#sk-container-id-1 input.sk-hidden--visually {border: 0;clip: rect(1px 1px 1px 1px);clip: rect(1px, 1px, 1px, 1px);height: 1px;margin: -1px;overflow: hidden;padding: 0;position: absolute;width: 1px;}#sk-container-id-1 div.sk-estimator {font-family: monospace;background-color: #f0f8ff;border: 1px dotted black;border-radius: 0.25em;box-sizing: border-box;margin-bottom: 0.5em;}#sk-container-id-1 div.sk-estimator:hover {background-color: #d4ebff;}#sk-container-id-1 div.sk-parallel-item::after {content: \"\";width: 100%;border-bottom: 1px solid gray;flex-grow: 1;}#sk-container-id-1 div.sk-label:hover label.sk-toggleable__label {background-color: #d4ebff;}#sk-container-id-1 div.sk-serial::before {content: \"\";position: absolute;border-left: 1px solid gray;box-sizing: border-box;top: 0;bottom: 0;left: 50%;z-index: 0;}#sk-container-id-1 div.sk-serial {display: flex;flex-direction: column;align-items: center;background-color: white;padding-right: 0.2em;padding-left: 0.2em;position: relative;}#sk-container-id-1 div.sk-item {position: relative;z-index: 1;}#sk-container-id-1 div.sk-parallel {display: flex;align-items: stretch;justify-content: center;background-color: white;position: relative;}#sk-container-id-1 div.sk-item::before, #sk-container-id-1 div.sk-parallel-item::before {content: \"\";position: absolute;border-left: 1px solid gray;box-sizing: border-box;top: 0;bottom: 0;left: 50%;z-index: -1;}#sk-container-id-1 div.sk-parallel-item {display: flex;flex-direction: column;z-index: 1;position: relative;background-color: white;}#sk-container-id-1 div.sk-parallel-item:first-child::after {align-self: flex-end;width: 50%;}#sk-container-id-1 div.sk-parallel-item:last-child::after {align-self: flex-start;width: 50%;}#sk-container-id-1 div.sk-parallel-item:only-child::after {width: 0;}#sk-container-id-1 div.sk-dashed-wrapped {border: 1px dashed gray;margin: 0 0.4em 0.5em 0.4em;box-sizing: border-box;padding-bottom: 0.4em;background-color: white;}#sk-container-id-1 div.sk-label label {font-family: monospace;font-weight: bold;display: inline-block;line-height: 1.2em;}#sk-container-id-1 div.sk-label-container {text-align: center;}#sk-container-id-1 div.sk-container {/* jupyter's `normalize.less` sets `[hidden] { display: none; }` but bootstrap.min.css set `[hidden] { display: none !important; }` so we also need the `!important` here to be able to override the default hidden behavior on the sphinx rendered scikit-learn.org. See: https://github.com/scikit-learn/scikit-learn/issues/21755 */display: inline-block !important;position: relative;}#sk-container-id-1 div.sk-text-repr-fallback {display: none;}</style><div id=\"sk-container-id-1\" class=\"sk-top-container\"><div class=\"sk-text-repr-fallback\"><pre>SVC(gamma=0.5)</pre><b>In a Jupyter environment, please rerun this cell to show the HTML representation or trust the notebook. <br />On GitHub, the HTML representation is unable to render, please try loading this page with nbviewer.org.</b></div><div class=\"sk-container\" hidden><div class=\"sk-item\"><div class=\"sk-estimator sk-toggleable\"><input class=\"sk-toggleable__control sk-hidden--visually\" id=\"sk-estimator-id-1\" type=\"checkbox\" checked><label for=\"sk-estimator-id-1\" class=\"sk-toggleable__label sk-toggleable__label-arrow\">SVC</label><div class=\"sk-toggleable__content\"><pre>SVC(gamma=0.5)</pre></div></div></div></div></div>"
      ],
      "text/plain": [
       "SVC(gamma=0.5)"
      ]
     },
     "execution_count": 9,
     "metadata": {},
     "output_type": "execute_result"
    }
   ],
   "source": [
    "svm = SVC(kernel=\"rbf\", gamma=0.5, C=1.0)\n",
    "# until now it is unnecessary to use al the data\n",
    "svm.fit(x_train.head(10000), y_train[:10000])"
   ]
  },
  {
   "cell_type": "markdown",
   "id": "84937f93",
   "metadata": {
    "papermill": {
     "duration": 0.006098,
     "end_time": "2024-05-01T10:42:34.105208",
     "exception": false,
     "start_time": "2024-05-01T10:42:34.099110",
     "status": "completed"
    },
    "tags": []
   },
   "source": [
    "# Model Evaluation"
   ]
  },
  {
   "cell_type": "code",
   "execution_count": 10,
   "id": "ce7c0767",
   "metadata": {
    "execution": {
     "iopub.execute_input": "2024-05-01T10:42:34.118705Z",
     "iopub.status.busy": "2024-05-01T10:42:34.118435Z",
     "iopub.status.idle": "2024-05-01T10:42:38.174721Z",
     "shell.execute_reply": "2024-05-01T10:42:38.173840Z"
    },
    "papermill": {
     "duration": 4.06563,
     "end_time": "2024-05-01T10:42:38.176932",
     "exception": false,
     "start_time": "2024-05-01T10:42:34.111302",
     "status": "completed"
    },
    "tags": []
   },
   "outputs": [
    {
     "data": {
      "text/plain": [
       "0.9997"
      ]
     },
     "execution_count": 10,
     "metadata": {},
     "output_type": "execute_result"
    }
   ],
   "source": [
    "svm.score(x_train.head(10000), y_train[:10000])"
   ]
  },
  {
   "cell_type": "code",
   "execution_count": 11,
   "id": "62027160",
   "metadata": {
    "execution": {
     "iopub.execute_input": "2024-05-01T10:42:38.191258Z",
     "iopub.status.busy": "2024-05-01T10:42:38.190993Z",
     "iopub.status.idle": "2024-05-01T10:42:38.203920Z",
     "shell.execute_reply": "2024-05-01T10:42:38.203073Z"
    },
    "papermill": {
     "duration": 0.022197,
     "end_time": "2024-05-01T10:42:38.205820",
     "exception": false,
     "start_time": "2024-05-01T10:42:38.183623",
     "status": "completed"
    },
    "tags": []
   },
   "outputs": [
    {
     "data": {
      "text/html": [
       "<div>\n",
       "<style scoped>\n",
       "    .dataframe tbody tr th:only-of-type {\n",
       "        vertical-align: middle;\n",
       "    }\n",
       "\n",
       "    .dataframe tbody tr th {\n",
       "        vertical-align: top;\n",
       "    }\n",
       "\n",
       "    .dataframe thead th {\n",
       "        text-align: right;\n",
       "    }\n",
       "</style>\n",
       "<table border=\"1\" class=\"dataframe\">\n",
       "  <thead>\n",
       "    <tr style=\"text-align: right;\">\n",
       "      <th></th>\n",
       "      <th>Amount</th>\n",
       "      <th>category_index</th>\n",
       "      <th>merchant_index</th>\n",
       "      <th>Amount_diff_avg</th>\n",
       "      <th>Time_diff_prev_transaction</th>\n",
       "    </tr>\n",
       "  </thead>\n",
       "  <tbody>\n",
       "    <tr>\n",
       "      <th>10001</th>\n",
       "      <td>9.46</td>\n",
       "      <td>9</td>\n",
       "      <td>661</td>\n",
       "      <td>-60.796157</td>\n",
       "      <td>0.016667</td>\n",
       "    </tr>\n",
       "    <tr>\n",
       "      <th>10002</th>\n",
       "      <td>61.05</td>\n",
       "      <td>2</td>\n",
       "      <td>208</td>\n",
       "      <td>-9.206157</td>\n",
       "      <td>0.016667</td>\n",
       "    </tr>\n",
       "    <tr>\n",
       "      <th>10003</th>\n",
       "      <td>84.23</td>\n",
       "      <td>2</td>\n",
       "      <td>181</td>\n",
       "      <td>13.973843</td>\n",
       "      <td>0.016667</td>\n",
       "    </tr>\n",
       "    <tr>\n",
       "      <th>10004</th>\n",
       "      <td>828.23</td>\n",
       "      <td>10</td>\n",
       "      <td>222</td>\n",
       "      <td>757.973843</td>\n",
       "      <td>0.000000</td>\n",
       "    </tr>\n",
       "    <tr>\n",
       "      <th>10005</th>\n",
       "      <td>88.61</td>\n",
       "      <td>12</td>\n",
       "      <td>630</td>\n",
       "      <td>18.353843</td>\n",
       "      <td>0.033333</td>\n",
       "    </tr>\n",
       "    <tr>\n",
       "      <th>...</th>\n",
       "      <td>...</td>\n",
       "      <td>...</td>\n",
       "      <td>...</td>\n",
       "      <td>...</td>\n",
       "      <td>...</td>\n",
       "    </tr>\n",
       "    <tr>\n",
       "      <th>19996</th>\n",
       "      <td>2.04</td>\n",
       "      <td>13</td>\n",
       "      <td>48</td>\n",
       "      <td>-68.216157</td>\n",
       "      <td>0.033333</td>\n",
       "    </tr>\n",
       "    <tr>\n",
       "      <th>19997</th>\n",
       "      <td>38.52</td>\n",
       "      <td>3</td>\n",
       "      <td>578</td>\n",
       "      <td>-31.736157</td>\n",
       "      <td>0.016667</td>\n",
       "    </tr>\n",
       "    <tr>\n",
       "      <th>19998</th>\n",
       "      <td>110.12</td>\n",
       "      <td>4</td>\n",
       "      <td>268</td>\n",
       "      <td>39.863843</td>\n",
       "      <td>0.000000</td>\n",
       "    </tr>\n",
       "    <tr>\n",
       "      <th>19999</th>\n",
       "      <td>52.22</td>\n",
       "      <td>2</td>\n",
       "      <td>321</td>\n",
       "      <td>-18.036157</td>\n",
       "      <td>0.016667</td>\n",
       "    </tr>\n",
       "    <tr>\n",
       "      <th>20000</th>\n",
       "      <td>189.39</td>\n",
       "      <td>12</td>\n",
       "      <td>238</td>\n",
       "      <td>119.133843</td>\n",
       "      <td>0.000000</td>\n",
       "    </tr>\n",
       "  </tbody>\n",
       "</table>\n",
       "<p>10000 rows × 5 columns</p>\n",
       "</div>"
      ],
      "text/plain": [
       "       Amount  category_index  merchant_index  Amount_diff_avg  \\\n",
       "10001    9.46               9             661       -60.796157   \n",
       "10002   61.05               2             208        -9.206157   \n",
       "10003   84.23               2             181        13.973843   \n",
       "10004  828.23              10             222       757.973843   \n",
       "10005   88.61              12             630        18.353843   \n",
       "...       ...             ...             ...              ...   \n",
       "19996    2.04              13              48       -68.216157   \n",
       "19997   38.52               3             578       -31.736157   \n",
       "19998  110.12               4             268        39.863843   \n",
       "19999   52.22               2             321       -18.036157   \n",
       "20000  189.39              12             238       119.133843   \n",
       "\n",
       "       Time_diff_prev_transaction  \n",
       "10001                    0.016667  \n",
       "10002                    0.016667  \n",
       "10003                    0.016667  \n",
       "10004                    0.000000  \n",
       "10005                    0.033333  \n",
       "...                           ...  \n",
       "19996                    0.033333  \n",
       "19997                    0.016667  \n",
       "19998                    0.000000  \n",
       "19999                    0.016667  \n",
       "20000                    0.000000  \n",
       "\n",
       "[10000 rows x 5 columns]"
      ]
     },
     "execution_count": 11,
     "metadata": {},
     "output_type": "execute_result"
    }
   ],
   "source": [
    "x_train[10000:20000]"
   ]
  },
  {
   "cell_type": "code",
   "execution_count": 12,
   "id": "5050dde0",
   "metadata": {
    "execution": {
     "iopub.execute_input": "2024-05-01T10:42:38.220467Z",
     "iopub.status.busy": "2024-05-01T10:42:38.219914Z",
     "iopub.status.idle": "2024-05-01T10:42:42.302207Z",
     "shell.execute_reply": "2024-05-01T10:42:42.300944Z"
    },
    "papermill": {
     "duration": 4.09167,
     "end_time": "2024-05-01T10:42:42.304216",
     "exception": false,
     "start_time": "2024-05-01T10:42:38.212546",
     "status": "completed"
    },
    "tags": []
   },
   "outputs": [
    {
     "name": "stdout",
     "output_type": "stream",
     "text": [
      "F1-score: 0.0\n",
      "AUC-PRC: 0.5\n"
     ]
    }
   ],
   "source": [
    "# TODO Watany me4 h3ml 7aga\n",
    "y_pred = svm.predict(x_train[10000:20000])\n",
    "\n",
    "f1 = f1_score(y_train[10000:20000], y_pred)\n",
    "precision, recall, _ = precision_recall_curve(y_train[10000:20000], y_pred)\n",
    "auc_prc = roc_auc_score(y_train[10000:20000], y_pred)\n",
    "\n",
    "print(\"F1-score:\", f1)\n",
    "print(\"AUC-PRC:\", auc_prc)"
   ]
  },
  {
   "cell_type": "markdown",
   "id": "107fa574",
   "metadata": {
    "papermill": {
     "duration": 0.006492,
     "end_time": "2024-05-01T10:42:42.317557",
     "exception": false,
     "start_time": "2024-05-01T10:42:42.311065",
     "status": "completed"
    },
    "tags": []
   },
   "source": [
    "# Model Tuning"
   ]
  },
  {
   "cell_type": "code",
   "execution_count": 13,
   "id": "64dba7c0",
   "metadata": {
    "execution": {
     "iopub.execute_input": "2024-05-01T10:42:42.336119Z",
     "iopub.status.busy": "2024-05-01T10:42:42.335738Z",
     "iopub.status.idle": "2024-05-01T10:42:42.340644Z",
     "shell.execute_reply": "2024-05-01T10:42:42.339755Z"
    },
    "papermill": {
     "duration": 0.017126,
     "end_time": "2024-05-01T10:42:42.342592",
     "exception": false,
     "start_time": "2024-05-01T10:42:42.325466",
     "status": "completed"
    },
    "tags": []
   },
   "outputs": [],
   "source": [
    "# TODO Osama"
   ]
  },
  {
   "cell_type": "markdown",
   "id": "8cb02856",
   "metadata": {
    "papermill": {
     "duration": 0.00848,
     "end_time": "2024-05-01T10:42:42.359348",
     "exception": false,
     "start_time": "2024-05-01T10:42:42.350868",
     "status": "completed"
    },
    "tags": []
   },
   "source": [
    "# Deployment and Monitoring:"
   ]
  },
  {
   "cell_type": "code",
   "execution_count": 14,
   "id": "a33dfebd",
   "metadata": {
    "execution": {
     "iopub.execute_input": "2024-05-01T10:42:42.375409Z",
     "iopub.status.busy": "2024-05-01T10:42:42.375091Z",
     "iopub.status.idle": "2024-05-01T10:42:42.379859Z",
     "shell.execute_reply": "2024-05-01T10:42:42.378648Z"
    },
    "papermill": {
     "duration": 0.015515,
     "end_time": "2024-05-01T10:42:42.382378",
     "exception": false,
     "start_time": "2024-05-01T10:42:42.366863",
     "status": "completed"
    },
    "tags": []
   },
   "outputs": [],
   "source": [
    "# TODO Saed"
   ]
  }
 ],
 "metadata": {
  "kaggle": {
   "accelerator": "gpu",
   "dataSources": [
    {
     "datasetId": 4869235,
     "sourceId": 8215243,
     "sourceType": "datasetVersion"
    }
   ],
   "dockerImageVersionId": 30698,
   "isGpuEnabled": true,
   "isInternetEnabled": true,
   "language": "python",
   "sourceType": "notebook"
  },
  "kernelspec": {
   "display_name": "Python 3",
   "language": "python",
   "name": "python3"
  },
  "language_info": {
   "codemirror_mode": {
    "name": "ipython",
    "version": 3
   },
   "file_extension": ".py",
   "mimetype": "text/x-python",
   "name": "python",
   "nbconvert_exporter": "python",
   "pygments_lexer": "ipython3",
   "version": "3.10.13"
  },
  "papermill": {
   "default_parameters": {},
   "duration": 150.054479,
   "end_time": "2024-05-01T10:42:42.908000",
   "environment_variables": {},
   "exception": null,
   "input_path": "__notebook__.ipynb",
   "output_path": "__notebook__.ipynb",
   "parameters": {},
   "start_time": "2024-05-01T10:40:12.853521",
   "version": "2.5.0"
  }
 },
 "nbformat": 4,
 "nbformat_minor": 5
}
